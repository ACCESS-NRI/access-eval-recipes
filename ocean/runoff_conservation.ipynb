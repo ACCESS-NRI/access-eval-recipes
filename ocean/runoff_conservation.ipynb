{
 "cells": [
  {
   "cell_type": "markdown",
   "id": "4e7979a0-79be-4ff4-b594-fe7cd1881dc1",
   "metadata": {},
   "source": [
    "# Runoff in OM3"
   ]
  },
  {
   "cell_type": "markdown",
   "id": "e8a198ca-cf8a-4d67-8e64-5ba6fd09230b",
   "metadata": {},
   "source": [
    "In ACCESS-OM3 runoff is prescribed from the DROF (Data Run Off) component and passed through to mediator to MOM6 (the ocean model). We can lose or gain water at each of these steps, but the goal is the total volume of runoff entering MOM6 is the same as the total volume of run whcih originated in the DROF."
   ]
  },
  {
   "cell_type": "code",
   "execution_count": 1,
   "id": "2e75b29b-6a28-4aed-a5a3-00efda594aef",
   "metadata": {
    "execution": {
     "iopub.execute_input": "2025-01-09T04:17:43.114003Z",
     "iopub.status.busy": "2025-01-09T04:17:43.113842Z",
     "iopub.status.idle": "2025-01-09T04:17:43.119984Z",
     "shell.execute_reply": "2025-01-09T04:17:43.119051Z",
     "shell.execute_reply.started": "2025-01-09T04:17:43.113986Z"
    }
   },
   "outputs": [],
   "source": [
    "EARTH_R = 3.71229E6"
   ]
  },
  {
   "cell_type": "code",
   "execution_count": 2,
   "id": "10d9c451-80cc-4d06-9a1a-ccca65a5f947",
   "metadata": {
    "execution": {
     "iopub.execute_input": "2025-01-09T04:17:43.121899Z",
     "iopub.status.busy": "2025-01-09T04:17:43.121419Z",
     "iopub.status.idle": "2025-01-09T04:17:43.138282Z",
     "shell.execute_reply": "2025-01-09T04:17:43.137158Z",
     "shell.execute_reply.started": "2025-01-09T04:17:43.121853Z"
    }
   },
   "outputs": [],
   "source": [
    "ROF_SOURCE_F = [\n",
    "    '/g/data/vk83/configurations/inputs/JRA-55/RYF/v1-4/data/RYF.licalvf.1990_1991.nc', \n",
    "    '/g/data/vk83/configurations/inputs/JRA-55/RYF/v1-4/data/RYF.friver.1990_1991.nc',\n",
    "    '/g/data/qv56/replicas/input4MIPs/CMIP6/OMIP/MRI/MRI-JRA55-do-1-4-0/ocean/fx/areacello/gr/v20190429/areacello_input4MIPs_atmosphericState_OMIP_MRI-JRA55-do-1-4-0_gr.nc' # area\n",
    "]"
   ]
  },
  {
   "cell_type": "code",
   "execution_count": 3,
   "id": "de5ec267-5123-4e99-96d9-0c3d9c9cfbc1",
   "metadata": {
    "execution": {
     "iopub.execute_input": "2025-01-09T04:17:43.140383Z",
     "iopub.status.busy": "2025-01-09T04:17:43.139809Z",
     "iopub.status.idle": "2025-01-09T04:17:43.150899Z",
     "shell.execute_reply": "2025-01-09T04:17:43.149853Z",
     "shell.execute_reply.started": "2025-01-09T04:17:43.140336Z"
    }
   },
   "outputs": [],
   "source": [
    "ROF_MESH_F = '/g/data/vk83/configurations/inputs/access-om3/share/meshes/share/2024.09.16/JRA55do-drof-ESMFmesh.nc'"
   ]
  },
  {
   "cell_type": "code",
   "execution_count": 4,
   "id": "c00a412d-e89e-4e30-9fcf-1c9ca97daac8",
   "metadata": {
    "execution": {
     "iopub.execute_input": "2025-01-09T04:17:43.273645Z",
     "iopub.status.busy": "2025-01-09T04:17:43.272652Z",
     "iopub.status.idle": "2025-01-09T04:17:43.278349Z",
     "shell.execute_reply": "2025-01-09T04:17:43.277282Z",
     "shell.execute_reply.started": "2025-01-09T04:17:43.273595Z"
    }
   },
   "outputs": [],
   "source": [
    "MODEL_MESH_F = '/g/data/vk83/experiments/inputs/access-om3/share/meshes/global.1deg/2024.01.25/access-om2-1deg-ESMFmesh.nc'"
   ]
  },
  {
   "cell_type": "markdown",
   "id": "c1571cb4-6a45-4e3c-bab1-9f0868cbdd04",
   "metadata": {},
   "source": [
    "The experiment output used for demonstration:"
   ]
  },
  {
   "cell_type": "code",
   "execution_count": 5,
   "id": "2f97d414-4096-44ee-8701-e06553523621",
   "metadata": {
    "execution": {
     "iopub.execute_input": "2025-01-09T04:17:43.981945Z",
     "iopub.status.busy": "2025-01-09T04:17:43.980863Z",
     "iopub.status.idle": "2025-01-09T04:17:43.986384Z",
     "shell.execute_reply": "2025-01-09T04:17:43.985293Z",
     "shell.execute_reply.started": "2025-01-09T04:17:43.981896Z"
    }
   },
   "outputs": [],
   "source": [
    "ARCHIVE_DIR = '/g/data/tm70/as2285/payu/MOM6-CICE6/archive/'"
   ]
  },
  {
   "cell_type": "code",
   "execution_count": 6,
   "id": "f1436268-3ce8-471f-9fc1-66de75802834",
   "metadata": {
    "execution": {
     "iopub.execute_input": "2025-01-09T04:17:44.365092Z",
     "iopub.status.busy": "2025-01-09T04:17:44.364186Z",
     "iopub.status.idle": "2025-01-09T04:17:44.374288Z",
     "shell.execute_reply": "2025-01-09T04:17:44.373185Z",
     "shell.execute_reply.started": "2025-01-09T04:17:44.365042Z"
    }
   },
   "outputs": [
    {
     "name": "stdout",
     "output_type": "stream",
     "text": [
      "/scratch/tm70/as2285/access-om3/archive/MOM6-CICE6\n"
     ]
    }
   ],
   "source": [
    "cd {ARCHIVE_DIR}"
   ]
  },
  {
   "cell_type": "code",
   "execution_count": 22,
   "id": "525b3c95-68d4-434c-beb6-af8e09e82a84",
   "metadata": {
    "execution": {
     "iopub.execute_input": "2025-01-09T04:18:52.858073Z",
     "iopub.status.busy": "2025-01-09T04:18:52.856172Z",
     "iopub.status.idle": "2025-01-09T04:18:52.947935Z",
     "shell.execute_reply": "2025-01-09T04:18:52.946947Z",
     "shell.execute_reply.started": "2025-01-09T04:18:52.858002Z"
    }
   },
   "outputs": [],
   "source": [
    "import xarray as xr\n",
    "import numpy as np\n",
    "import matplotlib.pyplot as plt\n",
    "import esmpy\n",
    "import cf_xarray\n",
    "\n",
    "from intake import open_esm_datastore\n",
    "from copy import copy\n",
    "from dask.distributed import Client"
   ]
  },
  {
   "cell_type": "code",
   "execution_count": 8,
   "id": "266d4544-a75f-4898-a55d-ef6082012f86",
   "metadata": {
    "execution": {
     "iopub.execute_input": "2025-01-09T04:17:49.004802Z",
     "iopub.status.busy": "2025-01-09T04:17:49.004331Z",
     "iopub.status.idle": "2025-01-09T04:17:51.830282Z",
     "shell.execute_reply": "2025-01-09T04:17:51.828104Z",
     "shell.execute_reply.started": "2025-01-09T04:17:49.004781Z"
    }
   },
   "outputs": [
    {
     "name": "stderr",
     "output_type": "stream",
     "text": [
      "/g/data/hh5/public/apps/miniconda3/envs/analysis3-24.04/lib/python3.10/site-packages/distributed/node.py:182: UserWarning: Port 8787 is already in use.\n",
      "Perhaps you already have a cluster running?\n",
      "Hosting the HTTP server on port 35085 instead\n",
      "  warnings.warn(\n"
     ]
    }
   ],
   "source": [
    "client = Client(threads_per_worker=1)"
   ]
  },
  {
   "cell_type": "code",
   "execution_count": 9,
   "id": "2a0e1eb5-8acb-4f62-b8d7-8f0948450117",
   "metadata": {
    "execution": {
     "iopub.execute_input": "2025-01-09T04:17:51.833264Z",
     "iopub.status.busy": "2025-01-09T04:17:51.832624Z",
     "iopub.status.idle": "2025-01-09T04:17:51.992303Z",
     "shell.execute_reply": "2025-01-09T04:17:51.988063Z",
     "shell.execute_reply.started": "2025-01-09T04:17:51.833213Z"
    }
   },
   "outputs": [
    {
     "data": {
      "text/html": [
       "<div>\n",
       "    <div style=\"width: 24px; height: 24px; background-color: #e1e1e1; border: 3px solid #9D9D9D; border-radius: 5px; position: absolute;\"> </div>\n",
       "    <div style=\"margin-left: 48px;\">\n",
       "        <h3 style=\"margin-bottom: 0px;\">Client</h3>\n",
       "        <p style=\"color: #9D9D9D; margin-bottom: 0px;\">Client-af89eef8-ce40-11ef-aaaa-00000080fe80</p>\n",
       "        <table style=\"width: 100%; text-align: left;\">\n",
       "\n",
       "        <tr>\n",
       "        \n",
       "            <td style=\"text-align: left;\"><strong>Connection method:</strong> Cluster object</td>\n",
       "            <td style=\"text-align: left;\"><strong>Cluster type:</strong> distributed.LocalCluster</td>\n",
       "        \n",
       "        </tr>\n",
       "\n",
       "        \n",
       "            <tr>\n",
       "                <td style=\"text-align: left;\">\n",
       "                    <strong>Dashboard: </strong> <a href=\"/proxy/35085/status\" target=\"_blank\">/proxy/35085/status</a>\n",
       "                </td>\n",
       "                <td style=\"text-align: left;\"></td>\n",
       "            </tr>\n",
       "        \n",
       "\n",
       "        </table>\n",
       "\n",
       "        \n",
       "            <button style=\"margin-bottom: 12px;\" data-commandlinker-command=\"dask:populate-and-launch-layout\" data-commandlinker-args='{\"url\": \"/proxy/35085/status\" }'>\n",
       "                Launch dashboard in JupyterLab\n",
       "            </button>\n",
       "        \n",
       "\n",
       "        \n",
       "            <details>\n",
       "            <summary style=\"margin-bottom: 20px;\"><h3 style=\"display: inline;\">Cluster Info</h3></summary>\n",
       "            <div class=\"jp-RenderedHTMLCommon jp-RenderedHTML jp-mod-trusted jp-OutputArea-output\">\n",
       "    <div style=\"width: 24px; height: 24px; background-color: #e1e1e1; border: 3px solid #9D9D9D; border-radius: 5px; position: absolute;\">\n",
       "    </div>\n",
       "    <div style=\"margin-left: 48px;\">\n",
       "        <h3 style=\"margin-bottom: 0px; margin-top: 0px;\">LocalCluster</h3>\n",
       "        <p style=\"color: #9D9D9D; margin-bottom: 0px;\">e71aa9e3</p>\n",
       "        <table style=\"width: 100%; text-align: left;\">\n",
       "            <tr>\n",
       "                <td style=\"text-align: left;\">\n",
       "                    <strong>Dashboard:</strong> <a href=\"/proxy/35085/status\" target=\"_blank\">/proxy/35085/status</a>\n",
       "                </td>\n",
       "                <td style=\"text-align: left;\">\n",
       "                    <strong>Workers:</strong> 12\n",
       "                </td>\n",
       "            </tr>\n",
       "            <tr>\n",
       "                <td style=\"text-align: left;\">\n",
       "                    <strong>Total threads:</strong> 12\n",
       "                </td>\n",
       "                <td style=\"text-align: left;\">\n",
       "                    <strong>Total memory:</strong> 46.00 GiB\n",
       "                </td>\n",
       "            </tr>\n",
       "            \n",
       "            <tr>\n",
       "    <td style=\"text-align: left;\"><strong>Status:</strong> running</td>\n",
       "    <td style=\"text-align: left;\"><strong>Using processes:</strong> True</td>\n",
       "</tr>\n",
       "\n",
       "            \n",
       "        </table>\n",
       "\n",
       "        <details>\n",
       "            <summary style=\"margin-bottom: 20px;\">\n",
       "                <h3 style=\"display: inline;\">Scheduler Info</h3>\n",
       "            </summary>\n",
       "\n",
       "            <div style=\"\">\n",
       "    <div>\n",
       "        <div style=\"width: 24px; height: 24px; background-color: #FFF7E5; border: 3px solid #FF6132; border-radius: 5px; position: absolute;\"> </div>\n",
       "        <div style=\"margin-left: 48px;\">\n",
       "            <h3 style=\"margin-bottom: 0px;\">Scheduler</h3>\n",
       "            <p style=\"color: #9D9D9D; margin-bottom: 0px;\">Scheduler-4d3afa30-2490-460e-b488-7d9929be34b5</p>\n",
       "            <table style=\"width: 100%; text-align: left;\">\n",
       "                <tr>\n",
       "                    <td style=\"text-align: left;\">\n",
       "                        <strong>Comm:</strong> tcp://127.0.0.1:45539\n",
       "                    </td>\n",
       "                    <td style=\"text-align: left;\">\n",
       "                        <strong>Workers:</strong> 12\n",
       "                    </td>\n",
       "                </tr>\n",
       "                <tr>\n",
       "                    <td style=\"text-align: left;\">\n",
       "                        <strong>Dashboard:</strong> <a href=\"/proxy/35085/status\" target=\"_blank\">/proxy/35085/status</a>\n",
       "                    </td>\n",
       "                    <td style=\"text-align: left;\">\n",
       "                        <strong>Total threads:</strong> 12\n",
       "                    </td>\n",
       "                </tr>\n",
       "                <tr>\n",
       "                    <td style=\"text-align: left;\">\n",
       "                        <strong>Started:</strong> Just now\n",
       "                    </td>\n",
       "                    <td style=\"text-align: left;\">\n",
       "                        <strong>Total memory:</strong> 46.00 GiB\n",
       "                    </td>\n",
       "                </tr>\n",
       "            </table>\n",
       "        </div>\n",
       "    </div>\n",
       "\n",
       "    <details style=\"margin-left: 48px;\">\n",
       "        <summary style=\"margin-bottom: 20px;\">\n",
       "            <h3 style=\"display: inline;\">Workers</h3>\n",
       "        </summary>\n",
       "\n",
       "        \n",
       "        <div style=\"margin-bottom: 20px;\">\n",
       "            <div style=\"width: 24px; height: 24px; background-color: #DBF5FF; border: 3px solid #4CC9FF; border-radius: 5px; position: absolute;\"> </div>\n",
       "            <div style=\"margin-left: 48px;\">\n",
       "            <details>\n",
       "                <summary>\n",
       "                    <h4 style=\"margin-bottom: 0px; display: inline;\">Worker: 0</h4>\n",
       "                </summary>\n",
       "                <table style=\"width: 100%; text-align: left;\">\n",
       "                    <tr>\n",
       "                        <td style=\"text-align: left;\">\n",
       "                            <strong>Comm: </strong> tcp://127.0.0.1:45287\n",
       "                        </td>\n",
       "                        <td style=\"text-align: left;\">\n",
       "                            <strong>Total threads: </strong> 1\n",
       "                        </td>\n",
       "                    </tr>\n",
       "                    <tr>\n",
       "                        <td style=\"text-align: left;\">\n",
       "                            <strong>Dashboard: </strong> <a href=\"/proxy/44895/status\" target=\"_blank\">/proxy/44895/status</a>\n",
       "                        </td>\n",
       "                        <td style=\"text-align: left;\">\n",
       "                            <strong>Memory: </strong> 3.83 GiB\n",
       "                        </td>\n",
       "                    </tr>\n",
       "                    <tr>\n",
       "                        <td style=\"text-align: left;\">\n",
       "                            <strong>Nanny: </strong> tcp://127.0.0.1:32961\n",
       "                        </td>\n",
       "                        <td style=\"text-align: left;\"></td>\n",
       "                    </tr>\n",
       "                    <tr>\n",
       "                        <td colspan=\"2\" style=\"text-align: left;\">\n",
       "                            <strong>Local directory: </strong> /jobfs/132027242.gadi-pbs/dask-scratch-space/worker-jd0i7gp7\n",
       "                        </td>\n",
       "                    </tr>\n",
       "\n",
       "                    \n",
       "\n",
       "                    \n",
       "\n",
       "                </table>\n",
       "            </details>\n",
       "            </div>\n",
       "        </div>\n",
       "        \n",
       "        <div style=\"margin-bottom: 20px;\">\n",
       "            <div style=\"width: 24px; height: 24px; background-color: #DBF5FF; border: 3px solid #4CC9FF; border-radius: 5px; position: absolute;\"> </div>\n",
       "            <div style=\"margin-left: 48px;\">\n",
       "            <details>\n",
       "                <summary>\n",
       "                    <h4 style=\"margin-bottom: 0px; display: inline;\">Worker: 1</h4>\n",
       "                </summary>\n",
       "                <table style=\"width: 100%; text-align: left;\">\n",
       "                    <tr>\n",
       "                        <td style=\"text-align: left;\">\n",
       "                            <strong>Comm: </strong> tcp://127.0.0.1:37319\n",
       "                        </td>\n",
       "                        <td style=\"text-align: left;\">\n",
       "                            <strong>Total threads: </strong> 1\n",
       "                        </td>\n",
       "                    </tr>\n",
       "                    <tr>\n",
       "                        <td style=\"text-align: left;\">\n",
       "                            <strong>Dashboard: </strong> <a href=\"/proxy/44099/status\" target=\"_blank\">/proxy/44099/status</a>\n",
       "                        </td>\n",
       "                        <td style=\"text-align: left;\">\n",
       "                            <strong>Memory: </strong> 3.83 GiB\n",
       "                        </td>\n",
       "                    </tr>\n",
       "                    <tr>\n",
       "                        <td style=\"text-align: left;\">\n",
       "                            <strong>Nanny: </strong> tcp://127.0.0.1:33531\n",
       "                        </td>\n",
       "                        <td style=\"text-align: left;\"></td>\n",
       "                    </tr>\n",
       "                    <tr>\n",
       "                        <td colspan=\"2\" style=\"text-align: left;\">\n",
       "                            <strong>Local directory: </strong> /jobfs/132027242.gadi-pbs/dask-scratch-space/worker-m1z7on5w\n",
       "                        </td>\n",
       "                    </tr>\n",
       "\n",
       "                    \n",
       "\n",
       "                    \n",
       "\n",
       "                </table>\n",
       "            </details>\n",
       "            </div>\n",
       "        </div>\n",
       "        \n",
       "        <div style=\"margin-bottom: 20px;\">\n",
       "            <div style=\"width: 24px; height: 24px; background-color: #DBF5FF; border: 3px solid #4CC9FF; border-radius: 5px; position: absolute;\"> </div>\n",
       "            <div style=\"margin-left: 48px;\">\n",
       "            <details>\n",
       "                <summary>\n",
       "                    <h4 style=\"margin-bottom: 0px; display: inline;\">Worker: 2</h4>\n",
       "                </summary>\n",
       "                <table style=\"width: 100%; text-align: left;\">\n",
       "                    <tr>\n",
       "                        <td style=\"text-align: left;\">\n",
       "                            <strong>Comm: </strong> tcp://127.0.0.1:35715\n",
       "                        </td>\n",
       "                        <td style=\"text-align: left;\">\n",
       "                            <strong>Total threads: </strong> 1\n",
       "                        </td>\n",
       "                    </tr>\n",
       "                    <tr>\n",
       "                        <td style=\"text-align: left;\">\n",
       "                            <strong>Dashboard: </strong> <a href=\"/proxy/43871/status\" target=\"_blank\">/proxy/43871/status</a>\n",
       "                        </td>\n",
       "                        <td style=\"text-align: left;\">\n",
       "                            <strong>Memory: </strong> 3.83 GiB\n",
       "                        </td>\n",
       "                    </tr>\n",
       "                    <tr>\n",
       "                        <td style=\"text-align: left;\">\n",
       "                            <strong>Nanny: </strong> tcp://127.0.0.1:34215\n",
       "                        </td>\n",
       "                        <td style=\"text-align: left;\"></td>\n",
       "                    </tr>\n",
       "                    <tr>\n",
       "                        <td colspan=\"2\" style=\"text-align: left;\">\n",
       "                            <strong>Local directory: </strong> /jobfs/132027242.gadi-pbs/dask-scratch-space/worker-onsz6zio\n",
       "                        </td>\n",
       "                    </tr>\n",
       "\n",
       "                    \n",
       "\n",
       "                    \n",
       "\n",
       "                </table>\n",
       "            </details>\n",
       "            </div>\n",
       "        </div>\n",
       "        \n",
       "        <div style=\"margin-bottom: 20px;\">\n",
       "            <div style=\"width: 24px; height: 24px; background-color: #DBF5FF; border: 3px solid #4CC9FF; border-radius: 5px; position: absolute;\"> </div>\n",
       "            <div style=\"margin-left: 48px;\">\n",
       "            <details>\n",
       "                <summary>\n",
       "                    <h4 style=\"margin-bottom: 0px; display: inline;\">Worker: 3</h4>\n",
       "                </summary>\n",
       "                <table style=\"width: 100%; text-align: left;\">\n",
       "                    <tr>\n",
       "                        <td style=\"text-align: left;\">\n",
       "                            <strong>Comm: </strong> tcp://127.0.0.1:44465\n",
       "                        </td>\n",
       "                        <td style=\"text-align: left;\">\n",
       "                            <strong>Total threads: </strong> 1\n",
       "                        </td>\n",
       "                    </tr>\n",
       "                    <tr>\n",
       "                        <td style=\"text-align: left;\">\n",
       "                            <strong>Dashboard: </strong> <a href=\"/proxy/40157/status\" target=\"_blank\">/proxy/40157/status</a>\n",
       "                        </td>\n",
       "                        <td style=\"text-align: left;\">\n",
       "                            <strong>Memory: </strong> 3.83 GiB\n",
       "                        </td>\n",
       "                    </tr>\n",
       "                    <tr>\n",
       "                        <td style=\"text-align: left;\">\n",
       "                            <strong>Nanny: </strong> tcp://127.0.0.1:39761\n",
       "                        </td>\n",
       "                        <td style=\"text-align: left;\"></td>\n",
       "                    </tr>\n",
       "                    <tr>\n",
       "                        <td colspan=\"2\" style=\"text-align: left;\">\n",
       "                            <strong>Local directory: </strong> /jobfs/132027242.gadi-pbs/dask-scratch-space/worker-k3x4b8_v\n",
       "                        </td>\n",
       "                    </tr>\n",
       "\n",
       "                    \n",
       "\n",
       "                    \n",
       "\n",
       "                </table>\n",
       "            </details>\n",
       "            </div>\n",
       "        </div>\n",
       "        \n",
       "        <div style=\"margin-bottom: 20px;\">\n",
       "            <div style=\"width: 24px; height: 24px; background-color: #DBF5FF; border: 3px solid #4CC9FF; border-radius: 5px; position: absolute;\"> </div>\n",
       "            <div style=\"margin-left: 48px;\">\n",
       "            <details>\n",
       "                <summary>\n",
       "                    <h4 style=\"margin-bottom: 0px; display: inline;\">Worker: 4</h4>\n",
       "                </summary>\n",
       "                <table style=\"width: 100%; text-align: left;\">\n",
       "                    <tr>\n",
       "                        <td style=\"text-align: left;\">\n",
       "                            <strong>Comm: </strong> tcp://127.0.0.1:45361\n",
       "                        </td>\n",
       "                        <td style=\"text-align: left;\">\n",
       "                            <strong>Total threads: </strong> 1\n",
       "                        </td>\n",
       "                    </tr>\n",
       "                    <tr>\n",
       "                        <td style=\"text-align: left;\">\n",
       "                            <strong>Dashboard: </strong> <a href=\"/proxy/37057/status\" target=\"_blank\">/proxy/37057/status</a>\n",
       "                        </td>\n",
       "                        <td style=\"text-align: left;\">\n",
       "                            <strong>Memory: </strong> 3.83 GiB\n",
       "                        </td>\n",
       "                    </tr>\n",
       "                    <tr>\n",
       "                        <td style=\"text-align: left;\">\n",
       "                            <strong>Nanny: </strong> tcp://127.0.0.1:43425\n",
       "                        </td>\n",
       "                        <td style=\"text-align: left;\"></td>\n",
       "                    </tr>\n",
       "                    <tr>\n",
       "                        <td colspan=\"2\" style=\"text-align: left;\">\n",
       "                            <strong>Local directory: </strong> /jobfs/132027242.gadi-pbs/dask-scratch-space/worker-1pyhjr67\n",
       "                        </td>\n",
       "                    </tr>\n",
       "\n",
       "                    \n",
       "\n",
       "                    \n",
       "\n",
       "                </table>\n",
       "            </details>\n",
       "            </div>\n",
       "        </div>\n",
       "        \n",
       "        <div style=\"margin-bottom: 20px;\">\n",
       "            <div style=\"width: 24px; height: 24px; background-color: #DBF5FF; border: 3px solid #4CC9FF; border-radius: 5px; position: absolute;\"> </div>\n",
       "            <div style=\"margin-left: 48px;\">\n",
       "            <details>\n",
       "                <summary>\n",
       "                    <h4 style=\"margin-bottom: 0px; display: inline;\">Worker: 5</h4>\n",
       "                </summary>\n",
       "                <table style=\"width: 100%; text-align: left;\">\n",
       "                    <tr>\n",
       "                        <td style=\"text-align: left;\">\n",
       "                            <strong>Comm: </strong> tcp://127.0.0.1:34781\n",
       "                        </td>\n",
       "                        <td style=\"text-align: left;\">\n",
       "                            <strong>Total threads: </strong> 1\n",
       "                        </td>\n",
       "                    </tr>\n",
       "                    <tr>\n",
       "                        <td style=\"text-align: left;\">\n",
       "                            <strong>Dashboard: </strong> <a href=\"/proxy/44063/status\" target=\"_blank\">/proxy/44063/status</a>\n",
       "                        </td>\n",
       "                        <td style=\"text-align: left;\">\n",
       "                            <strong>Memory: </strong> 3.83 GiB\n",
       "                        </td>\n",
       "                    </tr>\n",
       "                    <tr>\n",
       "                        <td style=\"text-align: left;\">\n",
       "                            <strong>Nanny: </strong> tcp://127.0.0.1:46641\n",
       "                        </td>\n",
       "                        <td style=\"text-align: left;\"></td>\n",
       "                    </tr>\n",
       "                    <tr>\n",
       "                        <td colspan=\"2\" style=\"text-align: left;\">\n",
       "                            <strong>Local directory: </strong> /jobfs/132027242.gadi-pbs/dask-scratch-space/worker-itxgueom\n",
       "                        </td>\n",
       "                    </tr>\n",
       "\n",
       "                    \n",
       "\n",
       "                    \n",
       "\n",
       "                </table>\n",
       "            </details>\n",
       "            </div>\n",
       "        </div>\n",
       "        \n",
       "        <div style=\"margin-bottom: 20px;\">\n",
       "            <div style=\"width: 24px; height: 24px; background-color: #DBF5FF; border: 3px solid #4CC9FF; border-radius: 5px; position: absolute;\"> </div>\n",
       "            <div style=\"margin-left: 48px;\">\n",
       "            <details>\n",
       "                <summary>\n",
       "                    <h4 style=\"margin-bottom: 0px; display: inline;\">Worker: 6</h4>\n",
       "                </summary>\n",
       "                <table style=\"width: 100%; text-align: left;\">\n",
       "                    <tr>\n",
       "                        <td style=\"text-align: left;\">\n",
       "                            <strong>Comm: </strong> tcp://127.0.0.1:35863\n",
       "                        </td>\n",
       "                        <td style=\"text-align: left;\">\n",
       "                            <strong>Total threads: </strong> 1\n",
       "                        </td>\n",
       "                    </tr>\n",
       "                    <tr>\n",
       "                        <td style=\"text-align: left;\">\n",
       "                            <strong>Dashboard: </strong> <a href=\"/proxy/35811/status\" target=\"_blank\">/proxy/35811/status</a>\n",
       "                        </td>\n",
       "                        <td style=\"text-align: left;\">\n",
       "                            <strong>Memory: </strong> 3.83 GiB\n",
       "                        </td>\n",
       "                    </tr>\n",
       "                    <tr>\n",
       "                        <td style=\"text-align: left;\">\n",
       "                            <strong>Nanny: </strong> tcp://127.0.0.1:44867\n",
       "                        </td>\n",
       "                        <td style=\"text-align: left;\"></td>\n",
       "                    </tr>\n",
       "                    <tr>\n",
       "                        <td colspan=\"2\" style=\"text-align: left;\">\n",
       "                            <strong>Local directory: </strong> /jobfs/132027242.gadi-pbs/dask-scratch-space/worker-gplpis7j\n",
       "                        </td>\n",
       "                    </tr>\n",
       "\n",
       "                    \n",
       "\n",
       "                    \n",
       "\n",
       "                </table>\n",
       "            </details>\n",
       "            </div>\n",
       "        </div>\n",
       "        \n",
       "        <div style=\"margin-bottom: 20px;\">\n",
       "            <div style=\"width: 24px; height: 24px; background-color: #DBF5FF; border: 3px solid #4CC9FF; border-radius: 5px; position: absolute;\"> </div>\n",
       "            <div style=\"margin-left: 48px;\">\n",
       "            <details>\n",
       "                <summary>\n",
       "                    <h4 style=\"margin-bottom: 0px; display: inline;\">Worker: 7</h4>\n",
       "                </summary>\n",
       "                <table style=\"width: 100%; text-align: left;\">\n",
       "                    <tr>\n",
       "                        <td style=\"text-align: left;\">\n",
       "                            <strong>Comm: </strong> tcp://127.0.0.1:35121\n",
       "                        </td>\n",
       "                        <td style=\"text-align: left;\">\n",
       "                            <strong>Total threads: </strong> 1\n",
       "                        </td>\n",
       "                    </tr>\n",
       "                    <tr>\n",
       "                        <td style=\"text-align: left;\">\n",
       "                            <strong>Dashboard: </strong> <a href=\"/proxy/35347/status\" target=\"_blank\">/proxy/35347/status</a>\n",
       "                        </td>\n",
       "                        <td style=\"text-align: left;\">\n",
       "                            <strong>Memory: </strong> 3.83 GiB\n",
       "                        </td>\n",
       "                    </tr>\n",
       "                    <tr>\n",
       "                        <td style=\"text-align: left;\">\n",
       "                            <strong>Nanny: </strong> tcp://127.0.0.1:33423\n",
       "                        </td>\n",
       "                        <td style=\"text-align: left;\"></td>\n",
       "                    </tr>\n",
       "                    <tr>\n",
       "                        <td colspan=\"2\" style=\"text-align: left;\">\n",
       "                            <strong>Local directory: </strong> /jobfs/132027242.gadi-pbs/dask-scratch-space/worker-sr9cht63\n",
       "                        </td>\n",
       "                    </tr>\n",
       "\n",
       "                    \n",
       "\n",
       "                    \n",
       "\n",
       "                </table>\n",
       "            </details>\n",
       "            </div>\n",
       "        </div>\n",
       "        \n",
       "        <div style=\"margin-bottom: 20px;\">\n",
       "            <div style=\"width: 24px; height: 24px; background-color: #DBF5FF; border: 3px solid #4CC9FF; border-radius: 5px; position: absolute;\"> </div>\n",
       "            <div style=\"margin-left: 48px;\">\n",
       "            <details>\n",
       "                <summary>\n",
       "                    <h4 style=\"margin-bottom: 0px; display: inline;\">Worker: 8</h4>\n",
       "                </summary>\n",
       "                <table style=\"width: 100%; text-align: left;\">\n",
       "                    <tr>\n",
       "                        <td style=\"text-align: left;\">\n",
       "                            <strong>Comm: </strong> tcp://127.0.0.1:41843\n",
       "                        </td>\n",
       "                        <td style=\"text-align: left;\">\n",
       "                            <strong>Total threads: </strong> 1\n",
       "                        </td>\n",
       "                    </tr>\n",
       "                    <tr>\n",
       "                        <td style=\"text-align: left;\">\n",
       "                            <strong>Dashboard: </strong> <a href=\"/proxy/46355/status\" target=\"_blank\">/proxy/46355/status</a>\n",
       "                        </td>\n",
       "                        <td style=\"text-align: left;\">\n",
       "                            <strong>Memory: </strong> 3.83 GiB\n",
       "                        </td>\n",
       "                    </tr>\n",
       "                    <tr>\n",
       "                        <td style=\"text-align: left;\">\n",
       "                            <strong>Nanny: </strong> tcp://127.0.0.1:35171\n",
       "                        </td>\n",
       "                        <td style=\"text-align: left;\"></td>\n",
       "                    </tr>\n",
       "                    <tr>\n",
       "                        <td colspan=\"2\" style=\"text-align: left;\">\n",
       "                            <strong>Local directory: </strong> /jobfs/132027242.gadi-pbs/dask-scratch-space/worker-e5nxy781\n",
       "                        </td>\n",
       "                    </tr>\n",
       "\n",
       "                    \n",
       "\n",
       "                    \n",
       "\n",
       "                </table>\n",
       "            </details>\n",
       "            </div>\n",
       "        </div>\n",
       "        \n",
       "        <div style=\"margin-bottom: 20px;\">\n",
       "            <div style=\"width: 24px; height: 24px; background-color: #DBF5FF; border: 3px solid #4CC9FF; border-radius: 5px; position: absolute;\"> </div>\n",
       "            <div style=\"margin-left: 48px;\">\n",
       "            <details>\n",
       "                <summary>\n",
       "                    <h4 style=\"margin-bottom: 0px; display: inline;\">Worker: 9</h4>\n",
       "                </summary>\n",
       "                <table style=\"width: 100%; text-align: left;\">\n",
       "                    <tr>\n",
       "                        <td style=\"text-align: left;\">\n",
       "                            <strong>Comm: </strong> tcp://127.0.0.1:35047\n",
       "                        </td>\n",
       "                        <td style=\"text-align: left;\">\n",
       "                            <strong>Total threads: </strong> 1\n",
       "                        </td>\n",
       "                    </tr>\n",
       "                    <tr>\n",
       "                        <td style=\"text-align: left;\">\n",
       "                            <strong>Dashboard: </strong> <a href=\"/proxy/45925/status\" target=\"_blank\">/proxy/45925/status</a>\n",
       "                        </td>\n",
       "                        <td style=\"text-align: left;\">\n",
       "                            <strong>Memory: </strong> 3.83 GiB\n",
       "                        </td>\n",
       "                    </tr>\n",
       "                    <tr>\n",
       "                        <td style=\"text-align: left;\">\n",
       "                            <strong>Nanny: </strong> tcp://127.0.0.1:42561\n",
       "                        </td>\n",
       "                        <td style=\"text-align: left;\"></td>\n",
       "                    </tr>\n",
       "                    <tr>\n",
       "                        <td colspan=\"2\" style=\"text-align: left;\">\n",
       "                            <strong>Local directory: </strong> /jobfs/132027242.gadi-pbs/dask-scratch-space/worker-rjzug1c0\n",
       "                        </td>\n",
       "                    </tr>\n",
       "\n",
       "                    \n",
       "\n",
       "                    \n",
       "\n",
       "                </table>\n",
       "            </details>\n",
       "            </div>\n",
       "        </div>\n",
       "        \n",
       "        <div style=\"margin-bottom: 20px;\">\n",
       "            <div style=\"width: 24px; height: 24px; background-color: #DBF5FF; border: 3px solid #4CC9FF; border-radius: 5px; position: absolute;\"> </div>\n",
       "            <div style=\"margin-left: 48px;\">\n",
       "            <details>\n",
       "                <summary>\n",
       "                    <h4 style=\"margin-bottom: 0px; display: inline;\">Worker: 10</h4>\n",
       "                </summary>\n",
       "                <table style=\"width: 100%; text-align: left;\">\n",
       "                    <tr>\n",
       "                        <td style=\"text-align: left;\">\n",
       "                            <strong>Comm: </strong> tcp://127.0.0.1:35985\n",
       "                        </td>\n",
       "                        <td style=\"text-align: left;\">\n",
       "                            <strong>Total threads: </strong> 1\n",
       "                        </td>\n",
       "                    </tr>\n",
       "                    <tr>\n",
       "                        <td style=\"text-align: left;\">\n",
       "                            <strong>Dashboard: </strong> <a href=\"/proxy/39121/status\" target=\"_blank\">/proxy/39121/status</a>\n",
       "                        </td>\n",
       "                        <td style=\"text-align: left;\">\n",
       "                            <strong>Memory: </strong> 3.83 GiB\n",
       "                        </td>\n",
       "                    </tr>\n",
       "                    <tr>\n",
       "                        <td style=\"text-align: left;\">\n",
       "                            <strong>Nanny: </strong> tcp://127.0.0.1:43805\n",
       "                        </td>\n",
       "                        <td style=\"text-align: left;\"></td>\n",
       "                    </tr>\n",
       "                    <tr>\n",
       "                        <td colspan=\"2\" style=\"text-align: left;\">\n",
       "                            <strong>Local directory: </strong> /jobfs/132027242.gadi-pbs/dask-scratch-space/worker-wg1uuacw\n",
       "                        </td>\n",
       "                    </tr>\n",
       "\n",
       "                    \n",
       "\n",
       "                    \n",
       "\n",
       "                </table>\n",
       "            </details>\n",
       "            </div>\n",
       "        </div>\n",
       "        \n",
       "        <div style=\"margin-bottom: 20px;\">\n",
       "            <div style=\"width: 24px; height: 24px; background-color: #DBF5FF; border: 3px solid #4CC9FF; border-radius: 5px; position: absolute;\"> </div>\n",
       "            <div style=\"margin-left: 48px;\">\n",
       "            <details>\n",
       "                <summary>\n",
       "                    <h4 style=\"margin-bottom: 0px; display: inline;\">Worker: 11</h4>\n",
       "                </summary>\n",
       "                <table style=\"width: 100%; text-align: left;\">\n",
       "                    <tr>\n",
       "                        <td style=\"text-align: left;\">\n",
       "                            <strong>Comm: </strong> tcp://127.0.0.1:40229\n",
       "                        </td>\n",
       "                        <td style=\"text-align: left;\">\n",
       "                            <strong>Total threads: </strong> 1\n",
       "                        </td>\n",
       "                    </tr>\n",
       "                    <tr>\n",
       "                        <td style=\"text-align: left;\">\n",
       "                            <strong>Dashboard: </strong> <a href=\"/proxy/43573/status\" target=\"_blank\">/proxy/43573/status</a>\n",
       "                        </td>\n",
       "                        <td style=\"text-align: left;\">\n",
       "                            <strong>Memory: </strong> 3.83 GiB\n",
       "                        </td>\n",
       "                    </tr>\n",
       "                    <tr>\n",
       "                        <td style=\"text-align: left;\">\n",
       "                            <strong>Nanny: </strong> tcp://127.0.0.1:46221\n",
       "                        </td>\n",
       "                        <td style=\"text-align: left;\"></td>\n",
       "                    </tr>\n",
       "                    <tr>\n",
       "                        <td colspan=\"2\" style=\"text-align: left;\">\n",
       "                            <strong>Local directory: </strong> /jobfs/132027242.gadi-pbs/dask-scratch-space/worker-zzy2dvd5\n",
       "                        </td>\n",
       "                    </tr>\n",
       "\n",
       "                    \n",
       "\n",
       "                    \n",
       "\n",
       "                </table>\n",
       "            </details>\n",
       "            </div>\n",
       "        </div>\n",
       "        \n",
       "\n",
       "    </details>\n",
       "</div>\n",
       "\n",
       "        </details>\n",
       "    </div>\n",
       "</div>\n",
       "            </details>\n",
       "        \n",
       "\n",
       "    </div>\n",
       "</div>"
      ],
      "text/plain": [
       "<Client: 'tcp://127.0.0.1:45539' processes=12 threads=12, memory=46.00 GiB>"
      ]
     },
     "execution_count": 9,
     "metadata": {},
     "output_type": "execute_result"
    }
   ],
   "source": [
    "client"
   ]
  },
  {
   "cell_type": "markdown",
   "id": "7b77e3e6-053e-4c5e-be23-1a443dbd799d",
   "metadata": {},
   "source": [
    "Open the DROF source data"
   ]
  },
  {
   "cell_type": "code",
   "execution_count": 10,
   "id": "15828e26-76cd-430b-a328-51b267a1afb5",
   "metadata": {
    "execution": {
     "iopub.execute_input": "2025-01-09T04:17:52.001727Z",
     "iopub.status.busy": "2025-01-09T04:17:52.000825Z",
     "iopub.status.idle": "2025-01-09T04:18:09.057176Z",
     "shell.execute_reply": "2025-01-09T04:18:09.055612Z",
     "shell.execute_reply.started": "2025-01-09T04:17:52.001687Z"
    }
   },
   "outputs": [],
   "source": [
    "ryf_runoff_ds = xr.open_mfdataset(ROF_SOURCE_F)"
   ]
  },
  {
   "cell_type": "code",
   "execution_count": 11,
   "id": "589ece9e-e573-4d84-99d1-d332f33ed9df",
   "metadata": {
    "execution": {
     "iopub.execute_input": "2025-01-09T04:18:09.060335Z",
     "iopub.status.busy": "2025-01-09T04:18:09.058727Z",
     "iopub.status.idle": "2025-01-09T04:18:09.139165Z",
     "shell.execute_reply": "2025-01-09T04:18:09.137832Z",
     "shell.execute_reply.started": "2025-01-09T04:18:09.060301Z"
    },
    "scrolled": true
   },
   "outputs": [
    {
     "data": {
      "text/html": [
       "<div><svg style=\"position: absolute; width: 0; height: 0; overflow: hidden\">\n",
       "<defs>\n",
       "<symbol id=\"icon-database\" viewBox=\"0 0 32 32\">\n",
       "<path d=\"M16 0c-8.837 0-16 2.239-16 5v4c0 2.761 7.163 5 16 5s16-2.239 16-5v-4c0-2.761-7.163-5-16-5z\"></path>\n",
       "<path d=\"M16 17c-8.837 0-16-2.239-16-5v6c0 2.761 7.163 5 16 5s16-2.239 16-5v-6c0 2.761-7.163 5-16 5z\"></path>\n",
       "<path d=\"M16 26c-8.837 0-16-2.239-16-5v6c0 2.761 7.163 5 16 5s16-2.239 16-5v-6c0 2.761-7.163 5-16 5z\"></path>\n",
       "</symbol>\n",
       "<symbol id=\"icon-file-text2\" viewBox=\"0 0 32 32\">\n",
       "<path d=\"M28.681 7.159c-0.694-0.947-1.662-2.053-2.724-3.116s-2.169-2.030-3.116-2.724c-1.612-1.182-2.393-1.319-2.841-1.319h-15.5c-1.378 0-2.5 1.121-2.5 2.5v27c0 1.378 1.122 2.5 2.5 2.5h23c1.378 0 2.5-1.122 2.5-2.5v-19.5c0-0.448-0.137-1.23-1.319-2.841zM24.543 5.457c0.959 0.959 1.712 1.825 2.268 2.543h-4.811v-4.811c0.718 0.556 1.584 1.309 2.543 2.268zM28 29.5c0 0.271-0.229 0.5-0.5 0.5h-23c-0.271 0-0.5-0.229-0.5-0.5v-27c0-0.271 0.229-0.5 0.5-0.5 0 0 15.499-0 15.5 0v7c0 0.552 0.448 1 1 1h7v19.5z\"></path>\n",
       "<path d=\"M23 26h-14c-0.552 0-1-0.448-1-1s0.448-1 1-1h14c0.552 0 1 0.448 1 1s-0.448 1-1 1z\"></path>\n",
       "<path d=\"M23 22h-14c-0.552 0-1-0.448-1-1s0.448-1 1-1h14c0.552 0 1 0.448 1 1s-0.448 1-1 1z\"></path>\n",
       "<path d=\"M23 18h-14c-0.552 0-1-0.448-1-1s0.448-1 1-1h14c0.552 0 1 0.448 1 1s-0.448 1-1 1z\"></path>\n",
       "</symbol>\n",
       "</defs>\n",
       "</svg>\n",
       "<style>/* CSS stylesheet for displaying xarray objects in jupyterlab.\n",
       " *\n",
       " */\n",
       "\n",
       ":root {\n",
       "  --xr-font-color0: var(--jp-content-font-color0, rgba(0, 0, 0, 1));\n",
       "  --xr-font-color2: var(--jp-content-font-color2, rgba(0, 0, 0, 0.54));\n",
       "  --xr-font-color3: var(--jp-content-font-color3, rgba(0, 0, 0, 0.38));\n",
       "  --xr-border-color: var(--jp-border-color2, #e0e0e0);\n",
       "  --xr-disabled-color: var(--jp-layout-color3, #bdbdbd);\n",
       "  --xr-background-color: var(--jp-layout-color0, white);\n",
       "  --xr-background-color-row-even: var(--jp-layout-color1, white);\n",
       "  --xr-background-color-row-odd: var(--jp-layout-color2, #eeeeee);\n",
       "}\n",
       "\n",
       "html[theme=dark],\n",
       "body[data-theme=dark],\n",
       "body.vscode-dark {\n",
       "  --xr-font-color0: rgba(255, 255, 255, 1);\n",
       "  --xr-font-color2: rgba(255, 255, 255, 0.54);\n",
       "  --xr-font-color3: rgba(255, 255, 255, 0.38);\n",
       "  --xr-border-color: #1F1F1F;\n",
       "  --xr-disabled-color: #515151;\n",
       "  --xr-background-color: #111111;\n",
       "  --xr-background-color-row-even: #111111;\n",
       "  --xr-background-color-row-odd: #313131;\n",
       "}\n",
       "\n",
       ".xr-wrap {\n",
       "  display: block !important;\n",
       "  min-width: 300px;\n",
       "  max-width: 700px;\n",
       "}\n",
       "\n",
       ".xr-text-repr-fallback {\n",
       "  /* fallback to plain text repr when CSS is not injected (untrusted notebook) */\n",
       "  display: none;\n",
       "}\n",
       "\n",
       ".xr-header {\n",
       "  padding-top: 6px;\n",
       "  padding-bottom: 6px;\n",
       "  margin-bottom: 4px;\n",
       "  border-bottom: solid 1px var(--xr-border-color);\n",
       "}\n",
       "\n",
       ".xr-header > div,\n",
       ".xr-header > ul {\n",
       "  display: inline;\n",
       "  margin-top: 0;\n",
       "  margin-bottom: 0;\n",
       "}\n",
       "\n",
       ".xr-obj-type,\n",
       ".xr-array-name {\n",
       "  margin-left: 2px;\n",
       "  margin-right: 10px;\n",
       "}\n",
       "\n",
       ".xr-obj-type {\n",
       "  color: var(--xr-font-color2);\n",
       "}\n",
       "\n",
       ".xr-sections {\n",
       "  padding-left: 0 !important;\n",
       "  display: grid;\n",
       "  grid-template-columns: 150px auto auto 1fr 20px 20px;\n",
       "}\n",
       "\n",
       ".xr-section-item {\n",
       "  display: contents;\n",
       "}\n",
       "\n",
       ".xr-section-item input {\n",
       "  display: none;\n",
       "}\n",
       "\n",
       ".xr-section-item input + label {\n",
       "  color: var(--xr-disabled-color);\n",
       "}\n",
       "\n",
       ".xr-section-item input:enabled + label {\n",
       "  cursor: pointer;\n",
       "  color: var(--xr-font-color2);\n",
       "}\n",
       "\n",
       ".xr-section-item input:enabled + label:hover {\n",
       "  color: var(--xr-font-color0);\n",
       "}\n",
       "\n",
       ".xr-section-summary {\n",
       "  grid-column: 1;\n",
       "  color: var(--xr-font-color2);\n",
       "  font-weight: 500;\n",
       "}\n",
       "\n",
       ".xr-section-summary > span {\n",
       "  display: inline-block;\n",
       "  padding-left: 0.5em;\n",
       "}\n",
       "\n",
       ".xr-section-summary-in:disabled + label {\n",
       "  color: var(--xr-font-color2);\n",
       "}\n",
       "\n",
       ".xr-section-summary-in + label:before {\n",
       "  display: inline-block;\n",
       "  content: '►';\n",
       "  font-size: 11px;\n",
       "  width: 15px;\n",
       "  text-align: center;\n",
       "}\n",
       "\n",
       ".xr-section-summary-in:disabled + label:before {\n",
       "  color: var(--xr-disabled-color);\n",
       "}\n",
       "\n",
       ".xr-section-summary-in:checked + label:before {\n",
       "  content: '▼';\n",
       "}\n",
       "\n",
       ".xr-section-summary-in:checked + label > span {\n",
       "  display: none;\n",
       "}\n",
       "\n",
       ".xr-section-summary,\n",
       ".xr-section-inline-details {\n",
       "  padding-top: 4px;\n",
       "  padding-bottom: 4px;\n",
       "}\n",
       "\n",
       ".xr-section-inline-details {\n",
       "  grid-column: 2 / -1;\n",
       "}\n",
       "\n",
       ".xr-section-details {\n",
       "  display: none;\n",
       "  grid-column: 1 / -1;\n",
       "  margin-bottom: 5px;\n",
       "}\n",
       "\n",
       ".xr-section-summary-in:checked ~ .xr-section-details {\n",
       "  display: contents;\n",
       "}\n",
       "\n",
       ".xr-array-wrap {\n",
       "  grid-column: 1 / -1;\n",
       "  display: grid;\n",
       "  grid-template-columns: 20px auto;\n",
       "}\n",
       "\n",
       ".xr-array-wrap > label {\n",
       "  grid-column: 1;\n",
       "  vertical-align: top;\n",
       "}\n",
       "\n",
       ".xr-preview {\n",
       "  color: var(--xr-font-color3);\n",
       "}\n",
       "\n",
       ".xr-array-preview,\n",
       ".xr-array-data {\n",
       "  padding: 0 5px !important;\n",
       "  grid-column: 2;\n",
       "}\n",
       "\n",
       ".xr-array-data,\n",
       ".xr-array-in:checked ~ .xr-array-preview {\n",
       "  display: none;\n",
       "}\n",
       "\n",
       ".xr-array-in:checked ~ .xr-array-data,\n",
       ".xr-array-preview {\n",
       "  display: inline-block;\n",
       "}\n",
       "\n",
       ".xr-dim-list {\n",
       "  display: inline-block !important;\n",
       "  list-style: none;\n",
       "  padding: 0 !important;\n",
       "  margin: 0;\n",
       "}\n",
       "\n",
       ".xr-dim-list li {\n",
       "  display: inline-block;\n",
       "  padding: 0;\n",
       "  margin: 0;\n",
       "}\n",
       "\n",
       ".xr-dim-list:before {\n",
       "  content: '(';\n",
       "}\n",
       "\n",
       ".xr-dim-list:after {\n",
       "  content: ')';\n",
       "}\n",
       "\n",
       ".xr-dim-list li:not(:last-child):after {\n",
       "  content: ',';\n",
       "  padding-right: 5px;\n",
       "}\n",
       "\n",
       ".xr-has-index {\n",
       "  font-weight: bold;\n",
       "}\n",
       "\n",
       ".xr-var-list,\n",
       ".xr-var-item {\n",
       "  display: contents;\n",
       "}\n",
       "\n",
       ".xr-var-item > div,\n",
       ".xr-var-item label,\n",
       ".xr-var-item > .xr-var-name span {\n",
       "  background-color: var(--xr-background-color-row-even);\n",
       "  margin-bottom: 0;\n",
       "}\n",
       "\n",
       ".xr-var-item > .xr-var-name:hover span {\n",
       "  padding-right: 5px;\n",
       "}\n",
       "\n",
       ".xr-var-list > li:nth-child(odd) > div,\n",
       ".xr-var-list > li:nth-child(odd) > label,\n",
       ".xr-var-list > li:nth-child(odd) > .xr-var-name span {\n",
       "  background-color: var(--xr-background-color-row-odd);\n",
       "}\n",
       "\n",
       ".xr-var-name {\n",
       "  grid-column: 1;\n",
       "}\n",
       "\n",
       ".xr-var-dims {\n",
       "  grid-column: 2;\n",
       "}\n",
       "\n",
       ".xr-var-dtype {\n",
       "  grid-column: 3;\n",
       "  text-align: right;\n",
       "  color: var(--xr-font-color2);\n",
       "}\n",
       "\n",
       ".xr-var-preview {\n",
       "  grid-column: 4;\n",
       "}\n",
       "\n",
       ".xr-index-preview {\n",
       "  grid-column: 2 / 5;\n",
       "  color: var(--xr-font-color2);\n",
       "}\n",
       "\n",
       ".xr-var-name,\n",
       ".xr-var-dims,\n",
       ".xr-var-dtype,\n",
       ".xr-preview,\n",
       ".xr-attrs dt {\n",
       "  white-space: nowrap;\n",
       "  overflow: hidden;\n",
       "  text-overflow: ellipsis;\n",
       "  padding-right: 10px;\n",
       "}\n",
       "\n",
       ".xr-var-name:hover,\n",
       ".xr-var-dims:hover,\n",
       ".xr-var-dtype:hover,\n",
       ".xr-attrs dt:hover {\n",
       "  overflow: visible;\n",
       "  width: auto;\n",
       "  z-index: 1;\n",
       "}\n",
       "\n",
       ".xr-var-attrs,\n",
       ".xr-var-data,\n",
       ".xr-index-data {\n",
       "  display: none;\n",
       "  background-color: var(--xr-background-color) !important;\n",
       "  padding-bottom: 5px !important;\n",
       "}\n",
       "\n",
       ".xr-var-attrs-in:checked ~ .xr-var-attrs,\n",
       ".xr-var-data-in:checked ~ .xr-var-data,\n",
       ".xr-index-data-in:checked ~ .xr-index-data {\n",
       "  display: block;\n",
       "}\n",
       "\n",
       ".xr-var-data > table {\n",
       "  float: right;\n",
       "}\n",
       "\n",
       ".xr-var-name span,\n",
       ".xr-var-data,\n",
       ".xr-index-name div,\n",
       ".xr-index-data,\n",
       ".xr-attrs {\n",
       "  padding-left: 25px !important;\n",
       "}\n",
       "\n",
       ".xr-attrs,\n",
       ".xr-var-attrs,\n",
       ".xr-var-data,\n",
       ".xr-index-data {\n",
       "  grid-column: 1 / -1;\n",
       "}\n",
       "\n",
       "dl.xr-attrs {\n",
       "  padding: 0;\n",
       "  margin: 0;\n",
       "  display: grid;\n",
       "  grid-template-columns: 125px auto;\n",
       "}\n",
       "\n",
       ".xr-attrs dt,\n",
       ".xr-attrs dd {\n",
       "  padding: 0;\n",
       "  margin: 0;\n",
       "  float: left;\n",
       "  padding-right: 10px;\n",
       "  width: auto;\n",
       "}\n",
       "\n",
       ".xr-attrs dt {\n",
       "  font-weight: normal;\n",
       "  grid-column: 1;\n",
       "}\n",
       "\n",
       ".xr-attrs dt:hover span {\n",
       "  display: inline-block;\n",
       "  background: var(--xr-background-color);\n",
       "  padding-right: 10px;\n",
       "}\n",
       "\n",
       ".xr-attrs dd {\n",
       "  grid-column: 2;\n",
       "  white-space: pre-wrap;\n",
       "  word-break: break-all;\n",
       "}\n",
       "\n",
       ".xr-icon-database,\n",
       ".xr-icon-file-text2,\n",
       ".xr-no-icon {\n",
       "  display: inline-block;\n",
       "  vertical-align: middle;\n",
       "  width: 1em;\n",
       "  height: 1.5em !important;\n",
       "  stroke-width: 0;\n",
       "  stroke: currentColor;\n",
       "  fill: currentColor;\n",
       "}\n",
       "</style><pre class='xr-text-repr-fallback'>&lt;xarray.Dataset&gt; Size: 3GB\n",
       "Dimensions:    (lat: 720, bnds: 2, lon: 1440, time: 365)\n",
       "Coordinates:\n",
       "  * lat        (lat) float64 6kB -89.88 -89.62 -89.38 ... 89.38 89.62 89.88\n",
       "  * lon        (lon) float64 12kB 0.125 0.375 0.625 0.875 ... 359.4 359.6 359.9\n",
       "  * time       (time) object 3kB 1900-01-01 00:00:00 ... 1900-12-31 00:00:00\n",
       "Dimensions without coordinates: bnds\n",
       "Data variables:\n",
       "    lat_bnds   (lat, bnds) float64 12kB dask.array&lt;chunksize=(720, 2), meta=np.ndarray&gt;\n",
       "    lon_bnds   (lon, bnds) float64 23kB dask.array&lt;chunksize=(1440, 2), meta=np.ndarray&gt;\n",
       "    areacello  (lat, lon) float32 4MB dask.array&lt;chunksize=(720, 1440), meta=np.ndarray&gt;\n",
       "    friver     (time, lat, lon) float32 2GB dask.array&lt;chunksize=(1, 720, 1440), meta=np.ndarray&gt;\n",
       "    licalvf    (time, lat, lon) float32 2GB dask.array&lt;chunksize=(1, 720, 1440), meta=np.ndarray&gt;\n",
       "Attributes: (12/34)\n",
       "    Conventions:         CF-1.7 CMIP-6.2\n",
       "    activity_id:         input4MIPs\n",
       "    comment:             Based on JRA-55 reanalysis (1958-01 to 2019-01)\n",
       "    contact:             Hiroyuki Tsujino (htsujino@mri-jma.go.jp)\n",
       "    creation_date:       2019-03-08T11:48:52Z\n",
       "    data_specs_version:  01.00.29\n",
       "    ...                  ...\n",
       "    target_mip:          OMIP\n",
       "    title:               MRI JRA55-do 1.4.0 dataset prepared for input4MIPs\n",
       "    tracking_id:         hdl:21.14100/29996f42-a99e-4762-8f11-24888d857e61\n",
       "    variable_id:         areacello\n",
       "    license:             OMIP boundary condition data produced by MRI is lice...\n",
       "    cmor_version:        3.4.0</pre><div class='xr-wrap' style='display:none'><div class='xr-header'><div class='xr-obj-type'>xarray.Dataset</div></div><ul class='xr-sections'><li class='xr-section-item'><input id='section-41e0b822-0b93-4400-b511-cd620aaecd51' class='xr-section-summary-in' type='checkbox' disabled ><label for='section-41e0b822-0b93-4400-b511-cd620aaecd51' class='xr-section-summary'  title='Expand/collapse section'>Dimensions:</label><div class='xr-section-inline-details'><ul class='xr-dim-list'><li><span class='xr-has-index'>lat</span>: 720</li><li><span>bnds</span>: 2</li><li><span class='xr-has-index'>lon</span>: 1440</li><li><span class='xr-has-index'>time</span>: 365</li></ul></div><div class='xr-section-details'></div></li><li class='xr-section-item'><input id='section-cd9e2503-ac27-46fa-ade7-ef9753da7938' class='xr-section-summary-in' type='checkbox'  checked><label for='section-cd9e2503-ac27-46fa-ade7-ef9753da7938' class='xr-section-summary' >Coordinates: <span>(3)</span></label><div class='xr-section-inline-details'></div><div class='xr-section-details'><ul class='xr-var-list'><li class='xr-var-item'><div class='xr-var-name'><span class='xr-has-index'>lat</span></div><div class='xr-var-dims'>(lat)</div><div class='xr-var-dtype'>float64</div><div class='xr-var-preview xr-preview'>-89.88 -89.62 ... 89.62 89.88</div><input id='attrs-885ca523-04b4-42c5-a0b1-59bb6eb4a3b3' class='xr-var-attrs-in' type='checkbox' ><label for='attrs-885ca523-04b4-42c5-a0b1-59bb6eb4a3b3' title='Show/Hide attributes'><svg class='icon xr-icon-file-text2'><use xlink:href='#icon-file-text2'></use></svg></label><input id='data-ae70e913-3e3e-48a4-9901-7218065a4ba7' class='xr-var-data-in' type='checkbox'><label for='data-ae70e913-3e3e-48a4-9901-7218065a4ba7' title='Show/Hide data repr'><svg class='icon xr-icon-database'><use xlink:href='#icon-database'></use></svg></label><div class='xr-var-attrs'><dl class='xr-attrs'><dt><span>bounds :</span></dt><dd>lat_bnds</dd><dt><span>units :</span></dt><dd>degrees_north</dd><dt><span>axis :</span></dt><dd>Y</dd><dt><span>long_name :</span></dt><dd>Latitude</dd><dt><span>standard_name :</span></dt><dd>latitude</dd></dl></div><div class='xr-var-data'><pre>array([-89.875, -89.625, -89.375, ...,  89.375,  89.625,  89.875])</pre></div></li><li class='xr-var-item'><div class='xr-var-name'><span class='xr-has-index'>lon</span></div><div class='xr-var-dims'>(lon)</div><div class='xr-var-dtype'>float64</div><div class='xr-var-preview xr-preview'>0.125 0.375 0.625 ... 359.6 359.9</div><input id='attrs-529525ab-5982-46b2-96f3-7a5ef4734840' class='xr-var-attrs-in' type='checkbox' ><label for='attrs-529525ab-5982-46b2-96f3-7a5ef4734840' title='Show/Hide attributes'><svg class='icon xr-icon-file-text2'><use xlink:href='#icon-file-text2'></use></svg></label><input id='data-01e5af62-aa72-492d-9674-adea727e9311' class='xr-var-data-in' type='checkbox'><label for='data-01e5af62-aa72-492d-9674-adea727e9311' title='Show/Hide data repr'><svg class='icon xr-icon-database'><use xlink:href='#icon-database'></use></svg></label><div class='xr-var-attrs'><dl class='xr-attrs'><dt><span>bounds :</span></dt><dd>lon_bnds</dd><dt><span>units :</span></dt><dd>degrees_east</dd><dt><span>axis :</span></dt><dd>X</dd><dt><span>long_name :</span></dt><dd>Longitude</dd><dt><span>standard_name :</span></dt><dd>longitude</dd></dl></div><div class='xr-var-data'><pre>array([1.25000e-01, 3.75000e-01, 6.25000e-01, ..., 3.59375e+02, 3.59625e+02,\n",
       "       3.59875e+02])</pre></div></li><li class='xr-var-item'><div class='xr-var-name'><span class='xr-has-index'>time</span></div><div class='xr-var-dims'>(time)</div><div class='xr-var-dtype'>object</div><div class='xr-var-preview xr-preview'>1900-01-01 00:00:00 ... 1900-12-...</div><input id='attrs-0ee1bcf2-b1c2-474c-8859-c45324033a80' class='xr-var-attrs-in' type='checkbox' ><label for='attrs-0ee1bcf2-b1c2-474c-8859-c45324033a80' title='Show/Hide attributes'><svg class='icon xr-icon-file-text2'><use xlink:href='#icon-file-text2'></use></svg></label><input id='data-e3a11a1c-7aa4-47fb-967b-e9e47d337d24' class='xr-var-data-in' type='checkbox'><label for='data-e3a11a1c-7aa4-47fb-967b-e9e47d337d24' title='Show/Hide data repr'><svg class='icon xr-icon-database'><use xlink:href='#icon-database'></use></svg></label><div class='xr-var-attrs'><dl class='xr-attrs'><dt><span>cartesian_axis :</span></dt><dd>T</dd><dt><span>modulo :</span></dt><dd> </dd><dt><span>axis :</span></dt><dd>T</dd></dl></div><div class='xr-var-data'><pre>array([cftime.DatetimeNoLeap(1900, 1, 1, 0, 0, 0, 0, has_year_zero=True),\n",
       "       cftime.DatetimeNoLeap(1900, 1, 2, 0, 0, 0, 0, has_year_zero=True),\n",
       "       cftime.DatetimeNoLeap(1900, 1, 3, 0, 0, 0, 0, has_year_zero=True), ...,\n",
       "       cftime.DatetimeNoLeap(1900, 12, 29, 0, 0, 0, 0, has_year_zero=True),\n",
       "       cftime.DatetimeNoLeap(1900, 12, 30, 0, 0, 0, 0, has_year_zero=True),\n",
       "       cftime.DatetimeNoLeap(1900, 12, 31, 0, 0, 0, 0, has_year_zero=True)],\n",
       "      dtype=object)</pre></div></li></ul></div></li><li class='xr-section-item'><input id='section-9b33adb5-5634-4303-81fc-210b2515caef' class='xr-section-summary-in' type='checkbox'  checked><label for='section-9b33adb5-5634-4303-81fc-210b2515caef' class='xr-section-summary' >Data variables: <span>(5)</span></label><div class='xr-section-inline-details'></div><div class='xr-section-details'><ul class='xr-var-list'><li class='xr-var-item'><div class='xr-var-name'><span>lat_bnds</span></div><div class='xr-var-dims'>(lat, bnds)</div><div class='xr-var-dtype'>float64</div><div class='xr-var-preview xr-preview'>dask.array&lt;chunksize=(720, 2), meta=np.ndarray&gt;</div><input id='attrs-5d5c902e-7a1e-4171-b98e-e69d108d65ef' class='xr-var-attrs-in' type='checkbox' disabled><label for='attrs-5d5c902e-7a1e-4171-b98e-e69d108d65ef' title='Show/Hide attributes'><svg class='icon xr-icon-file-text2'><use xlink:href='#icon-file-text2'></use></svg></label><input id='data-f4c14ae6-6e34-460f-90fb-8b1567959189' class='xr-var-data-in' type='checkbox'><label for='data-f4c14ae6-6e34-460f-90fb-8b1567959189' title='Show/Hide data repr'><svg class='icon xr-icon-database'><use xlink:href='#icon-database'></use></svg></label><div class='xr-var-attrs'><dl class='xr-attrs'></dl></div><div class='xr-var-data'><table>\n",
       "    <tr>\n",
       "        <td>\n",
       "            <table style=\"border-collapse: collapse;\">\n",
       "                <thead>\n",
       "                    <tr>\n",
       "                        <td> </td>\n",
       "                        <th> Array </th>\n",
       "                        <th> Chunk </th>\n",
       "                    </tr>\n",
       "                </thead>\n",
       "                <tbody>\n",
       "                    \n",
       "                    <tr>\n",
       "                        <th> Bytes </th>\n",
       "                        <td> 11.25 kiB </td>\n",
       "                        <td> 11.25 kiB </td>\n",
       "                    </tr>\n",
       "                    \n",
       "                    <tr>\n",
       "                        <th> Shape </th>\n",
       "                        <td> (720, 2) </td>\n",
       "                        <td> (720, 2) </td>\n",
       "                    </tr>\n",
       "                    <tr>\n",
       "                        <th> Dask graph </th>\n",
       "                        <td colspan=\"2\"> 1 chunks in 10 graph layers </td>\n",
       "                    </tr>\n",
       "                    <tr>\n",
       "                        <th> Data type </th>\n",
       "                        <td colspan=\"2\"> float64 numpy.ndarray </td>\n",
       "                    </tr>\n",
       "                </tbody>\n",
       "            </table>\n",
       "        </td>\n",
       "        <td>\n",
       "        <svg width=\"75\" height=\"170\" style=\"stroke:rgb(0,0,0);stroke-width:1\" >\n",
       "\n",
       "  <!-- Horizontal lines -->\n",
       "  <line x1=\"0\" y1=\"0\" x2=\"25\" y2=\"0\" style=\"stroke-width:2\" />\n",
       "  <line x1=\"0\" y1=\"120\" x2=\"25\" y2=\"120\" style=\"stroke-width:2\" />\n",
       "\n",
       "  <!-- Vertical lines -->\n",
       "  <line x1=\"0\" y1=\"0\" x2=\"0\" y2=\"120\" style=\"stroke-width:2\" />\n",
       "  <line x1=\"25\" y1=\"0\" x2=\"25\" y2=\"120\" style=\"stroke-width:2\" />\n",
       "\n",
       "  <!-- Colored Rectangle -->\n",
       "  <polygon points=\"0.0,0.0 25.412616514582485,0.0 25.412616514582485,120.0 0.0,120.0\" style=\"fill:#ECB172A0;stroke-width:0\"/>\n",
       "\n",
       "  <!-- Text -->\n",
       "  <text x=\"12.706308\" y=\"140.000000\" font-size=\"1.0rem\" font-weight=\"100\" text-anchor=\"middle\" >2</text>\n",
       "  <text x=\"45.412617\" y=\"60.000000\" font-size=\"1.0rem\" font-weight=\"100\" text-anchor=\"middle\" transform=\"rotate(-90,45.412617,60.000000)\">720</text>\n",
       "</svg>\n",
       "        </td>\n",
       "    </tr>\n",
       "</table></div></li><li class='xr-var-item'><div class='xr-var-name'><span>lon_bnds</span></div><div class='xr-var-dims'>(lon, bnds)</div><div class='xr-var-dtype'>float64</div><div class='xr-var-preview xr-preview'>dask.array&lt;chunksize=(1440, 2), meta=np.ndarray&gt;</div><input id='attrs-1e91808a-4022-4f68-ae17-ee43a773a735' class='xr-var-attrs-in' type='checkbox' disabled><label for='attrs-1e91808a-4022-4f68-ae17-ee43a773a735' title='Show/Hide attributes'><svg class='icon xr-icon-file-text2'><use xlink:href='#icon-file-text2'></use></svg></label><input id='data-50f57ff5-5994-47d5-98d1-75c51ea8b657' class='xr-var-data-in' type='checkbox'><label for='data-50f57ff5-5994-47d5-98d1-75c51ea8b657' title='Show/Hide data repr'><svg class='icon xr-icon-database'><use xlink:href='#icon-database'></use></svg></label><div class='xr-var-attrs'><dl class='xr-attrs'></dl></div><div class='xr-var-data'><table>\n",
       "    <tr>\n",
       "        <td>\n",
       "            <table style=\"border-collapse: collapse;\">\n",
       "                <thead>\n",
       "                    <tr>\n",
       "                        <td> </td>\n",
       "                        <th> Array </th>\n",
       "                        <th> Chunk </th>\n",
       "                    </tr>\n",
       "                </thead>\n",
       "                <tbody>\n",
       "                    \n",
       "                    <tr>\n",
       "                        <th> Bytes </th>\n",
       "                        <td> 22.50 kiB </td>\n",
       "                        <td> 22.50 kiB </td>\n",
       "                    </tr>\n",
       "                    \n",
       "                    <tr>\n",
       "                        <th> Shape </th>\n",
       "                        <td> (1440, 2) </td>\n",
       "                        <td> (1440, 2) </td>\n",
       "                    </tr>\n",
       "                    <tr>\n",
       "                        <th> Dask graph </th>\n",
       "                        <td colspan=\"2\"> 1 chunks in 10 graph layers </td>\n",
       "                    </tr>\n",
       "                    <tr>\n",
       "                        <th> Data type </th>\n",
       "                        <td colspan=\"2\"> float64 numpy.ndarray </td>\n",
       "                    </tr>\n",
       "                </tbody>\n",
       "            </table>\n",
       "        </td>\n",
       "        <td>\n",
       "        <svg width=\"75\" height=\"170\" style=\"stroke:rgb(0,0,0);stroke-width:1\" >\n",
       "\n",
       "  <!-- Horizontal lines -->\n",
       "  <line x1=\"0\" y1=\"0\" x2=\"25\" y2=\"0\" style=\"stroke-width:2\" />\n",
       "  <line x1=\"0\" y1=\"120\" x2=\"25\" y2=\"120\" style=\"stroke-width:2\" />\n",
       "\n",
       "  <!-- Vertical lines -->\n",
       "  <line x1=\"0\" y1=\"0\" x2=\"0\" y2=\"120\" style=\"stroke-width:2\" />\n",
       "  <line x1=\"25\" y1=\"0\" x2=\"25\" y2=\"120\" style=\"stroke-width:2\" />\n",
       "\n",
       "  <!-- Colored Rectangle -->\n",
       "  <polygon points=\"0.0,0.0 25.412616514582485,0.0 25.412616514582485,120.0 0.0,120.0\" style=\"fill:#ECB172A0;stroke-width:0\"/>\n",
       "\n",
       "  <!-- Text -->\n",
       "  <text x=\"12.706308\" y=\"140.000000\" font-size=\"1.0rem\" font-weight=\"100\" text-anchor=\"middle\" >2</text>\n",
       "  <text x=\"45.412617\" y=\"60.000000\" font-size=\"1.0rem\" font-weight=\"100\" text-anchor=\"middle\" transform=\"rotate(-90,45.412617,60.000000)\">1440</text>\n",
       "</svg>\n",
       "        </td>\n",
       "    </tr>\n",
       "</table></div></li><li class='xr-var-item'><div class='xr-var-name'><span>areacello</span></div><div class='xr-var-dims'>(lat, lon)</div><div class='xr-var-dtype'>float32</div><div class='xr-var-preview xr-preview'>dask.array&lt;chunksize=(720, 1440), meta=np.ndarray&gt;</div><input id='attrs-4e13da8e-8d65-4dc7-8e1a-4980e5795104' class='xr-var-attrs-in' type='checkbox' ><label for='attrs-4e13da8e-8d65-4dc7-8e1a-4980e5795104' title='Show/Hide attributes'><svg class='icon xr-icon-file-text2'><use xlink:href='#icon-file-text2'></use></svg></label><input id='data-7cde551e-e838-4436-b855-3b7fe0517b26' class='xr-var-data-in' type='checkbox'><label for='data-7cde551e-e838-4436-b855-3b7fe0517b26' title='Show/Hide data repr'><svg class='icon xr-icon-database'><use xlink:href='#icon-database'></use></svg></label><div class='xr-var-attrs'><dl class='xr-attrs'><dt><span>standard_name :</span></dt><dd>cell_area</dd><dt><span>long_name :</span></dt><dd>Grid-Cell Area for Ocean Variables</dd><dt><span>comment :</span></dt><dd>Horizontal area of ocean grid cells</dd><dt><span>units :</span></dt><dd>m2</dd><dt><span>cell_methods :</span></dt><dd>area: sum</dd></dl></div><div class='xr-var-data'><table>\n",
       "    <tr>\n",
       "        <td>\n",
       "            <table style=\"border-collapse: collapse;\">\n",
       "                <thead>\n",
       "                    <tr>\n",
       "                        <td> </td>\n",
       "                        <th> Array </th>\n",
       "                        <th> Chunk </th>\n",
       "                    </tr>\n",
       "                </thead>\n",
       "                <tbody>\n",
       "                    \n",
       "                    <tr>\n",
       "                        <th> Bytes </th>\n",
       "                        <td> 3.96 MiB </td>\n",
       "                        <td> 3.96 MiB </td>\n",
       "                    </tr>\n",
       "                    \n",
       "                    <tr>\n",
       "                        <th> Shape </th>\n",
       "                        <td> (720, 1440) </td>\n",
       "                        <td> (720, 1440) </td>\n",
       "                    </tr>\n",
       "                    <tr>\n",
       "                        <th> Dask graph </th>\n",
       "                        <td colspan=\"2\"> 1 chunks in 2 graph layers </td>\n",
       "                    </tr>\n",
       "                    <tr>\n",
       "                        <th> Data type </th>\n",
       "                        <td colspan=\"2\"> float32 numpy.ndarray </td>\n",
       "                    </tr>\n",
       "                </tbody>\n",
       "            </table>\n",
       "        </td>\n",
       "        <td>\n",
       "        <svg width=\"170\" height=\"110\" style=\"stroke:rgb(0,0,0);stroke-width:1\" >\n",
       "\n",
       "  <!-- Horizontal lines -->\n",
       "  <line x1=\"0\" y1=\"0\" x2=\"120\" y2=\"0\" style=\"stroke-width:2\" />\n",
       "  <line x1=\"0\" y1=\"60\" x2=\"120\" y2=\"60\" style=\"stroke-width:2\" />\n",
       "\n",
       "  <!-- Vertical lines -->\n",
       "  <line x1=\"0\" y1=\"0\" x2=\"0\" y2=\"60\" style=\"stroke-width:2\" />\n",
       "  <line x1=\"120\" y1=\"0\" x2=\"120\" y2=\"60\" style=\"stroke-width:2\" />\n",
       "\n",
       "  <!-- Colored Rectangle -->\n",
       "  <polygon points=\"0.0,0.0 120.0,0.0 120.0,60.0 0.0,60.0\" style=\"fill:#ECB172A0;stroke-width:0\"/>\n",
       "\n",
       "  <!-- Text -->\n",
       "  <text x=\"60.000000\" y=\"80.000000\" font-size=\"1.0rem\" font-weight=\"100\" text-anchor=\"middle\" >1440</text>\n",
       "  <text x=\"140.000000\" y=\"30.000000\" font-size=\"1.0rem\" font-weight=\"100\" text-anchor=\"middle\" transform=\"rotate(-90,140.000000,30.000000)\">720</text>\n",
       "</svg>\n",
       "        </td>\n",
       "    </tr>\n",
       "</table></div></li><li class='xr-var-item'><div class='xr-var-name'><span>friver</span></div><div class='xr-var-dims'>(time, lat, lon)</div><div class='xr-var-dtype'>float32</div><div class='xr-var-preview xr-preview'>dask.array&lt;chunksize=(1, 720, 1440), meta=np.ndarray&gt;</div><input id='attrs-d3193f59-43e6-47b5-8710-752b50722847' class='xr-var-attrs-in' type='checkbox' ><label for='attrs-d3193f59-43e6-47b5-8710-752b50722847' title='Show/Hide attributes'><svg class='icon xr-icon-file-text2'><use xlink:href='#icon-file-text2'></use></svg></label><input id='data-13c50c29-72f9-4e40-950c-0672734b0c47' class='xr-var-data-in' type='checkbox'><label for='data-13c50c29-72f9-4e40-950c-0672734b0c47' title='Show/Hide data repr'><svg class='icon xr-icon-database'><use xlink:href='#icon-database'></use></svg></label><div class='xr-var-attrs'><dl class='xr-attrs'><dt><span>standard_name :</span></dt><dd>water_flux_into_sea_water_from_rivers</dd><dt><span>long_name :</span></dt><dd>Water Flux into Sea Water from Rivers</dd><dt><span>comment :</span></dt><dd>computed as the river flux of liquid water into the ocean divided by the area of the ocean portion of the grid cell, input4MIPs_table_comment: computed as the river flux of water into the ocean divided by the area of the ocean portion of the grid cell</dd><dt><span>units :</span></dt><dd>kg m-2 s-1</dd><dt><span>cell_methods :</span></dt><dd>area: mean where sea time: mean</dd><dt><span>cell_measures :</span></dt><dd>area: areacello</dd></dl></div><div class='xr-var-data'><table>\n",
       "    <tr>\n",
       "        <td>\n",
       "            <table style=\"border-collapse: collapse;\">\n",
       "                <thead>\n",
       "                    <tr>\n",
       "                        <td> </td>\n",
       "                        <th> Array </th>\n",
       "                        <th> Chunk </th>\n",
       "                    </tr>\n",
       "                </thead>\n",
       "                <tbody>\n",
       "                    \n",
       "                    <tr>\n",
       "                        <th> Bytes </th>\n",
       "                        <td> 1.41 GiB </td>\n",
       "                        <td> 3.96 MiB </td>\n",
       "                    </tr>\n",
       "                    \n",
       "                    <tr>\n",
       "                        <th> Shape </th>\n",
       "                        <td> (365, 720, 1440) </td>\n",
       "                        <td> (1, 720, 1440) </td>\n",
       "                    </tr>\n",
       "                    <tr>\n",
       "                        <th> Dask graph </th>\n",
       "                        <td colspan=\"2\"> 365 chunks in 2 graph layers </td>\n",
       "                    </tr>\n",
       "                    <tr>\n",
       "                        <th> Data type </th>\n",
       "                        <td colspan=\"2\"> float32 numpy.ndarray </td>\n",
       "                    </tr>\n",
       "                </tbody>\n",
       "            </table>\n",
       "        </td>\n",
       "        <td>\n",
       "        <svg width=\"205\" height=\"135\" style=\"stroke:rgb(0,0,0);stroke-width:1\" >\n",
       "\n",
       "  <!-- Horizontal lines -->\n",
       "  <line x1=\"10\" y1=\"0\" x2=\"35\" y2=\"25\" style=\"stroke-width:2\" />\n",
       "  <line x1=\"10\" y1=\"60\" x2=\"35\" y2=\"85\" style=\"stroke-width:2\" />\n",
       "\n",
       "  <!-- Vertical lines -->\n",
       "  <line x1=\"10\" y1=\"0\" x2=\"10\" y2=\"60\" style=\"stroke-width:2\" />\n",
       "  <line x1=\"11\" y1=\"1\" x2=\"11\" y2=\"61\" />\n",
       "  <line x1=\"12\" y1=\"2\" x2=\"12\" y2=\"62\" />\n",
       "  <line x1=\"13\" y1=\"3\" x2=\"13\" y2=\"63\" />\n",
       "  <line x1=\"15\" y1=\"5\" x2=\"15\" y2=\"65\" />\n",
       "  <line x1=\"16\" y1=\"6\" x2=\"16\" y2=\"66\" />\n",
       "  <line x1=\"17\" y1=\"7\" x2=\"17\" y2=\"67\" />\n",
       "  <line x1=\"19\" y1=\"9\" x2=\"19\" y2=\"69\" />\n",
       "  <line x1=\"20\" y1=\"10\" x2=\"20\" y2=\"70\" />\n",
       "  <line x1=\"21\" y1=\"11\" x2=\"21\" y2=\"71\" />\n",
       "  <line x1=\"23\" y1=\"13\" x2=\"23\" y2=\"73\" />\n",
       "  <line x1=\"24\" y1=\"14\" x2=\"24\" y2=\"74\" />\n",
       "  <line x1=\"25\" y1=\"15\" x2=\"25\" y2=\"75\" />\n",
       "  <line x1=\"27\" y1=\"17\" x2=\"27\" y2=\"77\" />\n",
       "  <line x1=\"28\" y1=\"18\" x2=\"28\" y2=\"78\" />\n",
       "  <line x1=\"29\" y1=\"19\" x2=\"29\" y2=\"79\" />\n",
       "  <line x1=\"31\" y1=\"21\" x2=\"31\" y2=\"81\" />\n",
       "  <line x1=\"32\" y1=\"22\" x2=\"32\" y2=\"82\" />\n",
       "  <line x1=\"33\" y1=\"23\" x2=\"33\" y2=\"83\" />\n",
       "  <line x1=\"35\" y1=\"25\" x2=\"35\" y2=\"85\" style=\"stroke-width:2\" />\n",
       "\n",
       "  <!-- Colored Rectangle -->\n",
       "  <polygon points=\"10.0,0.0 35.26481292860946,25.26481292860946 35.26481292860946,85.26481292860946 10.0,60.0\" style=\"fill:#8B4903A0;stroke-width:0\"/>\n",
       "\n",
       "  <!-- Horizontal lines -->\n",
       "  <line x1=\"10\" y1=\"0\" x2=\"130\" y2=\"0\" style=\"stroke-width:2\" />\n",
       "  <line x1=\"11\" y1=\"1\" x2=\"131\" y2=\"1\" />\n",
       "  <line x1=\"12\" y1=\"2\" x2=\"132\" y2=\"2\" />\n",
       "  <line x1=\"13\" y1=\"3\" x2=\"133\" y2=\"3\" />\n",
       "  <line x1=\"15\" y1=\"5\" x2=\"135\" y2=\"5\" />\n",
       "  <line x1=\"16\" y1=\"6\" x2=\"136\" y2=\"6\" />\n",
       "  <line x1=\"17\" y1=\"7\" x2=\"137\" y2=\"7\" />\n",
       "  <line x1=\"19\" y1=\"9\" x2=\"139\" y2=\"9\" />\n",
       "  <line x1=\"20\" y1=\"10\" x2=\"140\" y2=\"10\" />\n",
       "  <line x1=\"21\" y1=\"11\" x2=\"141\" y2=\"11\" />\n",
       "  <line x1=\"23\" y1=\"13\" x2=\"143\" y2=\"13\" />\n",
       "  <line x1=\"24\" y1=\"14\" x2=\"144\" y2=\"14\" />\n",
       "  <line x1=\"25\" y1=\"15\" x2=\"145\" y2=\"15\" />\n",
       "  <line x1=\"27\" y1=\"17\" x2=\"147\" y2=\"17\" />\n",
       "  <line x1=\"28\" y1=\"18\" x2=\"148\" y2=\"18\" />\n",
       "  <line x1=\"29\" y1=\"19\" x2=\"149\" y2=\"19\" />\n",
       "  <line x1=\"31\" y1=\"21\" x2=\"151\" y2=\"21\" />\n",
       "  <line x1=\"32\" y1=\"22\" x2=\"152\" y2=\"22\" />\n",
       "  <line x1=\"33\" y1=\"23\" x2=\"153\" y2=\"23\" />\n",
       "  <line x1=\"35\" y1=\"25\" x2=\"155\" y2=\"25\" style=\"stroke-width:2\" />\n",
       "\n",
       "  <!-- Vertical lines -->\n",
       "  <line x1=\"10\" y1=\"0\" x2=\"35\" y2=\"25\" style=\"stroke-width:2\" />\n",
       "  <line x1=\"130\" y1=\"0\" x2=\"155\" y2=\"25\" style=\"stroke-width:2\" />\n",
       "\n",
       "  <!-- Colored Rectangle -->\n",
       "  <polygon points=\"10.0,0.0 130.0,0.0 155.26481292860944,25.26481292860946 35.26481292860946,25.26481292860946\" style=\"fill:#8B4903A0;stroke-width:0\"/>\n",
       "\n",
       "  <!-- Horizontal lines -->\n",
       "  <line x1=\"35\" y1=\"25\" x2=\"155\" y2=\"25\" style=\"stroke-width:2\" />\n",
       "  <line x1=\"35\" y1=\"85\" x2=\"155\" y2=\"85\" style=\"stroke-width:2\" />\n",
       "\n",
       "  <!-- Vertical lines -->\n",
       "  <line x1=\"35\" y1=\"25\" x2=\"35\" y2=\"85\" style=\"stroke-width:2\" />\n",
       "  <line x1=\"155\" y1=\"25\" x2=\"155\" y2=\"85\" style=\"stroke-width:2\" />\n",
       "\n",
       "  <!-- Colored Rectangle -->\n",
       "  <polygon points=\"35.26481292860946,25.26481292860946 155.26481292860944,25.26481292860946 155.26481292860944,85.26481292860946 35.26481292860946,85.26481292860946\" style=\"fill:#ECB172A0;stroke-width:0\"/>\n",
       "\n",
       "  <!-- Text -->\n",
       "  <text x=\"95.264813\" y=\"105.264813\" font-size=\"1.0rem\" font-weight=\"100\" text-anchor=\"middle\" >1440</text>\n",
       "  <text x=\"175.264813\" y=\"55.264813\" font-size=\"1.0rem\" font-weight=\"100\" text-anchor=\"middle\" transform=\"rotate(-90,175.264813,55.264813)\">720</text>\n",
       "  <text x=\"12.632406\" y=\"92.632406\" font-size=\"1.0rem\" font-weight=\"100\" text-anchor=\"middle\" transform=\"rotate(45,12.632406,92.632406)\">365</text>\n",
       "</svg>\n",
       "        </td>\n",
       "    </tr>\n",
       "</table></div></li><li class='xr-var-item'><div class='xr-var-name'><span>licalvf</span></div><div class='xr-var-dims'>(time, lat, lon)</div><div class='xr-var-dtype'>float32</div><div class='xr-var-preview xr-preview'>dask.array&lt;chunksize=(1, 720, 1440), meta=np.ndarray&gt;</div><input id='attrs-6c3c5dfd-3049-452a-9bc2-515588851f5a' class='xr-var-attrs-in' type='checkbox' ><label for='attrs-6c3c5dfd-3049-452a-9bc2-515588851f5a' title='Show/Hide attributes'><svg class='icon xr-icon-file-text2'><use xlink:href='#icon-file-text2'></use></svg></label><input id='data-b05302ad-d280-4e7e-8bbf-0c2a9da40df0' class='xr-var-data-in' type='checkbox'><label for='data-b05302ad-d280-4e7e-8bbf-0c2a9da40df0' title='Show/Hide data repr'><svg class='icon xr-icon-database'><use xlink:href='#icon-database'></use></svg></label><div class='xr-var-attrs'><dl class='xr-attrs'><dt><span>standard_name :</span></dt><dd>land_ice_specific_mass_flux_due_to_calving</dd><dt><span>long_name :</span></dt><dd>Land Ice Calving Flux</dd><dt><span>comment :</span></dt><dd>Computed as the flux of solid ice into the ocean divided by the area of the land portion of the grid cell</dd><dt><span>units :</span></dt><dd>kg m-2 s-1</dd><dt><span>cell_methods :</span></dt><dd>area: time: mean where ice_sheet</dd><dt><span>cell_measures :</span></dt><dd>area: areacello</dd></dl></div><div class='xr-var-data'><table>\n",
       "    <tr>\n",
       "        <td>\n",
       "            <table style=\"border-collapse: collapse;\">\n",
       "                <thead>\n",
       "                    <tr>\n",
       "                        <td> </td>\n",
       "                        <th> Array </th>\n",
       "                        <th> Chunk </th>\n",
       "                    </tr>\n",
       "                </thead>\n",
       "                <tbody>\n",
       "                    \n",
       "                    <tr>\n",
       "                        <th> Bytes </th>\n",
       "                        <td> 1.41 GiB </td>\n",
       "                        <td> 3.96 MiB </td>\n",
       "                    </tr>\n",
       "                    \n",
       "                    <tr>\n",
       "                        <th> Shape </th>\n",
       "                        <td> (365, 720, 1440) </td>\n",
       "                        <td> (1, 720, 1440) </td>\n",
       "                    </tr>\n",
       "                    <tr>\n",
       "                        <th> Dask graph </th>\n",
       "                        <td colspan=\"2\"> 365 chunks in 2 graph layers </td>\n",
       "                    </tr>\n",
       "                    <tr>\n",
       "                        <th> Data type </th>\n",
       "                        <td colspan=\"2\"> float32 numpy.ndarray </td>\n",
       "                    </tr>\n",
       "                </tbody>\n",
       "            </table>\n",
       "        </td>\n",
       "        <td>\n",
       "        <svg width=\"205\" height=\"135\" style=\"stroke:rgb(0,0,0);stroke-width:1\" >\n",
       "\n",
       "  <!-- Horizontal lines -->\n",
       "  <line x1=\"10\" y1=\"0\" x2=\"35\" y2=\"25\" style=\"stroke-width:2\" />\n",
       "  <line x1=\"10\" y1=\"60\" x2=\"35\" y2=\"85\" style=\"stroke-width:2\" />\n",
       "\n",
       "  <!-- Vertical lines -->\n",
       "  <line x1=\"10\" y1=\"0\" x2=\"10\" y2=\"60\" style=\"stroke-width:2\" />\n",
       "  <line x1=\"11\" y1=\"1\" x2=\"11\" y2=\"61\" />\n",
       "  <line x1=\"12\" y1=\"2\" x2=\"12\" y2=\"62\" />\n",
       "  <line x1=\"13\" y1=\"3\" x2=\"13\" y2=\"63\" />\n",
       "  <line x1=\"15\" y1=\"5\" x2=\"15\" y2=\"65\" />\n",
       "  <line x1=\"16\" y1=\"6\" x2=\"16\" y2=\"66\" />\n",
       "  <line x1=\"17\" y1=\"7\" x2=\"17\" y2=\"67\" />\n",
       "  <line x1=\"19\" y1=\"9\" x2=\"19\" y2=\"69\" />\n",
       "  <line x1=\"20\" y1=\"10\" x2=\"20\" y2=\"70\" />\n",
       "  <line x1=\"21\" y1=\"11\" x2=\"21\" y2=\"71\" />\n",
       "  <line x1=\"23\" y1=\"13\" x2=\"23\" y2=\"73\" />\n",
       "  <line x1=\"24\" y1=\"14\" x2=\"24\" y2=\"74\" />\n",
       "  <line x1=\"25\" y1=\"15\" x2=\"25\" y2=\"75\" />\n",
       "  <line x1=\"27\" y1=\"17\" x2=\"27\" y2=\"77\" />\n",
       "  <line x1=\"28\" y1=\"18\" x2=\"28\" y2=\"78\" />\n",
       "  <line x1=\"29\" y1=\"19\" x2=\"29\" y2=\"79\" />\n",
       "  <line x1=\"31\" y1=\"21\" x2=\"31\" y2=\"81\" />\n",
       "  <line x1=\"32\" y1=\"22\" x2=\"32\" y2=\"82\" />\n",
       "  <line x1=\"33\" y1=\"23\" x2=\"33\" y2=\"83\" />\n",
       "  <line x1=\"35\" y1=\"25\" x2=\"35\" y2=\"85\" style=\"stroke-width:2\" />\n",
       "\n",
       "  <!-- Colored Rectangle -->\n",
       "  <polygon points=\"10.0,0.0 35.26481292860946,25.26481292860946 35.26481292860946,85.26481292860946 10.0,60.0\" style=\"fill:#8B4903A0;stroke-width:0\"/>\n",
       "\n",
       "  <!-- Horizontal lines -->\n",
       "  <line x1=\"10\" y1=\"0\" x2=\"130\" y2=\"0\" style=\"stroke-width:2\" />\n",
       "  <line x1=\"11\" y1=\"1\" x2=\"131\" y2=\"1\" />\n",
       "  <line x1=\"12\" y1=\"2\" x2=\"132\" y2=\"2\" />\n",
       "  <line x1=\"13\" y1=\"3\" x2=\"133\" y2=\"3\" />\n",
       "  <line x1=\"15\" y1=\"5\" x2=\"135\" y2=\"5\" />\n",
       "  <line x1=\"16\" y1=\"6\" x2=\"136\" y2=\"6\" />\n",
       "  <line x1=\"17\" y1=\"7\" x2=\"137\" y2=\"7\" />\n",
       "  <line x1=\"19\" y1=\"9\" x2=\"139\" y2=\"9\" />\n",
       "  <line x1=\"20\" y1=\"10\" x2=\"140\" y2=\"10\" />\n",
       "  <line x1=\"21\" y1=\"11\" x2=\"141\" y2=\"11\" />\n",
       "  <line x1=\"23\" y1=\"13\" x2=\"143\" y2=\"13\" />\n",
       "  <line x1=\"24\" y1=\"14\" x2=\"144\" y2=\"14\" />\n",
       "  <line x1=\"25\" y1=\"15\" x2=\"145\" y2=\"15\" />\n",
       "  <line x1=\"27\" y1=\"17\" x2=\"147\" y2=\"17\" />\n",
       "  <line x1=\"28\" y1=\"18\" x2=\"148\" y2=\"18\" />\n",
       "  <line x1=\"29\" y1=\"19\" x2=\"149\" y2=\"19\" />\n",
       "  <line x1=\"31\" y1=\"21\" x2=\"151\" y2=\"21\" />\n",
       "  <line x1=\"32\" y1=\"22\" x2=\"152\" y2=\"22\" />\n",
       "  <line x1=\"33\" y1=\"23\" x2=\"153\" y2=\"23\" />\n",
       "  <line x1=\"35\" y1=\"25\" x2=\"155\" y2=\"25\" style=\"stroke-width:2\" />\n",
       "\n",
       "  <!-- Vertical lines -->\n",
       "  <line x1=\"10\" y1=\"0\" x2=\"35\" y2=\"25\" style=\"stroke-width:2\" />\n",
       "  <line x1=\"130\" y1=\"0\" x2=\"155\" y2=\"25\" style=\"stroke-width:2\" />\n",
       "\n",
       "  <!-- Colored Rectangle -->\n",
       "  <polygon points=\"10.0,0.0 130.0,0.0 155.26481292860944,25.26481292860946 35.26481292860946,25.26481292860946\" style=\"fill:#8B4903A0;stroke-width:0\"/>\n",
       "\n",
       "  <!-- Horizontal lines -->\n",
       "  <line x1=\"35\" y1=\"25\" x2=\"155\" y2=\"25\" style=\"stroke-width:2\" />\n",
       "  <line x1=\"35\" y1=\"85\" x2=\"155\" y2=\"85\" style=\"stroke-width:2\" />\n",
       "\n",
       "  <!-- Vertical lines -->\n",
       "  <line x1=\"35\" y1=\"25\" x2=\"35\" y2=\"85\" style=\"stroke-width:2\" />\n",
       "  <line x1=\"155\" y1=\"25\" x2=\"155\" y2=\"85\" style=\"stroke-width:2\" />\n",
       "\n",
       "  <!-- Colored Rectangle -->\n",
       "  <polygon points=\"35.26481292860946,25.26481292860946 155.26481292860944,25.26481292860946 155.26481292860944,85.26481292860946 35.26481292860946,85.26481292860946\" style=\"fill:#ECB172A0;stroke-width:0\"/>\n",
       "\n",
       "  <!-- Text -->\n",
       "  <text x=\"95.264813\" y=\"105.264813\" font-size=\"1.0rem\" font-weight=\"100\" text-anchor=\"middle\" >1440</text>\n",
       "  <text x=\"175.264813\" y=\"55.264813\" font-size=\"1.0rem\" font-weight=\"100\" text-anchor=\"middle\" transform=\"rotate(-90,175.264813,55.264813)\">720</text>\n",
       "  <text x=\"12.632406\" y=\"92.632406\" font-size=\"1.0rem\" font-weight=\"100\" text-anchor=\"middle\" transform=\"rotate(45,12.632406,92.632406)\">365</text>\n",
       "</svg>\n",
       "        </td>\n",
       "    </tr>\n",
       "</table></div></li></ul></div></li><li class='xr-section-item'><input id='section-03e6b281-2427-4347-a8ad-5d0953bb1c30' class='xr-section-summary-in' type='checkbox'  ><label for='section-03e6b281-2427-4347-a8ad-5d0953bb1c30' class='xr-section-summary' >Indexes: <span>(3)</span></label><div class='xr-section-inline-details'></div><div class='xr-section-details'><ul class='xr-var-list'><li class='xr-var-item'><div class='xr-index-name'><div>lat</div></div><div class='xr-index-preview'>PandasIndex</div><div></div><input id='index-2468d5d5-17d4-4c46-820c-c0a3da3c6b65' class='xr-index-data-in' type='checkbox'/><label for='index-2468d5d5-17d4-4c46-820c-c0a3da3c6b65' title='Show/Hide index repr'><svg class='icon xr-icon-database'><use xlink:href='#icon-database'></use></svg></label><div class='xr-index-data'><pre>PandasIndex(Index([-89.875, -89.625, -89.375, -89.125, -88.875, -88.625, -88.375, -88.125,\n",
       "       -87.875, -87.625,\n",
       "       ...\n",
       "        87.625,  87.875,  88.125,  88.375,  88.625,  88.875,  89.125,  89.375,\n",
       "        89.625,  89.875],\n",
       "      dtype=&#x27;float64&#x27;, name=&#x27;lat&#x27;, length=720))</pre></div></li><li class='xr-var-item'><div class='xr-index-name'><div>lon</div></div><div class='xr-index-preview'>PandasIndex</div><div></div><input id='index-263b2c1a-1803-4900-941d-9f2284d8f9fd' class='xr-index-data-in' type='checkbox'/><label for='index-263b2c1a-1803-4900-941d-9f2284d8f9fd' title='Show/Hide index repr'><svg class='icon xr-icon-database'><use xlink:href='#icon-database'></use></svg></label><div class='xr-index-data'><pre>PandasIndex(Index([  0.125,   0.375,   0.625,   0.875,   1.125,   1.375,   1.625,   1.875,\n",
       "         2.125,   2.375,\n",
       "       ...\n",
       "       357.625, 357.875, 358.125, 358.375, 358.625, 358.875, 359.125, 359.375,\n",
       "       359.625, 359.875],\n",
       "      dtype=&#x27;float64&#x27;, name=&#x27;lon&#x27;, length=1440))</pre></div></li><li class='xr-var-item'><div class='xr-index-name'><div>time</div></div><div class='xr-index-preview'>PandasIndex</div><div></div><input id='index-1e84bc64-da78-4a0d-abe3-71f9389d868b' class='xr-index-data-in' type='checkbox'/><label for='index-1e84bc64-da78-4a0d-abe3-71f9389d868b' title='Show/Hide index repr'><svg class='icon xr-icon-database'><use xlink:href='#icon-database'></use></svg></label><div class='xr-index-data'><pre>PandasIndex(CFTimeIndex([1900-01-01 00:00:00, 1900-01-02 00:00:00, 1900-01-03 00:00:00,\n",
       "             1900-01-04 00:00:00, 1900-01-05 00:00:00, 1900-01-06 00:00:00,\n",
       "             1900-01-07 00:00:00, 1900-01-08 00:00:00, 1900-01-09 00:00:00,\n",
       "             1900-01-10 00:00:00,\n",
       "             ...\n",
       "             1900-12-22 00:00:00, 1900-12-23 00:00:00, 1900-12-24 00:00:00,\n",
       "             1900-12-25 00:00:00, 1900-12-26 00:00:00, 1900-12-27 00:00:00,\n",
       "             1900-12-28 00:00:00, 1900-12-29 00:00:00, 1900-12-30 00:00:00,\n",
       "             1900-12-31 00:00:00],\n",
       "            dtype=&#x27;object&#x27;, length=365, calendar=&#x27;noleap&#x27;, freq=&#x27;D&#x27;))</pre></div></li></ul></div></li><li class='xr-section-item'><input id='section-d31308e9-57e9-492d-a9dc-5e88aaf6d827' class='xr-section-summary-in' type='checkbox'  ><label for='section-d31308e9-57e9-492d-a9dc-5e88aaf6d827' class='xr-section-summary' >Attributes: <span>(34)</span></label><div class='xr-section-inline-details'></div><div class='xr-section-details'><dl class='xr-attrs'><dt><span>Conventions :</span></dt><dd>CF-1.7 CMIP-6.2</dd><dt><span>activity_id :</span></dt><dd>input4MIPs</dd><dt><span>comment :</span></dt><dd>Based on JRA-55 reanalysis (1958-01 to 2019-01)</dd><dt><span>contact :</span></dt><dd>Hiroyuki Tsujino (htsujino@mri-jma.go.jp)</dd><dt><span>creation_date :</span></dt><dd>2019-03-08T11:48:52Z</dd><dt><span>data_specs_version :</span></dt><dd>01.00.29</dd><dt><span>dataset_category :</span></dt><dd>atmosphericState</dd><dt><span>frequency :</span></dt><dd>fx</dd><dt><span>further_info_url :</span></dt><dd>http://climate.mri-jma.go.jp/~htsujino/jra55do.html</dd><dt><span>grid :</span></dt><dd>0.25x0.25 degree latitude x longitude</dd><dt><span>grid_label :</span></dt><dd>gr</dd><dt><span>history :</span></dt><dd>2019-03-08T11:48:52Z; CMOR rewrote data to be consistent with input4MIPs, CMIP6, and CF-1.7 CMIP-6.2 standards</dd><dt><span>institution :</span></dt><dd>Meteorological Research Institute, Tsukuba, Ibaraki 305-0052, Japan</dd><dt><span>institution_id :</span></dt><dd>MRI</dd><dt><span>mip_era :</span></dt><dd>CMIP6</dd><dt><span>nominal_resolution :</span></dt><dd>25 km</dd><dt><span>product :</span></dt><dd>reanalysis</dd><dt><span>realm :</span></dt><dd>ocean</dd><dt><span>references :</span></dt><dd>Tsujino et al., 2018: JRA-55 based surface dataset for driving ocean-sea-ice models (JRA55-do), Ocean Modelling, 130(1), pp 79-139. https://doi.org/10.1016/j.ocemod.2018.07.002</dd><dt><span>region :</span></dt><dd>global_ocean</dd><dt><span>release_year :</span></dt><dd>2019</dd><dt><span>source :</span></dt><dd>MRI JRA55-do 1.4.0: Atmospheric state generated for OMIP based on the JRA-55 reanalysis</dd><dt><span>source_description :</span></dt><dd>Atmospheric state and terrestrial runoff datasets produced by MRI for the OMIP experiment of CMIP6</dd><dt><span>source_id :</span></dt><dd>MRI-JRA55-do-1-4-0</dd><dt><span>source_type :</span></dt><dd>satellite_blended</dd><dt><span>source_version :</span></dt><dd>1.4.0</dd><dt><span>table_id :</span></dt><dd>input4MIPs_Ofx</dd><dt><span>table_info :</span></dt><dd>Creation Date:(06 March 2019) MD5:b14ca57e92343d575b84b8ab3624b3ed</dd><dt><span>target_mip :</span></dt><dd>OMIP</dd><dt><span>title :</span></dt><dd>MRI JRA55-do 1.4.0 dataset prepared for input4MIPs</dd><dt><span>tracking_id :</span></dt><dd>hdl:21.14100/29996f42-a99e-4762-8f11-24888d857e61</dd><dt><span>variable_id :</span></dt><dd>areacello</dd><dt><span>license :</span></dt><dd>OMIP boundary condition data produced by MRI is licensed under a Creative Commons Attribution-[NonCommercial-]ShareAlike 4.0 International License (https://creativecommons.org/licenses). Consult https://pcmdi.llnl.gov/CMIP6/TermsOfUse for terms of use governing input4MIPs output, including citation requirements and proper acknowledgment. Further information about this data, including some limitations, can be found via the further_info_url (recorded as a global attribute in this file). The data producers and data providers make no warranty, either express or implied, including, but not limited to, warranties of merchantability and fitness for a particular purpose. All liabilities arising from the supply of the information (including any liability arising in negligence) are excluded to the fullest extent permitted by law.</dd><dt><span>cmor_version :</span></dt><dd>3.4.0</dd></dl></div></li></ul></div></div>"
      ],
      "text/plain": [
       "<xarray.Dataset> Size: 3GB\n",
       "Dimensions:    (lat: 720, bnds: 2, lon: 1440, time: 365)\n",
       "Coordinates:\n",
       "  * lat        (lat) float64 6kB -89.88 -89.62 -89.38 ... 89.38 89.62 89.88\n",
       "  * lon        (lon) float64 12kB 0.125 0.375 0.625 0.875 ... 359.4 359.6 359.9\n",
       "  * time       (time) object 3kB 1900-01-01 00:00:00 ... 1900-12-31 00:00:00\n",
       "Dimensions without coordinates: bnds\n",
       "Data variables:\n",
       "    lat_bnds   (lat, bnds) float64 12kB dask.array<chunksize=(720, 2), meta=np.ndarray>\n",
       "    lon_bnds   (lon, bnds) float64 23kB dask.array<chunksize=(1440, 2), meta=np.ndarray>\n",
       "    areacello  (lat, lon) float32 4MB dask.array<chunksize=(720, 1440), meta=np.ndarray>\n",
       "    friver     (time, lat, lon) float32 2GB dask.array<chunksize=(1, 720, 1440), meta=np.ndarray>\n",
       "    licalvf    (time, lat, lon) float32 2GB dask.array<chunksize=(1, 720, 1440), meta=np.ndarray>\n",
       "Attributes: (12/34)\n",
       "    Conventions:         CF-1.7 CMIP-6.2\n",
       "    activity_id:         input4MIPs\n",
       "    comment:             Based on JRA-55 reanalysis (1958-01 to 2019-01)\n",
       "    contact:             Hiroyuki Tsujino (htsujino@mri-jma.go.jp)\n",
       "    creation_date:       2019-03-08T11:48:52Z\n",
       "    data_specs_version:  01.00.29\n",
       "    ...                  ...\n",
       "    target_mip:          OMIP\n",
       "    title:               MRI JRA55-do 1.4.0 dataset prepared for input4MIPs\n",
       "    tracking_id:         hdl:21.14100/29996f42-a99e-4762-8f11-24888d857e61\n",
       "    variable_id:         areacello\n",
       "    license:             OMIP boundary condition data produced by MRI is lice...\n",
       "    cmor_version:        3.4.0"
      ]
     },
     "execution_count": 11,
     "metadata": {},
     "output_type": "execute_result"
    }
   ],
   "source": [
    "ryf_runoff_ds"
   ]
  },
  {
   "cell_type": "markdown",
   "id": "5fcc7eef-f06e-4359-bcc0-ad943ed639b5",
   "metadata": {},
   "source": [
    "To make this demonstration easier, some extra diagnostics were turned on.\n",
    "\n",
    "These are:\n",
    "\n",
    "- daily mom output of friver and ficeberg fields in the `diag_table`\n",
    "- daily averages of mediator/coupler history for both rof and ocn components \n",
    "\n",
    "The configuration ran is https://github.com/ACCESS-NRI/access-om3-configs/commit/c0a05327bdc384ce3d9c625f6f485aab12e26c1c"
   ]
  },
  {
   "cell_type": "markdown",
   "id": "197b612d-e456-4289-8d0f-def56a1c60b7",
   "metadata": {},
   "source": [
    "For completeness, we'll also use the cell areas calculated by ESMF, although they should be the same as the mom cell areas:"
   ]
  },
  {
   "cell_type": "code",
   "execution_count": 12,
   "id": "271d6f5e-a672-471a-b84a-3f66d10b6c92",
   "metadata": {
    "execution": {
     "iopub.execute_input": "2025-01-09T04:18:09.142444Z",
     "iopub.status.busy": "2025-01-09T04:18:09.141243Z",
     "iopub.status.idle": "2025-01-09T04:18:18.957189Z",
     "shell.execute_reply": "2025-01-09T04:18:18.955466Z",
     "shell.execute_reply.started": "2025-01-09T04:18:09.142409Z"
    }
   },
   "outputs": [
    {
     "name": "stderr",
     "output_type": "stream",
     "text": [
      "--------------------------------------------------------------------------\n",
      "WARNING: There was an error initializing an OpenFabrics device.\n",
      "\n",
      "  Local host:   gadi-cpu-clx-0438\n",
      "  Local device: mlx5_0\n",
      "--------------------------------------------------------------------------\n"
     ]
    }
   ],
   "source": [
    "rof_mesh = esmpy.Mesh(\n",
    "    filename = ROF_MESH_F ,\n",
    "    filetype=esmpy.FileFormat.ESMFMESH\n",
    ")"
   ]
  },
  {
   "cell_type": "code",
   "execution_count": 13,
   "id": "1bee958a-4b32-4eb8-962f-2c29a6966c44",
   "metadata": {
    "execution": {
     "iopub.execute_input": "2025-01-09T04:18:18.959388Z",
     "iopub.status.busy": "2025-01-09T04:18:18.959167Z",
     "iopub.status.idle": "2025-01-09T04:18:19.151517Z",
     "shell.execute_reply": "2025-01-09T04:18:19.150334Z",
     "shell.execute_reply.started": "2025-01-09T04:18:18.959369Z"
    }
   },
   "outputs": [],
   "source": [
    "rof_fld = esmpy.Field(\n",
    "    rof_mesh,\n",
    "    meshloc=esmpy.MeshLoc.ELEMENT\n",
    ")\n",
    "    "
   ]
  },
  {
   "cell_type": "code",
   "execution_count": 14,
   "id": "069485a5-d56c-4afb-9bef-f09efdc72cac",
   "metadata": {
    "execution": {
     "iopub.execute_input": "2025-01-09T04:18:19.152799Z",
     "iopub.status.busy": "2025-01-09T04:18:19.152588Z",
     "iopub.status.idle": "2025-01-09T04:18:19.697177Z",
     "shell.execute_reply": "2025-01-09T04:18:19.696036Z",
     "shell.execute_reply.started": "2025-01-09T04:18:19.152781Z"
    }
   },
   "outputs": [],
   "source": [
    "rof_fld.get_area()"
   ]
  },
  {
   "cell_type": "code",
   "execution_count": 15,
   "id": "136199de-9de6-40b9-a1ac-f44484441b85",
   "metadata": {
    "execution": {
     "iopub.execute_input": "2025-01-09T04:18:19.700919Z",
     "iopub.status.busy": "2025-01-09T04:18:19.700729Z",
     "iopub.status.idle": "2025-01-09T04:18:19.710596Z",
     "shell.execute_reply": "2025-01-09T04:18:19.709384Z",
     "shell.execute_reply.started": "2025-01-09T04:18:19.700902Z"
    }
   },
   "outputs": [],
   "source": [
    "rof_areas = copy(rof_fld.data.reshape(720,1440)*6.37122E6*6.37122E6)"
   ]
  },
  {
   "cell_type": "code",
   "execution_count": 16,
   "id": "d285fe29-7006-4239-a3c0-63dced3b64a0",
   "metadata": {
    "execution": {
     "iopub.execute_input": "2025-01-09T04:18:19.714553Z",
     "iopub.status.busy": "2025-01-09T04:18:19.714193Z",
     "iopub.status.idle": "2025-01-09T04:18:20.600505Z",
     "shell.execute_reply": "2025-01-09T04:18:20.599264Z",
     "shell.execute_reply.started": "2025-01-09T04:18:19.714534Z"
    }
   },
   "outputs": [],
   "source": [
    "model_mesh = esmpy.Mesh(\n",
    "    filename= MODEL_MESH_F, \n",
    "    filetype=esmpy.FileFormat.ESMFMESH,\n",
    ")"
   ]
  },
  {
   "cell_type": "code",
   "execution_count": 17,
   "id": "a360cabe-d9d3-44ac-a426-e78b75a88870",
   "metadata": {
    "execution": {
     "iopub.execute_input": "2025-01-09T04:18:20.601873Z",
     "iopub.status.busy": "2025-01-09T04:18:20.601679Z",
     "iopub.status.idle": "2025-01-09T04:18:20.623561Z",
     "shell.execute_reply": "2025-01-09T04:18:20.622706Z",
     "shell.execute_reply.started": "2025-01-09T04:18:20.601855Z"
    }
   },
   "outputs": [],
   "source": [
    "med_fld = esmpy.Field(\n",
    "    model_mesh,\n",
    "    meshloc=esmpy.MeshLoc.ELEMENT\n",
    ")"
   ]
  },
  {
   "cell_type": "code",
   "execution_count": 18,
   "id": "7250b3de-a3df-4f7b-b87b-78a3392d6d41",
   "metadata": {
    "execution": {
     "iopub.execute_input": "2025-01-09T04:18:20.624858Z",
     "iopub.status.busy": "2025-01-09T04:18:20.624668Z",
     "iopub.status.idle": "2025-01-09T04:18:20.682372Z",
     "shell.execute_reply": "2025-01-09T04:18:20.681129Z",
     "shell.execute_reply.started": "2025-01-09T04:18:20.624841Z"
    }
   },
   "outputs": [],
   "source": [
    "med_fld.get_area()"
   ]
  },
  {
   "cell_type": "code",
   "execution_count": 19,
   "id": "1930d5e5-73b3-43c2-ab41-a7ef59c57bfa",
   "metadata": {
    "execution": {
     "iopub.execute_input": "2025-01-09T04:18:20.683506Z",
     "iopub.status.busy": "2025-01-09T04:18:20.683294Z",
     "iopub.status.idle": "2025-01-09T04:18:20.688011Z",
     "shell.execute_reply": "2025-01-09T04:18:20.687189Z",
     "shell.execute_reply.started": "2025-01-09T04:18:20.683489Z"
    }
   },
   "outputs": [],
   "source": [
    "med_areas = copy(med_fld.data.reshape(300,360)*6.37122E6*6.37122E6)"
   ]
  },
  {
   "cell_type": "markdown",
   "id": "e2dcdd66-55bb-4358-bae6-b76413dd1b7c",
   "metadata": {},
   "source": [
    "# DROF to Mediator"
   ]
  },
  {
   "cell_type": "markdown",
   "id": "2a5dca4d-bc1a-42d9-83a5-edc96830250e",
   "metadata": {
    "execution": {
     "iopub.execute_input": "2025-01-09T01:17:57.080199Z",
     "iopub.status.busy": "2025-01-09T01:17:57.077767Z",
     "iopub.status.idle": "2025-01-09T01:17:57.091269Z",
     "shell.execute_reply": "2025-01-09T01:17:57.089800Z",
     "shell.execute_reply.started": "2025-01-09T01:17:57.080122Z"
    }
   },
   "source": [
    "If we start from the source, want to compare the incoming run off from JRA to the runoff received by the mediator. This remaps from the JRA grid to the mediator grid (the same as the ocean grid in this case).\n",
    "\n",
    "The mesh files are configured through the `meshfile` in `drof.streams.xml` for the DROF mesh, and `model_meshfile` in `drof_in` for the mediator"
   ]
  },
  {
   "cell_type": "code",
   "execution_count": 20,
   "id": "d6c9764f-451d-46f6-97cb-74c73f658d12",
   "metadata": {
    "execution": {
     "iopub.execute_input": "2025-01-09T04:18:20.688957Z",
     "iopub.status.busy": "2025-01-09T04:18:20.688773Z",
     "iopub.status.idle": "2025-01-09T04:18:26.435987Z",
     "shell.execute_reply": "2025-01-09T04:18:26.434965Z",
     "shell.execute_reply.started": "2025-01-09T04:18:20.688941Z"
    }
   },
   "outputs": [],
   "source": [
    "rof_med_files = ! ls output*/access-om3.cpl.ha.rof.*\n",
    "\n",
    "rof_med_ds = xr.open_mfdataset(rof_med_files)"
   ]
  },
  {
   "cell_type": "code",
   "execution_count": 23,
   "id": "e41c57fd-6b65-4754-bd2c-275d8ea74ac9",
   "metadata": {
    "execution": {
     "iopub.execute_input": "2025-01-09T04:18:57.147203Z",
     "iopub.status.busy": "2025-01-09T04:18:57.144518Z",
     "iopub.status.idle": "2025-01-09T04:18:57.194198Z",
     "shell.execute_reply": "2025-01-09T04:18:57.193215Z",
     "shell.execute_reply.started": "2025-01-09T04:18:57.147135Z"
    }
   },
   "outputs": [],
   "source": [
    "jra_runoff = ((ryf_runoff_ds.friver+ryf_runoff_ds.licalvf)*rof_areas).cf.sum(['X','Y'])"
   ]
  },
  {
   "cell_type": "code",
   "execution_count": 24,
   "id": "209bcfb0-b0b4-47c3-b26c-d804edf0b28d",
   "metadata": {
    "execution": {
     "iopub.execute_input": "2025-01-09T04:18:58.461639Z",
     "iopub.status.busy": "2025-01-09T04:18:58.461084Z",
     "iopub.status.idle": "2025-01-09T04:18:58.493992Z",
     "shell.execute_reply": "2025-01-09T04:18:58.492523Z",
     "shell.execute_reply.started": "2025-01-09T04:18:58.461592Z"
    }
   },
   "outputs": [],
   "source": [
    "jra_licalvf_runoff = ((ryf_runoff_ds.licalvf)*rof_areas).cf.sum(['X','Y'])"
   ]
  },
  {
   "cell_type": "code",
   "execution_count": 25,
   "id": "9652d066-ac50-43be-a9ba-2c8a1edf794a",
   "metadata": {
    "execution": {
     "iopub.execute_input": "2025-01-09T04:18:58.834096Z",
     "iopub.status.busy": "2025-01-09T04:18:58.832941Z",
     "iopub.status.idle": "2025-01-09T04:18:58.865507Z",
     "shell.execute_reply": "2025-01-09T04:18:58.864197Z",
     "shell.execute_reply.started": "2025-01-09T04:18:58.834040Z"
    }
   },
   "outputs": [],
   "source": [
    "jra_friver_runoff = ((ryf_runoff_ds.friver)*rof_areas).cf.sum(['X','Y'])"
   ]
  },
  {
   "cell_type": "code",
   "execution_count": null,
   "id": "21423e44-6408-429b-84b3-712bc08c935c",
   "metadata": {},
   "outputs": [],
   "source": []
  },
  {
   "cell_type": "code",
   "execution_count": 26,
   "id": "e9874d92-ed02-4ffa-b1bc-a31fb4fa0500",
   "metadata": {
    "execution": {
     "iopub.execute_input": "2025-01-09T04:19:03.448955Z",
     "iopub.status.busy": "2025-01-09T04:19:03.447570Z",
     "iopub.status.idle": "2025-01-09T04:19:08.879874Z",
     "shell.execute_reply": "2025-01-09T04:19:08.878699Z",
     "shell.execute_reply.started": "2025-01-09T04:19:03.448903Z"
    }
   },
   "outputs": [
    {
     "data": {
      "text/plain": [
       "[<matplotlib.lines.Line2D at 0x14ac45746bc0>]"
      ]
     },
     "execution_count": 26,
     "metadata": {},
     "output_type": "execute_result"
    },
    {
     "data": {
      "image/png": "[encoded data removed]",
      "text/plain": [
       "<Figure size 640x480 with 1 Axes>"
      ]
     },
     "metadata": {},
     "output_type": "display_data"
    }
   ],
   "source": [
    "jra_friver_runoff.plot(label='jra55do')\n",
    "(rof_med_ds.rofImp_Forr_rofl*med_areas).sum(['rofImp_ny','rofImp_nx']).plot()\n"
   ]
  },
  {
   "cell_type": "code",
   "execution_count": 27,
   "id": "fd310b97-4404-44db-837b-bbfaefd8c26b",
   "metadata": {
    "execution": {
     "iopub.execute_input": "2025-01-09T04:19:08.881601Z",
     "iopub.status.busy": "2025-01-09T04:19:08.881397Z",
     "iopub.status.idle": "2025-01-09T04:19:13.312560Z",
     "shell.execute_reply": "2025-01-09T04:19:13.311414Z",
     "shell.execute_reply.started": "2025-01-09T04:19:08.881583Z"
    },
    "scrolled": true
   },
   "outputs": [
    {
     "data": {
      "text/plain": [
       "[<matplotlib.lines.Line2D at 0x14ac45210b80>]"
      ]
     },
     "execution_count": 27,
     "metadata": {},
     "output_type": "execute_result"
    },
    {
     "data": {
      "image/png": "[encoded data removed]",
      "text/plain": [
       "<Figure size 640x480 with 1 Axes>"
      ]
     },
     "metadata": {},
     "output_type": "display_data"
    }
   ],
   "source": [
    "jra_licalvf_runoff.plot(label='jra55do')\n",
    "(rof_med_ds.rofImp_Forr_rofi*med_areas).sum(['rofImp_ny','rofImp_nx']).plot()\n"
   ]
  },
  {
   "cell_type": "markdown",
   "id": "a5e40d54-6976-42f7-94bd-b85e9743c796",
   "metadata": {},
   "source": [
    "You can see we have less liquid run-off entering the mediator (orange-line) than exists in the DROF. This is because the access-om2 1degee grid starts at 78S however the DROF product has meltwater south of this location:"
   ]
  },
  {
   "cell_type": "code",
   "execution_count": 28,
   "id": "2ed310f1-e669-4d92-82f8-a5b13645710f",
   "metadata": {
    "execution": {
     "iopub.execute_input": "2025-01-09T04:19:13.313739Z",
     "iopub.status.busy": "2025-01-09T04:19:13.313554Z",
     "iopub.status.idle": "2025-01-09T04:19:17.951245Z",
     "shell.execute_reply": "2025-01-09T04:19:17.950175Z",
     "shell.execute_reply.started": "2025-01-09T04:19:13.313723Z"
    }
   },
   "outputs": [
    {
     "data": {
      "text/plain": [
       "<matplotlib.collections.QuadMesh at 0x14ad0e50d7e0>"
      ]
     },
     "execution_count": 28,
     "metadata": {},
     "output_type": "execute_result"
    },
    {
     "data": {
      "image/png": "[encoded data removed]",
      "text/plain": [
       "<Figure size 1200x400 with 4 Axes>"
      ]
     },
     "metadata": {},
     "output_type": "display_data"
    }
   ],
   "source": [
    "plt.figure(figsize=(12,4))\n",
    "plt.subplot(1,2,1)\n",
    "ryf_runoff_ds.sum('time').friver.sel(lat=slice(None,-78)).plot()\n",
    "plt.subplot(1,2,2)\n",
    "ryf_runoff_ds.sum('time').licalvf.sel(lat=slice(None,-78)).plot()"
   ]
  },
  {
   "cell_type": "markdown",
   "id": "65fb093e-cb1c-4c7a-be40-d30f0d97af73",
   "metadata": {},
   "source": [
    "If we remove the meltwater south of 78S, then the match is closer:"
   ]
  },
  {
   "cell_type": "code",
   "execution_count": 29,
   "id": "034cb6e3-c299-480b-ae98-2e833b8a52d8",
   "metadata": {
    "execution": {
     "iopub.execute_input": "2025-01-09T04:19:17.953446Z",
     "iopub.status.busy": "2025-01-09T04:19:17.953243Z",
     "iopub.status.idle": "2025-01-09T04:19:17.979452Z",
     "shell.execute_reply": "2025-01-09T04:19:17.975725Z",
     "shell.execute_reply.started": "2025-01-09T04:19:17.953428Z"
    }
   },
   "outputs": [],
   "source": [
    "jra_licalvf_runoff = ((ryf_runoff_ds.licalvf)*rof_areas).sel(lat=slice(-78,None)).cf.sum(['X','Y'])"
   ]
  },
  {
   "cell_type": "code",
   "execution_count": 30,
   "id": "fa27011e-d52d-4d87-a008-1336b1f387ee",
   "metadata": {
    "execution": {
     "iopub.execute_input": "2025-01-09T04:19:17.980586Z",
     "iopub.status.busy": "2025-01-09T04:19:17.980400Z",
     "iopub.status.idle": "2025-01-09T04:19:18.014219Z",
     "shell.execute_reply": "2025-01-09T04:19:18.012365Z",
     "shell.execute_reply.started": "2025-01-09T04:19:17.980569Z"
    }
   },
   "outputs": [],
   "source": [
    "jra_friver_runoff = ((ryf_runoff_ds.friver)*rof_areas).sel(lat=slice(-78,None)).cf.sum(['X','Y'])"
   ]
  },
  {
   "cell_type": "code",
   "execution_count": 31,
   "id": "f253e7c7-19b1-48b0-a227-cbfe84153a53",
   "metadata": {
    "execution": {
     "iopub.execute_input": "2025-01-09T04:19:18.017181Z",
     "iopub.status.busy": "2025-01-09T04:19:18.016490Z",
     "iopub.status.idle": "2025-01-09T04:19:21.963436Z",
     "shell.execute_reply": "2025-01-09T04:19:21.962287Z",
     "shell.execute_reply.started": "2025-01-09T04:19:18.017133Z"
    }
   },
   "outputs": [
    {
     "data": {
      "text/plain": [
       "[<matplotlib.lines.Line2D at 0x14ac3c19df00>]"
      ]
     },
     "execution_count": 31,
     "metadata": {},
     "output_type": "execute_result"
    },
    {
     "data": {
      "image/png": "[encoded data removed]",
      "text/plain": [
       "<Figure size 640x480 with 1 Axes>"
      ]
     },
     "metadata": {},
     "output_type": "display_data"
    }
   ],
   "source": [
    "jra_friver_runoff.plot(label='jra55do')\n",
    "(rof_med_ds.rofImp_Forr_rofl*med_areas).sum(['rofImp_ny','rofImp_nx']).plot()\n"
   ]
  },
  {
   "cell_type": "code",
   "execution_count": 32,
   "id": "3eefdb4c-788b-4287-b0e3-245be2debba4",
   "metadata": {
    "execution": {
     "iopub.execute_input": "2025-01-09T04:19:21.965329Z",
     "iopub.status.busy": "2025-01-09T04:19:21.964939Z",
     "iopub.status.idle": "2025-01-09T04:19:26.397384Z",
     "shell.execute_reply": "2025-01-09T04:19:26.396454Z",
     "shell.execute_reply.started": "2025-01-09T04:19:21.965309Z"
    }
   },
   "outputs": [
    {
     "data": {
      "text/plain": [
       "[<matplotlib.lines.Line2D at 0x14ac3bc5d870>]"
      ]
     },
     "execution_count": 32,
     "metadata": {},
     "output_type": "execute_result"
    },
    {
     "data": {
      "image/png": "[encoded data removed]",
      "text/plain": [
       "<Figure size 640x480 with 1 Axes>"
      ]
     },
     "metadata": {},
     "output_type": "display_data"
    }
   ],
   "source": [
    "jra_licalvf_runoff.plot(label='jra55do')\n",
    "(rof_med_ds.rofImp_Forr_rofi*med_areas).sum(['rofImp_ny','rofImp_nx']).plot()\n"
   ]
  },
  {
   "cell_type": "markdown",
   "id": "a19c4d1f-3f4f-43c1-9e0c-f70627ba605e",
   "metadata": {},
   "source": [
    "Whilst we are here, we can compare the cell areas used by the mediator to those provided by the data product:"
   ]
  },
  {
   "cell_type": "code",
   "execution_count": 33,
   "id": "9cc5b0e1-4b5d-4076-b326-e95dfcd11e68",
   "metadata": {
    "execution": {
     "iopub.execute_input": "2025-01-09T04:19:26.398938Z",
     "iopub.status.busy": "2025-01-09T04:19:26.398747Z",
     "iopub.status.idle": "2025-01-09T04:19:34.947320Z",
     "shell.execute_reply": "2025-01-09T04:19:34.946369Z",
     "shell.execute_reply.started": "2025-01-09T04:19:26.398920Z"
    }
   },
   "outputs": [
    {
     "data": {
      "text/plain": [
       "<matplotlib.colorbar.Colorbar at 0x14ac0a9c22f0>"
      ]
     },
     "execution_count": 33,
     "metadata": {},
     "output_type": "execute_result"
    },
    {
     "data": {
      "image/png": "[encoded data removed]",
      "text/plain": [
       "<Figure size 640x480 with 2 Axes>"
      ]
     },
     "metadata": {},
     "output_type": "display_data"
    }
   ],
   "source": [
    "plt.pcolor(rof_areas-ryf_runoff_ds.areacello.values)\n",
    "plt.colorbar()"
   ]
  },
  {
   "cell_type": "code",
   "execution_count": 34,
   "id": "223af40e-59b4-422b-9981-4c52a72511aa",
   "metadata": {
    "execution": {
     "iopub.execute_input": "2025-01-09T04:19:34.948946Z",
     "iopub.status.busy": "2025-01-09T04:19:34.948569Z",
     "iopub.status.idle": "2025-01-09T04:19:42.528610Z",
     "shell.execute_reply": "2025-01-09T04:19:42.527653Z",
     "shell.execute_reply.started": "2025-01-09T04:19:34.948927Z"
    }
   },
   "outputs": [
    {
     "data": {
      "text/plain": [
       "<matplotlib.colorbar.Colorbar at 0x14abe4192da0>"
      ]
     },
     "execution_count": 34,
     "metadata": {},
     "output_type": "execute_result"
    },
    {
     "data": {
      "image/png": "[encoded data removed]",
      "text/plain": [
       "<Figure size 640x480 with 2 Axes>"
      ]
     },
     "metadata": {},
     "output_type": "display_data"
    }
   ],
   "source": [
    "plt.pcolor((rof_areas-ryf_runoff_ds.areacello.values)/rof_areas)\n",
    "plt.colorbar()"
   ]
  },
  {
   "cell_type": "markdown",
   "id": "d8e8c8b2-5bc9-4348-a72a-d326fcc9bb70",
   "metadata": {},
   "source": [
    "They are not totally identical. The ones in the data product are about 0.12% smaller. Which should be inconsequential."
   ]
  },
  {
   "cell_type": "markdown",
   "id": "f0e07aeb-b48a-4a92-a73f-aae196914cff",
   "metadata": {},
   "source": [
    "# Mediator to mediator"
   ]
  },
  {
   "cell_type": "markdown",
   "id": "9ee98f65-377d-4803-aebb-06aefebcda35",
   "metadata": {},
   "source": [
    "Note the configuration here on the DROF doesn't have any awareness of the ocean/land mask. It just maps from any cell to any cell. We use the mediator remapping step to moved all runoff into ocean cells, so the ocn model receives the same overall volume of runoff that is received by the mediator.\n",
    "\n",
    "(The mediator remapping step is a little strange in our case. The mediator uses the same mesh as the ocean, so there is nothing to regrid, however we use the remapping weights to move an runoff going to land cells to go to ocean cells.)\n",
    "\n",
    "The mesh files are `mesh_rof` in `nuopc.runconfig` for the incoming field, and `mesh_ocn` in the same file for the outgoing field."
   ]
  },
  {
   "cell_type": "code",
   "execution_count": 35,
   "id": "9a95f23b-f9f0-46ec-9826-4835cd532d51",
   "metadata": {
    "execution": {
     "iopub.execute_input": "2025-01-09T04:19:53.050861Z",
     "iopub.status.busy": "2025-01-09T04:19:53.048986Z",
     "iopub.status.idle": "2025-01-09T04:20:07.417066Z",
     "shell.execute_reply": "2025-01-09T04:20:07.415932Z",
     "shell.execute_reply.started": "2025-01-09T04:19:53.050805Z"
    }
   },
   "outputs": [],
   "source": [
    "ocn_med_files = ! ls output*/access-om3.cpl.ha.ocn.*\n",
    "\n",
    "ocn_med_ds = xr.open_mfdataset(ocn_med_files)"
   ]
  },
  {
   "cell_type": "markdown",
   "id": "2f923ae3-f8fa-4b35-bccd-ece584d3303f",
   "metadata": {},
   "source": [
    "First check the overall volumes"
   ]
  },
  {
   "cell_type": "code",
   "execution_count": 36,
   "id": "c8f881c9-7852-4941-abff-4f73843107f4",
   "metadata": {
    "execution": {
     "iopub.execute_input": "2025-01-09T04:20:07.421014Z",
     "iopub.status.busy": "2025-01-09T04:20:07.420357Z",
     "iopub.status.idle": "2025-01-09T04:20:14.119601Z",
     "shell.execute_reply": "2025-01-09T04:20:14.118525Z",
     "shell.execute_reply.started": "2025-01-09T04:20:07.420991Z"
    }
   },
   "outputs": [
    {
     "data": {
      "text/plain": [
       "[<matplotlib.lines.Line2D at 0x14ac372a11b0>]"
      ]
     },
     "execution_count": 36,
     "metadata": {},
     "output_type": "execute_result"
    },
    {
     "data": {
      "image/png": "[encoded data removed]",
      "text/plain": [
       "<Figure size 640x480 with 1 Axes>"
      ]
     },
     "metadata": {},
     "output_type": "display_data"
    }
   ],
   "source": [
    "(rof_med_ds.rofImp_Forr_rofl*med_areas).sum(['rofImp_ny','rofImp_nx']).plot()\n",
    "(ocn_med_ds.ocnExp_Foxx_rofl*med_areas).sum(['ocnExp_ny','ocnExp_nx']).plot()"
   ]
  },
  {
   "cell_type": "code",
   "execution_count": 37,
   "id": "3349eb60-d983-408d-93e4-f5e6b0906492",
   "metadata": {
    "execution": {
     "iopub.execute_input": "2025-01-09T04:20:14.121938Z",
     "iopub.status.busy": "2025-01-09T04:20:14.121261Z",
     "iopub.status.idle": "2025-01-09T04:20:19.857206Z",
     "shell.execute_reply": "2025-01-09T04:20:19.856193Z",
     "shell.execute_reply.started": "2025-01-09T04:20:14.121919Z"
    }
   },
   "outputs": [
    {
     "data": {
      "text/plain": [
       "[<matplotlib.lines.Line2D at 0x14ac390986a0>]"
      ]
     },
     "execution_count": 37,
     "metadata": {},
     "output_type": "execute_result"
    },
    {
     "data": {
      "image/png": "[encoded data removed]",
      "text/plain": [
       "<Figure size 640x480 with 1 Axes>"
      ]
     },
     "metadata": {},
     "output_type": "display_data"
    }
   ],
   "source": [
    "(rof_med_ds.rofImp_Forr_rofi*med_areas).sum(['rofImp_ny','rofImp_nx']).plot()\n",
    "(ocn_med_ds.ocnExp_Foxx_rofi*med_areas).sum(['ocnExp_ny','ocnExp_nx']).plot()"
   ]
  },
  {
   "cell_type": "markdown",
   "id": "e2f1a24e-0bb7-44c4-8b89-5c03b97f2a7e",
   "metadata": {},
   "source": [
    "And the difference in location of the outgoing vs incoming runoff"
   ]
  },
  {
   "cell_type": "code",
   "execution_count": 38,
   "id": "622c3b8f-831e-4331-b2e0-a0d813e81b79",
   "metadata": {
    "execution": {
     "iopub.execute_input": "2025-01-09T04:20:19.858633Z",
     "iopub.status.busy": "2025-01-09T04:20:19.858406Z",
     "iopub.status.idle": "2025-01-09T04:20:19.872389Z",
     "shell.execute_reply": "2025-01-09T04:20:19.871709Z",
     "shell.execute_reply.started": "2025-01-09T04:20:19.858612Z"
    }
   },
   "outputs": [],
   "source": [
    "mod_mesh_ds = xr.open_dataset(MODEL_MESH_F)"
   ]
  },
  {
   "cell_type": "code",
   "execution_count": 51,
   "id": "5c74b1d2-39cd-43ca-9f7c-9bb13e35926a",
   "metadata": {
    "execution": {
     "iopub.execute_input": "2025-01-09T04:28:45.795276Z",
     "iopub.status.busy": "2025-01-09T04:28:45.793546Z",
     "iopub.status.idle": "2025-01-09T04:28:50.704071Z",
     "shell.execute_reply": "2025-01-09T04:28:50.703121Z",
     "shell.execute_reply.started": "2025-01-09T04:28:45.795222Z"
    }
   },
   "outputs": [
    {
     "data": {
      "text/plain": [
       "<matplotlib.collections.QuadMesh at 0x14abc8a2dea0>"
      ]
     },
     "execution_count": 51,
     "metadata": {},
     "output_type": "execute_result"
    },
    {
     "data": {
      "image/png": "[encoded data removed]",
      "text/plain": [
       "<Figure size 640x480 with 2 Axes>"
      ]
     },
     "metadata": {},
     "output_type": "display_data"
    }
   ],
   "source": [
    "plt.pcolor(ocn_med_ds.ocnExp_Foxx_rofl.sum('time').values - rof_med_ds.rofImp_Forr_rofl.sum('time').values, vmin = -1e-5, vmax = 1e-5, cmap='viridis')\n",
    "plt.colorbar()\n",
    "plt.pcolormesh(mod_mesh_ds.elementMask.values.reshape(300,360), cmap='grey', alpha=0.1)\n"
   ]
  },
  {
   "cell_type": "code",
   "execution_count": 53,
   "id": "bf1468c4-755e-4ad5-bc91-4515c09c631f",
   "metadata": {
    "execution": {
     "iopub.execute_input": "2025-01-09T04:29:29.630712Z",
     "iopub.status.busy": "2025-01-09T04:29:29.628922Z",
     "iopub.status.idle": "2025-01-09T04:29:34.730105Z",
     "shell.execute_reply": "2025-01-09T04:29:34.727793Z",
     "shell.execute_reply.started": "2025-01-09T04:29:29.630647Z"
    }
   },
   "outputs": [
    {
     "data": {
      "text/plain": [
       "<matplotlib.collections.QuadMesh at 0x14abcfef00a0>"
      ]
     },
     "execution_count": 53,
     "metadata": {},
     "output_type": "execute_result"
    },
    {
     "data": {
      "image/png": "[encoded data removed]",
      "text/plain": [
       "<Figure size 640x480 with 2 Axes>"
      ]
     },
     "metadata": {},
     "output_type": "display_data"
    }
   ],
   "source": [
    "plt.pcolor(ocn_med_ds.ocnExp_Foxx_rofi.sum('time').values - rof_med_ds.rofImp_Forr_rofi.sum('time').values, vmin = -1e-5, vmax = 1e-5, cmap='viridis')\n",
    "plt.colorbar()\n",
    "plt.pcolormesh(mod_mesh_ds.elementMask.values.reshape(300,360), cmap='grey', alpha=0.1)\n"
   ]
  },
  {
   "cell_type": "code",
   "execution_count": null,
   "id": "8f71d142-4128-4cdb-9a7c-25feda47042c",
   "metadata": {},
   "outputs": [],
   "source": []
  },
  {
   "cell_type": "markdown",
   "id": "7c675516-d445-4b11-bfdf-368c80c7a870",
   "metadata": {},
   "source": [
    "# Mediator to OCN"
   ]
  },
  {
   "cell_type": "markdown",
   "id": "d020389d-62bc-44fa-9cc1-2de5921477d6",
   "metadata": {
    "execution": {
     "iopub.execute_input": "2025-01-09T03:12:59.395313Z",
     "iopub.status.busy": "2025-01-09T03:12:59.392072Z",
     "iopub.status.idle": "2025-01-09T03:12:59.409761Z",
     "shell.execute_reply": "2025-01-09T03:12:59.408092Z",
     "shell.execute_reply.started": "2025-01-09T03:12:59.395207Z"
    }
   },
   "source": [
    "There is no remapping at this step, it relies on the `ocn_mesh` file and the MOM grid being the same (with the exception that the MOM6 Nuopc cap will correct for differences in cell area between the ocn_mesh and MOM grid)."
   ]
  },
  {
   "cell_type": "code",
   "execution_count": 41,
   "id": "b77778fc-4ffc-4939-b4cd-700b9d854d26",
   "metadata": {
    "execution": {
     "iopub.execute_input": "2025-01-09T04:20:30.766971Z",
     "iopub.status.busy": "2025-01-09T04:20:30.766794Z",
     "iopub.status.idle": "2025-01-09T04:20:30.800046Z",
     "shell.execute_reply": "2025-01-09T04:20:30.795295Z",
     "shell.execute_reply.started": "2025-01-09T04:20:30.766953Z"
    }
   },
   "outputs": [],
   "source": [
    "om3_ds = open_esm_datastore(\n",
    "    f'{ARCHIVE_DIR}/intake_esm_ds.json', \n",
    "    columns_with_iterables=['variable','variable_long_name','variable_standard_name'])"
   ]
  },
  {
   "cell_type": "code",
   "execution_count": 42,
   "id": "5ddf911b-9995-4bdd-9865-79c680bcd50f",
   "metadata": {
    "execution": {
     "iopub.execute_input": "2025-01-09T04:20:30.803066Z",
     "iopub.status.busy": "2025-01-09T04:20:30.802596Z",
     "iopub.status.idle": "2025-01-09T04:20:39.076103Z",
     "shell.execute_reply": "2025-01-09T04:20:39.072710Z",
     "shell.execute_reply.started": "2025-01-09T04:20:30.803046Z"
    }
   },
   "outputs": [],
   "source": [
    "mom_frof_ds = om3_ds.search(variable=['friver', 'ficeberg']).to_dask()"
   ]
  },
  {
   "cell_type": "code",
   "execution_count": 43,
   "id": "74fdb805-93c0-47ac-ae1c-3263aa9de4c1",
   "metadata": {
    "execution": {
     "iopub.execute_input": "2025-01-09T04:20:39.079446Z",
     "iopub.status.busy": "2025-01-09T04:20:39.078612Z",
     "iopub.status.idle": "2025-01-09T04:20:39.151039Z",
     "shell.execute_reply": "2025-01-09T04:20:39.149949Z",
     "shell.execute_reply.started": "2025-01-09T04:20:39.079376Z"
    }
   },
   "outputs": [
    {
     "data": {
      "text/html": [
       "<div><svg style=\"position: absolute; width: 0; height: 0; overflow: hidden\">\n",
       "<defs>\n",
       "<symbol id=\"icon-database\" viewBox=\"0 0 32 32\">\n",
       "<path d=\"M16 0c-8.837 0-16 2.239-16 5v4c0 2.761 7.163 5 16 5s16-2.239 16-5v-4c0-2.761-7.163-5-16-5z\"></path>\n",
       "<path d=\"M16 17c-8.837 0-16-2.239-16-5v6c0 2.761 7.163 5 16 5s16-2.239 16-5v-6c0 2.761-7.163 5-16 5z\"></path>\n",
       "<path d=\"M16 26c-8.837 0-16-2.239-16-5v6c0 2.761 7.163 5 16 5s16-2.239 16-5v-6c0 2.761-7.163 5-16 5z\"></path>\n",
       "</symbol>\n",
       "<symbol id=\"icon-file-text2\" viewBox=\"0 0 32 32\">\n",
       "<path d=\"M28.681 7.159c-0.694-0.947-1.662-2.053-2.724-3.116s-2.169-2.030-3.116-2.724c-1.612-1.182-2.393-1.319-2.841-1.319h-15.5c-1.378 0-2.5 1.121-2.5 2.5v27c0 1.378 1.122 2.5 2.5 2.5h23c1.378 0 2.5-1.122 2.5-2.5v-19.5c0-0.448-0.137-1.23-1.319-2.841zM24.543 5.457c0.959 0.959 1.712 1.825 2.268 2.543h-4.811v-4.811c0.718 0.556 1.584 1.309 2.543 2.268zM28 29.5c0 0.271-0.229 0.5-0.5 0.5h-23c-0.271 0-0.5-0.229-0.5-0.5v-27c0-0.271 0.229-0.5 0.5-0.5 0 0 15.499-0 15.5 0v7c0 0.552 0.448 1 1 1h7v19.5z\"></path>\n",
       "<path d=\"M23 26h-14c-0.552 0-1-0.448-1-1s0.448-1 1-1h14c0.552 0 1 0.448 1 1s-0.448 1-1 1z\"></path>\n",
       "<path d=\"M23 22h-14c-0.552 0-1-0.448-1-1s0.448-1 1-1h14c0.552 0 1 0.448 1 1s-0.448 1-1 1z\"></path>\n",
       "<path d=\"M23 18h-14c-0.552 0-1-0.448-1-1s0.448-1 1-1h14c0.552 0 1 0.448 1 1s-0.448 1-1 1z\"></path>\n",
       "</symbol>\n",
       "</defs>\n",
       "</svg>\n",
       "<style>/* CSS stylesheet for displaying xarray objects in jupyterlab.\n",
       " *\n",
       " */\n",
       "\n",
       ":root {\n",
       "  --xr-font-color0: var(--jp-content-font-color0, rgba(0, 0, 0, 1));\n",
       "  --xr-font-color2: var(--jp-content-font-color2, rgba(0, 0, 0, 0.54));\n",
       "  --xr-font-color3: var(--jp-content-font-color3, rgba(0, 0, 0, 0.38));\n",
       "  --xr-border-color: var(--jp-border-color2, #e0e0e0);\n",
       "  --xr-disabled-color: var(--jp-layout-color3, #bdbdbd);\n",
       "  --xr-background-color: var(--jp-layout-color0, white);\n",
       "  --xr-background-color-row-even: var(--jp-layout-color1, white);\n",
       "  --xr-background-color-row-odd: var(--jp-layout-color2, #eeeeee);\n",
       "}\n",
       "\n",
       "html[theme=dark],\n",
       "body[data-theme=dark],\n",
       "body.vscode-dark {\n",
       "  --xr-font-color0: rgba(255, 255, 255, 1);\n",
       "  --xr-font-color2: rgba(255, 255, 255, 0.54);\n",
       "  --xr-font-color3: rgba(255, 255, 255, 0.38);\n",
       "  --xr-border-color: #1F1F1F;\n",
       "  --xr-disabled-color: #515151;\n",
       "  --xr-background-color: #111111;\n",
       "  --xr-background-color-row-even: #111111;\n",
       "  --xr-background-color-row-odd: #313131;\n",
       "}\n",
       "\n",
       ".xr-wrap {\n",
       "  display: block !important;\n",
       "  min-width: 300px;\n",
       "  max-width: 700px;\n",
       "}\n",
       "\n",
       ".xr-text-repr-fallback {\n",
       "  /* fallback to plain text repr when CSS is not injected (untrusted notebook) */\n",
       "  display: none;\n",
       "}\n",
       "\n",
       ".xr-header {\n",
       "  padding-top: 6px;\n",
       "  padding-bottom: 6px;\n",
       "  margin-bottom: 4px;\n",
       "  border-bottom: solid 1px var(--xr-border-color);\n",
       "}\n",
       "\n",
       ".xr-header > div,\n",
       ".xr-header > ul {\n",
       "  display: inline;\n",
       "  margin-top: 0;\n",
       "  margin-bottom: 0;\n",
       "}\n",
       "\n",
       ".xr-obj-type,\n",
       ".xr-array-name {\n",
       "  margin-left: 2px;\n",
       "  margin-right: 10px;\n",
       "}\n",
       "\n",
       ".xr-obj-type {\n",
       "  color: var(--xr-font-color2);\n",
       "}\n",
       "\n",
       ".xr-sections {\n",
       "  padding-left: 0 !important;\n",
       "  display: grid;\n",
       "  grid-template-columns: 150px auto auto 1fr 20px 20px;\n",
       "}\n",
       "\n",
       ".xr-section-item {\n",
       "  display: contents;\n",
       "}\n",
       "\n",
       ".xr-section-item input {\n",
       "  display: none;\n",
       "}\n",
       "\n",
       ".xr-section-item input + label {\n",
       "  color: var(--xr-disabled-color);\n",
       "}\n",
       "\n",
       ".xr-section-item input:enabled + label {\n",
       "  cursor: pointer;\n",
       "  color: var(--xr-font-color2);\n",
       "}\n",
       "\n",
       ".xr-section-item input:enabled + label:hover {\n",
       "  color: var(--xr-font-color0);\n",
       "}\n",
       "\n",
       ".xr-section-summary {\n",
       "  grid-column: 1;\n",
       "  color: var(--xr-font-color2);\n",
       "  font-weight: 500;\n",
       "}\n",
       "\n",
       ".xr-section-summary > span {\n",
       "  display: inline-block;\n",
       "  padding-left: 0.5em;\n",
       "}\n",
       "\n",
       ".xr-section-summary-in:disabled + label {\n",
       "  color: var(--xr-font-color2);\n",
       "}\n",
       "\n",
       ".xr-section-summary-in + label:before {\n",
       "  display: inline-block;\n",
       "  content: '►';\n",
       "  font-size: 11px;\n",
       "  width: 15px;\n",
       "  text-align: center;\n",
       "}\n",
       "\n",
       ".xr-section-summary-in:disabled + label:before {\n",
       "  color: var(--xr-disabled-color);\n",
       "}\n",
       "\n",
       ".xr-section-summary-in:checked + label:before {\n",
       "  content: '▼';\n",
       "}\n",
       "\n",
       ".xr-section-summary-in:checked + label > span {\n",
       "  display: none;\n",
       "}\n",
       "\n",
       ".xr-section-summary,\n",
       ".xr-section-inline-details {\n",
       "  padding-top: 4px;\n",
       "  padding-bottom: 4px;\n",
       "}\n",
       "\n",
       ".xr-section-inline-details {\n",
       "  grid-column: 2 / -1;\n",
       "}\n",
       "\n",
       ".xr-section-details {\n",
       "  display: none;\n",
       "  grid-column: 1 / -1;\n",
       "  margin-bottom: 5px;\n",
       "}\n",
       "\n",
       ".xr-section-summary-in:checked ~ .xr-section-details {\n",
       "  display: contents;\n",
       "}\n",
       "\n",
       ".xr-array-wrap {\n",
       "  grid-column: 1 / -1;\n",
       "  display: grid;\n",
       "  grid-template-columns: 20px auto;\n",
       "}\n",
       "\n",
       ".xr-array-wrap > label {\n",
       "  grid-column: 1;\n",
       "  vertical-align: top;\n",
       "}\n",
       "\n",
       ".xr-preview {\n",
       "  color: var(--xr-font-color3);\n",
       "}\n",
       "\n",
       ".xr-array-preview,\n",
       ".xr-array-data {\n",
       "  padding: 0 5px !important;\n",
       "  grid-column: 2;\n",
       "}\n",
       "\n",
       ".xr-array-data,\n",
       ".xr-array-in:checked ~ .xr-array-preview {\n",
       "  display: none;\n",
       "}\n",
       "\n",
       ".xr-array-in:checked ~ .xr-array-data,\n",
       ".xr-array-preview {\n",
       "  display: inline-block;\n",
       "}\n",
       "\n",
       ".xr-dim-list {\n",
       "  display: inline-block !important;\n",
       "  list-style: none;\n",
       "  padding: 0 !important;\n",
       "  margin: 0;\n",
       "}\n",
       "\n",
       ".xr-dim-list li {\n",
       "  display: inline-block;\n",
       "  padding: 0;\n",
       "  margin: 0;\n",
       "}\n",
       "\n",
       ".xr-dim-list:before {\n",
       "  content: '(';\n",
       "}\n",
       "\n",
       ".xr-dim-list:after {\n",
       "  content: ')';\n",
       "}\n",
       "\n",
       ".xr-dim-list li:not(:last-child):after {\n",
       "  content: ',';\n",
       "  padding-right: 5px;\n",
       "}\n",
       "\n",
       ".xr-has-index {\n",
       "  font-weight: bold;\n",
       "}\n",
       "\n",
       ".xr-var-list,\n",
       ".xr-var-item {\n",
       "  display: contents;\n",
       "}\n",
       "\n",
       ".xr-var-item > div,\n",
       ".xr-var-item label,\n",
       ".xr-var-item > .xr-var-name span {\n",
       "  background-color: var(--xr-background-color-row-even);\n",
       "  margin-bottom: 0;\n",
       "}\n",
       "\n",
       ".xr-var-item > .xr-var-name:hover span {\n",
       "  padding-right: 5px;\n",
       "}\n",
       "\n",
       ".xr-var-list > li:nth-child(odd) > div,\n",
       ".xr-var-list > li:nth-child(odd) > label,\n",
       ".xr-var-list > li:nth-child(odd) > .xr-var-name span {\n",
       "  background-color: var(--xr-background-color-row-odd);\n",
       "}\n",
       "\n",
       ".xr-var-name {\n",
       "  grid-column: 1;\n",
       "}\n",
       "\n",
       ".xr-var-dims {\n",
       "  grid-column: 2;\n",
       "}\n",
       "\n",
       ".xr-var-dtype {\n",
       "  grid-column: 3;\n",
       "  text-align: right;\n",
       "  color: var(--xr-font-color2);\n",
       "}\n",
       "\n",
       ".xr-var-preview {\n",
       "  grid-column: 4;\n",
       "}\n",
       "\n",
       ".xr-index-preview {\n",
       "  grid-column: 2 / 5;\n",
       "  color: var(--xr-font-color2);\n",
       "}\n",
       "\n",
       ".xr-var-name,\n",
       ".xr-var-dims,\n",
       ".xr-var-dtype,\n",
       ".xr-preview,\n",
       ".xr-attrs dt {\n",
       "  white-space: nowrap;\n",
       "  overflow: hidden;\n",
       "  text-overflow: ellipsis;\n",
       "  padding-right: 10px;\n",
       "}\n",
       "\n",
       ".xr-var-name:hover,\n",
       ".xr-var-dims:hover,\n",
       ".xr-var-dtype:hover,\n",
       ".xr-attrs dt:hover {\n",
       "  overflow: visible;\n",
       "  width: auto;\n",
       "  z-index: 1;\n",
       "}\n",
       "\n",
       ".xr-var-attrs,\n",
       ".xr-var-data,\n",
       ".xr-index-data {\n",
       "  display: none;\n",
       "  background-color: var(--xr-background-color) !important;\n",
       "  padding-bottom: 5px !important;\n",
       "}\n",
       "\n",
       ".xr-var-attrs-in:checked ~ .xr-var-attrs,\n",
       ".xr-var-data-in:checked ~ .xr-var-data,\n",
       ".xr-index-data-in:checked ~ .xr-index-data {\n",
       "  display: block;\n",
       "}\n",
       "\n",
       ".xr-var-data > table {\n",
       "  float: right;\n",
       "}\n",
       "\n",
       ".xr-var-name span,\n",
       ".xr-var-data,\n",
       ".xr-index-name div,\n",
       ".xr-index-data,\n",
       ".xr-attrs {\n",
       "  padding-left: 25px !important;\n",
       "}\n",
       "\n",
       ".xr-attrs,\n",
       ".xr-var-attrs,\n",
       ".xr-var-data,\n",
       ".xr-index-data {\n",
       "  grid-column: 1 / -1;\n",
       "}\n",
       "\n",
       "dl.xr-attrs {\n",
       "  padding: 0;\n",
       "  margin: 0;\n",
       "  display: grid;\n",
       "  grid-template-columns: 125px auto;\n",
       "}\n",
       "\n",
       ".xr-attrs dt,\n",
       ".xr-attrs dd {\n",
       "  padding: 0;\n",
       "  margin: 0;\n",
       "  float: left;\n",
       "  padding-right: 10px;\n",
       "  width: auto;\n",
       "}\n",
       "\n",
       ".xr-attrs dt {\n",
       "  font-weight: normal;\n",
       "  grid-column: 1;\n",
       "}\n",
       "\n",
       ".xr-attrs dt:hover span {\n",
       "  display: inline-block;\n",
       "  background: var(--xr-background-color);\n",
       "  padding-right: 10px;\n",
       "}\n",
       "\n",
       ".xr-attrs dd {\n",
       "  grid-column: 2;\n",
       "  white-space: pre-wrap;\n",
       "  word-break: break-all;\n",
       "}\n",
       "\n",
       ".xr-icon-database,\n",
       ".xr-icon-file-text2,\n",
       ".xr-no-icon {\n",
       "  display: inline-block;\n",
       "  vertical-align: middle;\n",
       "  width: 1em;\n",
       "  height: 1.5em !important;\n",
       "  stroke-width: 0;\n",
       "  stroke: currentColor;\n",
       "  fill: currentColor;\n",
       "}\n",
       "</style><pre class='xr-text-repr-fallback'>&lt;xarray.Dataset&gt; Size: 315MB\n",
       "Dimensions:   (time: 365, yh: 300, xh: 360)\n",
       "Coordinates:\n",
       "  * time      (time) object 3kB 1900-01-01 12:00:00 ... 1900-12-31 12:00:00\n",
       "  * yh        (yh) float64 2kB -77.88 -77.63 -77.38 -77.13 ... 88.87 89.32 89.77\n",
       "  * xh        (xh) float64 3kB -279.5 -278.5 -277.5 -276.5 ... 77.5 78.5 79.5\n",
       "Data variables:\n",
       "    ficeberg  (time, yh, xh) float32 158MB dask.array&lt;chunksize=(1, 300, 360), meta=np.ndarray&gt;\n",
       "    friver    (time, yh, xh) float32 158MB dask.array&lt;chunksize=(1, 300, 360), meta=np.ndarray&gt;\n",
       "Attributes: (12/16)\n",
       "    NumFilesInSet:                            1\n",
       "    title:                                    MOM6 diagnostic fields table\n",
       "    associated_files:                         areacello: access-om3.mom6.h.st...\n",
       "    grid_type:                                regular\n",
       "    grid_tile:                                N/A\n",
       "    intake_esm_vars:                          [&#x27;ficeberg&#x27;, &#x27;friver&#x27;]\n",
       "    ...                                       ...\n",
       "    intake_esm_attrs:variable_standard_name:  sea_water_salinity,sea_water_po...\n",
       "    intake_esm_attrs:variable_cell_methods:   [&#x27;time: mean&#x27;, &#x27;time: mean&#x27;, &#x27;z...\n",
       "    intake_esm_attrs:variable_units:          [&#x27;psu&#x27;, &#x27;degC&#x27;, &#x27;m3 s-1&#x27;, &#x27;m3 s...\n",
       "    intake_esm_attrs:file_id:                 access_om3_mom6_h_nativeXXXX_XX\n",
       "    intake_esm_attrs:_data_format_:           netcdf\n",
       "    intake_esm_dataset_key:                   access_om3_mom6_h_nativeXXXX_XX...</pre><div class='xr-wrap' style='display:none'><div class='xr-header'><div class='xr-obj-type'>xarray.Dataset</div></div><ul class='xr-sections'><li class='xr-section-item'><input id='section-2278bb3b-9a1c-445b-be7a-17dd9d2a2447' class='xr-section-summary-in' type='checkbox' disabled ><label for='section-2278bb3b-9a1c-445b-be7a-17dd9d2a2447' class='xr-section-summary'  title='Expand/collapse section'>Dimensions:</label><div class='xr-section-inline-details'><ul class='xr-dim-list'><li><span class='xr-has-index'>time</span>: 365</li><li><span class='xr-has-index'>yh</span>: 300</li><li><span class='xr-has-index'>xh</span>: 360</li></ul></div><div class='xr-section-details'></div></li><li class='xr-section-item'><input id='section-33deb910-cafc-4e0d-9099-7f0401387950' class='xr-section-summary-in' type='checkbox'  checked><label for='section-33deb910-cafc-4e0d-9099-7f0401387950' class='xr-section-summary' >Coordinates: <span>(3)</span></label><div class='xr-section-inline-details'></div><div class='xr-section-details'><ul class='xr-var-list'><li class='xr-var-item'><div class='xr-var-name'><span class='xr-has-index'>time</span></div><div class='xr-var-dims'>(time)</div><div class='xr-var-dtype'>object</div><div class='xr-var-preview xr-preview'>1900-01-01 12:00:00 ... 1900-12-...</div><input id='attrs-100883cf-949a-4767-8542-598755690484' class='xr-var-attrs-in' type='checkbox' ><label for='attrs-100883cf-949a-4767-8542-598755690484' title='Show/Hide attributes'><svg class='icon xr-icon-file-text2'><use xlink:href='#icon-file-text2'></use></svg></label><input id='data-0c27ead6-5b1c-4d9b-9487-b48e70703bc3' class='xr-var-data-in' type='checkbox'><label for='data-0c27ead6-5b1c-4d9b-9487-b48e70703bc3' title='Show/Hide data repr'><svg class='icon xr-icon-database'><use xlink:href='#icon-database'></use></svg></label><div class='xr-var-attrs'><dl class='xr-attrs'><dt><span>long_name :</span></dt><dd>time</dd><dt><span>axis :</span></dt><dd>T</dd><dt><span>calendar_type :</span></dt><dd>NOLEAP</dd><dt><span>bounds :</span></dt><dd>time_bnds</dd></dl></div><div class='xr-var-data'><pre>array([cftime.DatetimeNoLeap(1900, 1, 1, 12, 0, 0, 0, has_year_zero=True),\n",
       "       cftime.DatetimeNoLeap(1900, 1, 2, 12, 0, 0, 0, has_year_zero=True),\n",
       "       cftime.DatetimeNoLeap(1900, 1, 3, 12, 0, 0, 0, has_year_zero=True), ...,\n",
       "       cftime.DatetimeNoLeap(1900, 12, 29, 12, 0, 0, 0, has_year_zero=True),\n",
       "       cftime.DatetimeNoLeap(1900, 12, 30, 12, 0, 0, 0, has_year_zero=True),\n",
       "       cftime.DatetimeNoLeap(1900, 12, 31, 12, 0, 0, 0, has_year_zero=True)],\n",
       "      dtype=object)</pre></div></li><li class='xr-var-item'><div class='xr-var-name'><span class='xr-has-index'>yh</span></div><div class='xr-var-dims'>(yh)</div><div class='xr-var-dtype'>float64</div><div class='xr-var-preview xr-preview'>-77.88 -77.63 ... 89.32 89.77</div><input id='attrs-45adc08f-1500-40d8-a15c-55c706b68ddd' class='xr-var-attrs-in' type='checkbox' ><label for='attrs-45adc08f-1500-40d8-a15c-55c706b68ddd' title='Show/Hide attributes'><svg class='icon xr-icon-file-text2'><use xlink:href='#icon-file-text2'></use></svg></label><input id='data-0304fdf8-bf8a-4c00-98a6-9c2eb742e520' class='xr-var-data-in' type='checkbox'><label for='data-0304fdf8-bf8a-4c00-98a6-9c2eb742e520' title='Show/Hide data repr'><svg class='icon xr-icon-database'><use xlink:href='#icon-database'></use></svg></label><div class='xr-var-attrs'><dl class='xr-attrs'><dt><span>units :</span></dt><dd>degrees_north</dd><dt><span>long_name :</span></dt><dd>h point nominal latitude</dd><dt><span>axis :</span></dt><dd>Y</dd></dl></div><div class='xr-var-data'><pre>array([-77.876623, -77.629713, -77.381707, ...,  88.872933,  89.324006,\n",
       "        89.774476])</pre></div></li><li class='xr-var-item'><div class='xr-var-name'><span class='xr-has-index'>xh</span></div><div class='xr-var-dims'>(xh)</div><div class='xr-var-dtype'>float64</div><div class='xr-var-preview xr-preview'>-279.5 -278.5 -277.5 ... 78.5 79.5</div><input id='attrs-e223aa73-a3e3-4229-a4d6-3aacd6639dae' class='xr-var-attrs-in' type='checkbox' ><label for='attrs-e223aa73-a3e3-4229-a4d6-3aacd6639dae' title='Show/Hide attributes'><svg class='icon xr-icon-file-text2'><use xlink:href='#icon-file-text2'></use></svg></label><input id='data-1ef98aa0-583f-45ca-9bfa-3f6ee26c740b' class='xr-var-data-in' type='checkbox'><label for='data-1ef98aa0-583f-45ca-9bfa-3f6ee26c740b' title='Show/Hide data repr'><svg class='icon xr-icon-database'><use xlink:href='#icon-database'></use></svg></label><div class='xr-var-attrs'><dl class='xr-attrs'><dt><span>units :</span></dt><dd>degrees_east</dd><dt><span>long_name :</span></dt><dd>h point nominal longitude</dd><dt><span>axis :</span></dt><dd>X</dd></dl></div><div class='xr-var-data'><pre>array([-279.5, -278.5, -277.5, ...,   77.5,   78.5,   79.5])</pre></div></li></ul></div></li><li class='xr-section-item'><input id='section-4cf2b0f3-817d-4047-8411-6d291da9a51b' class='xr-section-summary-in' type='checkbox'  checked><label for='section-4cf2b0f3-817d-4047-8411-6d291da9a51b' class='xr-section-summary' >Data variables: <span>(2)</span></label><div class='xr-section-inline-details'></div><div class='xr-section-details'><ul class='xr-var-list'><li class='xr-var-item'><div class='xr-var-name'><span>ficeberg</span></div><div class='xr-var-dims'>(time, yh, xh)</div><div class='xr-var-dtype'>float32</div><div class='xr-var-preview xr-preview'>dask.array&lt;chunksize=(1, 300, 360), meta=np.ndarray&gt;</div><input id='attrs-01c7f6de-0527-465e-8966-095d6568566d' class='xr-var-attrs-in' type='checkbox' ><label for='attrs-01c7f6de-0527-465e-8966-095d6568566d' title='Show/Hide attributes'><svg class='icon xr-icon-file-text2'><use xlink:href='#icon-file-text2'></use></svg></label><input id='data-999c9a10-7649-411a-9265-7e00f695b0bb' class='xr-var-data-in' type='checkbox'><label for='data-999c9a10-7649-411a-9265-7e00f695b0bb' title='Show/Hide data repr'><svg class='icon xr-icon-database'><use xlink:href='#icon-database'></use></svg></label><div class='xr-var-attrs'><dl class='xr-attrs'><dt><span>units :</span></dt><dd>kg m-2 s-1</dd><dt><span>long_name :</span></dt><dd>Water Flux into Seawater from Icebergs</dd><dt><span>cell_methods :</span></dt><dd>area:mean yh:mean xh:mean time: mean</dd><dt><span>cell_measures :</span></dt><dd>area: areacello</dd><dt><span>time_avg_info :</span></dt><dd>average_T1,average_T2,average_DT</dd><dt><span>standard_name :</span></dt><dd>water_flux_into_sea_water_from_icebergs</dd></dl></div><div class='xr-var-data'><table>\n",
       "    <tr>\n",
       "        <td>\n",
       "            <table style=\"border-collapse: collapse;\">\n",
       "                <thead>\n",
       "                    <tr>\n",
       "                        <td> </td>\n",
       "                        <th> Array </th>\n",
       "                        <th> Chunk </th>\n",
       "                    </tr>\n",
       "                </thead>\n",
       "                <tbody>\n",
       "                    \n",
       "                    <tr>\n",
       "                        <th> Bytes </th>\n",
       "                        <td> 150.38 MiB </td>\n",
       "                        <td> 421.88 kiB </td>\n",
       "                    </tr>\n",
       "                    \n",
       "                    <tr>\n",
       "                        <th> Shape </th>\n",
       "                        <td> (365, 300, 360) </td>\n",
       "                        <td> (1, 300, 360) </td>\n",
       "                    </tr>\n",
       "                    <tr>\n",
       "                        <th> Dask graph </th>\n",
       "                        <td colspan=\"2\"> 365 chunks in 25 graph layers </td>\n",
       "                    </tr>\n",
       "                    <tr>\n",
       "                        <th> Data type </th>\n",
       "                        <td colspan=\"2\"> float32 numpy.ndarray </td>\n",
       "                    </tr>\n",
       "                </tbody>\n",
       "            </table>\n",
       "        </td>\n",
       "        <td>\n",
       "        <svg width=\"248\" height=\"219\" style=\"stroke:rgb(0,0,0);stroke-width:1\" >\n",
       "\n",
       "  <!-- Horizontal lines -->\n",
       "  <line x1=\"10\" y1=\"0\" x2=\"80\" y2=\"70\" style=\"stroke-width:2\" />\n",
       "  <line x1=\"10\" y1=\"98\" x2=\"80\" y2=\"169\" style=\"stroke-width:2\" />\n",
       "\n",
       "  <!-- Vertical lines -->\n",
       "  <line x1=\"10\" y1=\"0\" x2=\"10\" y2=\"98\" style=\"stroke-width:2\" />\n",
       "  <line x1=\"13\" y1=\"3\" x2=\"13\" y2=\"102\" />\n",
       "  <line x1=\"17\" y1=\"7\" x2=\"17\" y2=\"105\" />\n",
       "  <line x1=\"21\" y1=\"11\" x2=\"21\" y2=\"109\" />\n",
       "  <line x1=\"24\" y1=\"14\" x2=\"24\" y2=\"113\" />\n",
       "  <line x1=\"28\" y1=\"18\" x2=\"28\" y2=\"117\" />\n",
       "  <line x1=\"32\" y1=\"22\" x2=\"32\" y2=\"120\" />\n",
       "  <line x1=\"35\" y1=\"25\" x2=\"35\" y2=\"124\" />\n",
       "  <line x1=\"39\" y1=\"29\" x2=\"39\" y2=\"128\" />\n",
       "  <line x1=\"43\" y1=\"33\" x2=\"43\" y2=\"131\" />\n",
       "  <line x1=\"47\" y1=\"37\" x2=\"47\" y2=\"135\" />\n",
       "  <line x1=\"50\" y1=\"40\" x2=\"50\" y2=\"139\" />\n",
       "  <line x1=\"54\" y1=\"44\" x2=\"54\" y2=\"143\" />\n",
       "  <line x1=\"58\" y1=\"48\" x2=\"58\" y2=\"146\" />\n",
       "  <line x1=\"61\" y1=\"51\" x2=\"61\" y2=\"150\" />\n",
       "  <line x1=\"65\" y1=\"55\" x2=\"65\" y2=\"154\" />\n",
       "  <line x1=\"69\" y1=\"59\" x2=\"69\" y2=\"158\" />\n",
       "  <line x1=\"73\" y1=\"63\" x2=\"73\" y2=\"161\" />\n",
       "  <line x1=\"76\" y1=\"66\" x2=\"76\" y2=\"165\" />\n",
       "  <line x1=\"80\" y1=\"70\" x2=\"80\" y2=\"169\" style=\"stroke-width:2\" />\n",
       "\n",
       "  <!-- Colored Rectangle -->\n",
       "  <polygon points=\"10.0,0.0 80.58823529411765,70.58823529411765 80.58823529411765,169.21837228041903 10.0,98.63013698630138\" style=\"fill:#8B4903A0;stroke-width:0\"/>\n",
       "\n",
       "  <!-- Horizontal lines -->\n",
       "  <line x1=\"10\" y1=\"0\" x2=\"128\" y2=\"0\" style=\"stroke-width:2\" />\n",
       "  <line x1=\"13\" y1=\"3\" x2=\"132\" y2=\"3\" />\n",
       "  <line x1=\"17\" y1=\"7\" x2=\"135\" y2=\"7\" />\n",
       "  <line x1=\"21\" y1=\"11\" x2=\"139\" y2=\"11\" />\n",
       "  <line x1=\"24\" y1=\"14\" x2=\"143\" y2=\"14\" />\n",
       "  <line x1=\"28\" y1=\"18\" x2=\"146\" y2=\"18\" />\n",
       "  <line x1=\"32\" y1=\"22\" x2=\"150\" y2=\"22\" />\n",
       "  <line x1=\"35\" y1=\"25\" x2=\"154\" y2=\"25\" />\n",
       "  <line x1=\"39\" y1=\"29\" x2=\"157\" y2=\"29\" />\n",
       "  <line x1=\"43\" y1=\"33\" x2=\"161\" y2=\"33\" />\n",
       "  <line x1=\"47\" y1=\"37\" x2=\"165\" y2=\"37\" />\n",
       "  <line x1=\"50\" y1=\"40\" x2=\"169\" y2=\"40\" />\n",
       "  <line x1=\"54\" y1=\"44\" x2=\"172\" y2=\"44\" />\n",
       "  <line x1=\"58\" y1=\"48\" x2=\"176\" y2=\"48\" />\n",
       "  <line x1=\"61\" y1=\"51\" x2=\"180\" y2=\"51\" />\n",
       "  <line x1=\"65\" y1=\"55\" x2=\"184\" y2=\"55\" />\n",
       "  <line x1=\"69\" y1=\"59\" x2=\"187\" y2=\"59\" />\n",
       "  <line x1=\"73\" y1=\"63\" x2=\"191\" y2=\"63\" />\n",
       "  <line x1=\"76\" y1=\"66\" x2=\"195\" y2=\"66\" />\n",
       "  <line x1=\"80\" y1=\"70\" x2=\"198\" y2=\"70\" style=\"stroke-width:2\" />\n",
       "\n",
       "  <!-- Vertical lines -->\n",
       "  <line x1=\"10\" y1=\"0\" x2=\"80\" y2=\"70\" style=\"stroke-width:2\" />\n",
       "  <line x1=\"128\" y1=\"0\" x2=\"198\" y2=\"70\" style=\"stroke-width:2\" />\n",
       "\n",
       "  <!-- Colored Rectangle -->\n",
       "  <polygon points=\"10.0,0.0 128.35616438356166,0.0 198.9443996776793,70.58823529411765 80.58823529411765,70.58823529411765\" style=\"fill:#8B4903A0;stroke-width:0\"/>\n",
       "\n",
       "  <!-- Horizontal lines -->\n",
       "  <line x1=\"80\" y1=\"70\" x2=\"198\" y2=\"70\" style=\"stroke-width:2\" />\n",
       "  <line x1=\"80\" y1=\"169\" x2=\"198\" y2=\"169\" style=\"stroke-width:2\" />\n",
       "\n",
       "  <!-- Vertical lines -->\n",
       "  <line x1=\"80\" y1=\"70\" x2=\"80\" y2=\"169\" style=\"stroke-width:2\" />\n",
       "  <line x1=\"198\" y1=\"70\" x2=\"198\" y2=\"169\" style=\"stroke-width:2\" />\n",
       "\n",
       "  <!-- Colored Rectangle -->\n",
       "  <polygon points=\"80.58823529411765,70.58823529411765 198.9443996776793,70.58823529411765 198.9443996776793,169.21837228041903 80.58823529411765,169.21837228041903\" style=\"fill:#ECB172A0;stroke-width:0\"/>\n",
       "\n",
       "  <!-- Text -->\n",
       "  <text x=\"139.766317\" y=\"189.218372\" font-size=\"1.0rem\" font-weight=\"100\" text-anchor=\"middle\" >360</text>\n",
       "  <text x=\"218.944400\" y=\"119.903304\" font-size=\"1.0rem\" font-weight=\"100\" text-anchor=\"middle\" transform=\"rotate(-90,218.944400,119.903304)\">300</text>\n",
       "  <text x=\"35.294118\" y=\"153.924255\" font-size=\"1.0rem\" font-weight=\"100\" text-anchor=\"middle\" transform=\"rotate(45,35.294118,153.924255)\">365</text>\n",
       "</svg>\n",
       "        </td>\n",
       "    </tr>\n",
       "</table></div></li><li class='xr-var-item'><div class='xr-var-name'><span>friver</span></div><div class='xr-var-dims'>(time, yh, xh)</div><div class='xr-var-dtype'>float32</div><div class='xr-var-preview xr-preview'>dask.array&lt;chunksize=(1, 300, 360), meta=np.ndarray&gt;</div><input id='attrs-19c83823-2804-4d84-be48-26eb4dd88a08' class='xr-var-attrs-in' type='checkbox' ><label for='attrs-19c83823-2804-4d84-be48-26eb4dd88a08' title='Show/Hide attributes'><svg class='icon xr-icon-file-text2'><use xlink:href='#icon-file-text2'></use></svg></label><input id='data-24e75f74-70d1-495d-87f8-f293d749ccf8' class='xr-var-data-in' type='checkbox'><label for='data-24e75f74-70d1-495d-87f8-f293d749ccf8' title='Show/Hide data repr'><svg class='icon xr-icon-database'><use xlink:href='#icon-database'></use></svg></label><div class='xr-var-attrs'><dl class='xr-attrs'><dt><span>units :</span></dt><dd>kg m-2 s-1</dd><dt><span>long_name :</span></dt><dd>Water Flux into Sea Water From Rivers</dd><dt><span>cell_methods :</span></dt><dd>area:mean yh:mean xh:mean time: mean</dd><dt><span>cell_measures :</span></dt><dd>area: areacello</dd><dt><span>time_avg_info :</span></dt><dd>average_T1,average_T2,average_DT</dd><dt><span>standard_name :</span></dt><dd>water_flux_into_sea_water_from_rivers</dd></dl></div><div class='xr-var-data'><table>\n",
       "    <tr>\n",
       "        <td>\n",
       "            <table style=\"border-collapse: collapse;\">\n",
       "                <thead>\n",
       "                    <tr>\n",
       "                        <td> </td>\n",
       "                        <th> Array </th>\n",
       "                        <th> Chunk </th>\n",
       "                    </tr>\n",
       "                </thead>\n",
       "                <tbody>\n",
       "                    \n",
       "                    <tr>\n",
       "                        <th> Bytes </th>\n",
       "                        <td> 150.38 MiB </td>\n",
       "                        <td> 421.88 kiB </td>\n",
       "                    </tr>\n",
       "                    \n",
       "                    <tr>\n",
       "                        <th> Shape </th>\n",
       "                        <td> (365, 300, 360) </td>\n",
       "                        <td> (1, 300, 360) </td>\n",
       "                    </tr>\n",
       "                    <tr>\n",
       "                        <th> Dask graph </th>\n",
       "                        <td colspan=\"2\"> 365 chunks in 25 graph layers </td>\n",
       "                    </tr>\n",
       "                    <tr>\n",
       "                        <th> Data type </th>\n",
       "                        <td colspan=\"2\"> float32 numpy.ndarray </td>\n",
       "                    </tr>\n",
       "                </tbody>\n",
       "            </table>\n",
       "        </td>\n",
       "        <td>\n",
       "        <svg width=\"248\" height=\"219\" style=\"stroke:rgb(0,0,0);stroke-width:1\" >\n",
       "\n",
       "  <!-- Horizontal lines -->\n",
       "  <line x1=\"10\" y1=\"0\" x2=\"80\" y2=\"70\" style=\"stroke-width:2\" />\n",
       "  <line x1=\"10\" y1=\"98\" x2=\"80\" y2=\"169\" style=\"stroke-width:2\" />\n",
       "\n",
       "  <!-- Vertical lines -->\n",
       "  <line x1=\"10\" y1=\"0\" x2=\"10\" y2=\"98\" style=\"stroke-width:2\" />\n",
       "  <line x1=\"13\" y1=\"3\" x2=\"13\" y2=\"102\" />\n",
       "  <line x1=\"17\" y1=\"7\" x2=\"17\" y2=\"105\" />\n",
       "  <line x1=\"21\" y1=\"11\" x2=\"21\" y2=\"109\" />\n",
       "  <line x1=\"24\" y1=\"14\" x2=\"24\" y2=\"113\" />\n",
       "  <line x1=\"28\" y1=\"18\" x2=\"28\" y2=\"117\" />\n",
       "  <line x1=\"32\" y1=\"22\" x2=\"32\" y2=\"120\" />\n",
       "  <line x1=\"35\" y1=\"25\" x2=\"35\" y2=\"124\" />\n",
       "  <line x1=\"39\" y1=\"29\" x2=\"39\" y2=\"128\" />\n",
       "  <line x1=\"43\" y1=\"33\" x2=\"43\" y2=\"131\" />\n",
       "  <line x1=\"47\" y1=\"37\" x2=\"47\" y2=\"135\" />\n",
       "  <line x1=\"50\" y1=\"40\" x2=\"50\" y2=\"139\" />\n",
       "  <line x1=\"54\" y1=\"44\" x2=\"54\" y2=\"143\" />\n",
       "  <line x1=\"58\" y1=\"48\" x2=\"58\" y2=\"146\" />\n",
       "  <line x1=\"61\" y1=\"51\" x2=\"61\" y2=\"150\" />\n",
       "  <line x1=\"65\" y1=\"55\" x2=\"65\" y2=\"154\" />\n",
       "  <line x1=\"69\" y1=\"59\" x2=\"69\" y2=\"158\" />\n",
       "  <line x1=\"73\" y1=\"63\" x2=\"73\" y2=\"161\" />\n",
       "  <line x1=\"76\" y1=\"66\" x2=\"76\" y2=\"165\" />\n",
       "  <line x1=\"80\" y1=\"70\" x2=\"80\" y2=\"169\" style=\"stroke-width:2\" />\n",
       "\n",
       "  <!-- Colored Rectangle -->\n",
       "  <polygon points=\"10.0,0.0 80.58823529411765,70.58823529411765 80.58823529411765,169.21837228041903 10.0,98.63013698630138\" style=\"fill:#8B4903A0;stroke-width:0\"/>\n",
       "\n",
       "  <!-- Horizontal lines -->\n",
       "  <line x1=\"10\" y1=\"0\" x2=\"128\" y2=\"0\" style=\"stroke-width:2\" />\n",
       "  <line x1=\"13\" y1=\"3\" x2=\"132\" y2=\"3\" />\n",
       "  <line x1=\"17\" y1=\"7\" x2=\"135\" y2=\"7\" />\n",
       "  <line x1=\"21\" y1=\"11\" x2=\"139\" y2=\"11\" />\n",
       "  <line x1=\"24\" y1=\"14\" x2=\"143\" y2=\"14\" />\n",
       "  <line x1=\"28\" y1=\"18\" x2=\"146\" y2=\"18\" />\n",
       "  <line x1=\"32\" y1=\"22\" x2=\"150\" y2=\"22\" />\n",
       "  <line x1=\"35\" y1=\"25\" x2=\"154\" y2=\"25\" />\n",
       "  <line x1=\"39\" y1=\"29\" x2=\"157\" y2=\"29\" />\n",
       "  <line x1=\"43\" y1=\"33\" x2=\"161\" y2=\"33\" />\n",
       "  <line x1=\"47\" y1=\"37\" x2=\"165\" y2=\"37\" />\n",
       "  <line x1=\"50\" y1=\"40\" x2=\"169\" y2=\"40\" />\n",
       "  <line x1=\"54\" y1=\"44\" x2=\"172\" y2=\"44\" />\n",
       "  <line x1=\"58\" y1=\"48\" x2=\"176\" y2=\"48\" />\n",
       "  <line x1=\"61\" y1=\"51\" x2=\"180\" y2=\"51\" />\n",
       "  <line x1=\"65\" y1=\"55\" x2=\"184\" y2=\"55\" />\n",
       "  <line x1=\"69\" y1=\"59\" x2=\"187\" y2=\"59\" />\n",
       "  <line x1=\"73\" y1=\"63\" x2=\"191\" y2=\"63\" />\n",
       "  <line x1=\"76\" y1=\"66\" x2=\"195\" y2=\"66\" />\n",
       "  <line x1=\"80\" y1=\"70\" x2=\"198\" y2=\"70\" style=\"stroke-width:2\" />\n",
       "\n",
       "  <!-- Vertical lines -->\n",
       "  <line x1=\"10\" y1=\"0\" x2=\"80\" y2=\"70\" style=\"stroke-width:2\" />\n",
       "  <line x1=\"128\" y1=\"0\" x2=\"198\" y2=\"70\" style=\"stroke-width:2\" />\n",
       "\n",
       "  <!-- Colored Rectangle -->\n",
       "  <polygon points=\"10.0,0.0 128.35616438356166,0.0 198.9443996776793,70.58823529411765 80.58823529411765,70.58823529411765\" style=\"fill:#8B4903A0;stroke-width:0\"/>\n",
       "\n",
       "  <!-- Horizontal lines -->\n",
       "  <line x1=\"80\" y1=\"70\" x2=\"198\" y2=\"70\" style=\"stroke-width:2\" />\n",
       "  <line x1=\"80\" y1=\"169\" x2=\"198\" y2=\"169\" style=\"stroke-width:2\" />\n",
       "\n",
       "  <!-- Vertical lines -->\n",
       "  <line x1=\"80\" y1=\"70\" x2=\"80\" y2=\"169\" style=\"stroke-width:2\" />\n",
       "  <line x1=\"198\" y1=\"70\" x2=\"198\" y2=\"169\" style=\"stroke-width:2\" />\n",
       "\n",
       "  <!-- Colored Rectangle -->\n",
       "  <polygon points=\"80.58823529411765,70.58823529411765 198.9443996776793,70.58823529411765 198.9443996776793,169.21837228041903 80.58823529411765,169.21837228041903\" style=\"fill:#ECB172A0;stroke-width:0\"/>\n",
       "\n",
       "  <!-- Text -->\n",
       "  <text x=\"139.766317\" y=\"189.218372\" font-size=\"1.0rem\" font-weight=\"100\" text-anchor=\"middle\" >360</text>\n",
       "  <text x=\"218.944400\" y=\"119.903304\" font-size=\"1.0rem\" font-weight=\"100\" text-anchor=\"middle\" transform=\"rotate(-90,218.944400,119.903304)\">300</text>\n",
       "  <text x=\"35.294118\" y=\"153.924255\" font-size=\"1.0rem\" font-weight=\"100\" text-anchor=\"middle\" transform=\"rotate(45,35.294118,153.924255)\">365</text>\n",
       "</svg>\n",
       "        </td>\n",
       "    </tr>\n",
       "</table></div></li></ul></div></li><li class='xr-section-item'><input id='section-63e0298c-2c46-455d-a65d-0a7fc3bd9f22' class='xr-section-summary-in' type='checkbox'  ><label for='section-63e0298c-2c46-455d-a65d-0a7fc3bd9f22' class='xr-section-summary' >Indexes: <span>(3)</span></label><div class='xr-section-inline-details'></div><div class='xr-section-details'><ul class='xr-var-list'><li class='xr-var-item'><div class='xr-index-name'><div>time</div></div><div class='xr-index-preview'>PandasIndex</div><div></div><input id='index-5e4d612b-249d-4360-bd44-73128a1a8b2a' class='xr-index-data-in' type='checkbox'/><label for='index-5e4d612b-249d-4360-bd44-73128a1a8b2a' title='Show/Hide index repr'><svg class='icon xr-icon-database'><use xlink:href='#icon-database'></use></svg></label><div class='xr-index-data'><pre>PandasIndex(CFTimeIndex([1900-01-01 12:00:00, 1900-01-02 12:00:00, 1900-01-03 12:00:00,\n",
       "             1900-01-04 12:00:00, 1900-01-05 12:00:00, 1900-01-06 12:00:00,\n",
       "             1900-01-07 12:00:00, 1900-01-08 12:00:00, 1900-01-09 12:00:00,\n",
       "             1900-01-10 12:00:00,\n",
       "             ...\n",
       "             1900-12-22 12:00:00, 1900-12-23 12:00:00, 1900-12-24 12:00:00,\n",
       "             1900-12-25 12:00:00, 1900-12-26 12:00:00, 1900-12-27 12:00:00,\n",
       "             1900-12-28 12:00:00, 1900-12-29 12:00:00, 1900-12-30 12:00:00,\n",
       "             1900-12-31 12:00:00],\n",
       "            dtype=&#x27;object&#x27;, length=365, calendar=&#x27;noleap&#x27;, freq=&#x27;D&#x27;))</pre></div></li><li class='xr-var-item'><div class='xr-index-name'><div>yh</div></div><div class='xr-index-preview'>PandasIndex</div><div></div><input id='index-a883d9c3-fe55-4d1a-bc7d-e812bbb76795' class='xr-index-data-in' type='checkbox'/><label for='index-a883d9c3-fe55-4d1a-bc7d-e812bbb76795' title='Show/Hide index repr'><svg class='icon xr-icon-database'><use xlink:href='#icon-database'></use></svg></label><div class='xr-index-data'><pre>PandasIndex(Index([-77.87662337662337, -77.62971340045422, -77.38170670967813,\n",
       "       -77.13229193169715, -76.88053325031572, -76.62612553775392,\n",
       "       -76.36814128806307,  -76.1062857353073,  -75.8396437697329,\n",
       "        -75.5679350353177,\n",
       "       ...\n",
       "        85.71622733564506,  86.16718145415204,  86.61861799525872,\n",
       "        87.06938121176299,  87.52064932837074,  87.97126714724561,\n",
       "        88.42241336735029,  88.87293318844945,   89.3240056291542,\n",
       "        89.77447612988227],\n",
       "      dtype=&#x27;float64&#x27;, name=&#x27;yh&#x27;, length=300))</pre></div></li><li class='xr-var-item'><div class='xr-index-name'><div>xh</div></div><div class='xr-index-preview'>PandasIndex</div><div></div><input id='index-dba9734f-9c7a-4bc2-bd99-178d3296eba7' class='xr-index-data-in' type='checkbox'/><label for='index-dba9734f-9c7a-4bc2-bd99-178d3296eba7' title='Show/Hide index repr'><svg class='icon xr-icon-database'><use xlink:href='#icon-database'></use></svg></label><div class='xr-index-data'><pre>PandasIndex(Index([-279.5, -278.5, -277.5, -276.5, -275.5, -274.5, -273.5, -272.5, -271.5,\n",
       "       -270.5,\n",
       "       ...\n",
       "         70.5,   71.5,   72.5,   73.5,   74.5,   75.5,   76.5,   77.5,   78.5,\n",
       "         79.5],\n",
       "      dtype=&#x27;float64&#x27;, name=&#x27;xh&#x27;, length=360))</pre></div></li></ul></div></li><li class='xr-section-item'><input id='section-56727e31-3b4f-454b-8cc4-9856a2722f3d' class='xr-section-summary-in' type='checkbox'  ><label for='section-56727e31-3b4f-454b-8cc4-9856a2722f3d' class='xr-section-summary' >Attributes: <span>(16)</span></label><div class='xr-section-inline-details'></div><div class='xr-section-details'><dl class='xr-attrs'><dt><span>NumFilesInSet :</span></dt><dd>1</dd><dt><span>title :</span></dt><dd>MOM6 diagnostic fields table</dd><dt><span>associated_files :</span></dt><dd>areacello: access-om3.mom6.h.static.nc</dd><dt><span>grid_type :</span></dt><dd>regular</dd><dt><span>grid_tile :</span></dt><dd>N/A</dd><dt><span>intake_esm_vars :</span></dt><dd>[&#x27;ficeberg&#x27;, &#x27;friver&#x27;]</dd><dt><span>intake_esm_attrs:realm :</span></dt><dd>ocean</dd><dt><span>intake_esm_attrs:variable :</span></dt><dd>soga,thetaoga,uh,vh,vhbt,uhbt,agessc,T_ady_2d,T_adx_2d,T_diffy_2d,T_diffx_2d,diftrelo,diftrblo,difmxybo,difmxylo,volcello,vmo,vhGM,vhml,umo,uhGM,uhml,uo,vo,h,e,thetao,so,KE,rhopot0,oml,tauuo,tauvo,friver,prsn,prlq,evs,hfsso,rlntds,hfsnthermds,sfdsi,rsntds,hfds,ustar,hfsifrazil,wfo,vprec,ficeberg,fsitherm,hflso,pso,seaice_melt_heat,Heat_PmE,salt_flux_added,heat_content_lrunoff,heat_content_frunoff,heat_content_lprec,heat_content_fprec,heat_content_vprec,heat_content_cond,heat_content_evap,SSH,tos,sos,SSU,SSV,mass_wt,opottempmint,somint,Rd_dx,speed,mlotst,average_T1,average_T2,average_DT,time_bnds</dd><dt><span>intake_esm_attrs:frequency :</span></dt><dd>1day</dd><dt><span>intake_esm_attrs:variable_long_name :</span></dt><dd>Global Mean Ocean Salinity,Global Mean Ocean Potential Temperature,Zonal Thickness Flux,Meridional Thickness Flux,Barotropic meridional transport averaged over a baroclinic step,Barotropic zonal transport averaged over a baroclinic step,Ideal Age Tracer,Vertically Integrated Advective Meridional Flux of Heat,Vertically Integrated Advective Zonal Flux of Heat,Vertically Integrated Diffusive Meridional Flux of Heat,Vertically Integrated Diffusive Zonal Flux of Heat,Ocean Tracer Epineutral Laplacian Diffusivity,Ocean Tracer Diffusivity due to Parameterized Mesoscale Advection,Ocean lateral biharmonic viscosity,Ocean lateral Laplacian viscosity,Ocean grid-cell volume,Ocean Mass Y Transport,Time Mean Diffusive Meridional Thickness Flux,Meridional Thickness Flux to Restratify Mixed Layer,Ocean Mass X Transport,Time Mean Diffusive Zonal Thickness Flux,Zonal Thickness Flux to Restratify Mixed Layer,Sea Water X Velocity,Sea Water Y Velocity,Layer Thickness,Interface Height Relative to Mean Sea Level,Sea Water Potential Temperature,Sea Water Salinity,Layer kinetic energy per unit mass,Potential density referenced to surface,Thickness of the surface Ocean Boundary Layer calculated by [CVMix] KPP,Surface Downward X Stress,Surface Downward Y Stress,Water Flux into Sea Water From Rivers,Snowfall Flux where Ice Free Ocean over Sea,Rainfall Flux where Ice Free Ocean over Sea,Water Evaporation Flux Where Ice Free Ocean over Sea,Surface Downward Sensible Heat Flux,Surface Net Downward Longwave Radiation,Latent Heat to Melt Frozen Precipitation,Downward Sea Ice Basal Salt Flux,Net Downward Shortwave Radiation at Sea Water Surface,Surface ocean heat flux from SW+LW+latent+sensible+masstransfer+frazil+seaice_melt_heat,Surface friction velocity = [(gustiness + tau_magnitude)/rho0]^(1/2),Heat Flux into Sea Water due to Frazil Ice Formation,Water Flux Into Sea Water,Virtual liquid precip into ocean due to SSS restoring,Water Flux into Seawater from Icebergs,water flux to ocean from sea ice melt(&gt; 0) or form(&lt; 0),Surface Downward Latent Heat Flux due to Evap + Melt Snow/Ice,Sea Water Pressure at Sea Water Surface,Heat flux into ocean due to snow and sea ice melt/freeze,Heat flux into ocean from mass flux into ocean,Salt flux into ocean at surface due to restoring or flux adjustment,Heat content (relative to 0C) of liquid runoff into ocean,Heat content (relative to 0C) of solid runoff into ocean,Heat content (relative to 0degC) of liquid precip entering ocean,Heat content (relative to 0degC) of frozen prec entering ocean,Heat content (relative to 0degC) of virtual precip entering ocean,Heat content (relative to 0degC) of water condensing into ocean,Heat content (relative to 0degC) of water evaporating from ocean,Sea Surface Height,Sea Surface Temperature,Sea Surface Salinity,Sea Surface Zonal Velocity,Sea Surface Meridional Velocity,The column mass for calculating mass-weighted average properties,integral_wrt_depth_of_product_of_sea_water_density_and_potential_temperature,integral_wrt_depth_of_product_of_sea_water_density_and_salinity,Ratio between deformation radius and grid spacing,Sea Surface Speed,Ocean Mixed Layer Thickness Defined by Sigma T,Start time for average period,End time for average period,Length of average period,time axis boundaries</dd><dt><span>intake_esm_attrs:variable_standard_name :</span></dt><dd>sea_water_salinity,sea_water_potential_temperature,,,,,ideal_age_tracer,,,,,ocean_tracer_epineutral_laplacian_diffusivity,ocean_tracer_diffusivity_due_to_parameterized_mesoscale_advection,ocean_momentum_xy_biharmonic_diffusivity,ocean_momentum_xy_laplacian_diffusivity,ocean_volume,ocean_mass_y_transport,,,ocean_mass_x_transport,,,sea_water_x_velocity,sea_water_y_velocity,,,sea_water_potential_temperature,sea_water_salinity,,,,surface_downward_x_stress,surface_downward_y_stress,water_flux_into_sea_water_from_rivers,snowfall_flux,rainfall_flux,water_evaporation_flux,surface_downward_sensible_heat_flux,surface_net_downward_longwave_flux,heat_flux_into_sea_water_due_to_snow_thermodynamics,downward_sea_ice_basal_salt_flux,net_downward_shortwave_flux_at_sea_water_surface,surface_downward_heat_flux_in_sea_water,,heat_flux_into_sea_water_due_to_frazil_ice_formation,water_flux_into_sea_water,,water_flux_into_sea_water_from_icebergs,water_flux_into_sea_water_due_to_sea_ice_thermodynamics,surface_downward_latent_heat_flux,sea_water_pressure_at_sea_water_surface,snow_ice_melt_heat_flux,,,temperature_flux_due_to_runoff_expressed_as_heat_flux_into_sea_water,temperature_flux_due_to_solid_runoff_expressed_as_heat_flux_into_sea_water,,,,,,,sea_surface_temperature,sea_surface_salinity,,,,Depth integrated density times potential temperature,Depth integrated density times salinity,,,ocean_mixed_layer_thickness_defined_by_sigma_t,,,,</dd><dt><span>intake_esm_attrs:variable_cell_methods :</span></dt><dd>[&#x27;time: mean&#x27;, &#x27;time: mean&#x27;, &#x27;zl:sum yh:sum xq:point time: mean&#x27;, &#x27;zl:sum yq:point xh:sum time: mean&#x27;, &#x27;yq:point xh:mean time: mean&#x27;, &#x27;yh:mean xq:point time: mean&#x27;, &#x27;area:mean zl:mean yh:mean xh:mean time: mean&#x27;, &#x27;yq:point xh:sum time: mean&#x27;, &#x27;yh:sum xq:point time: mean&#x27;, &#x27;yq:point xh:sum time: mean&#x27;, &#x27;yh:sum xq:point time: mean&#x27;, &#x27;area:mean zi:point yh:mean xh:mean time: mean&#x27;, &#x27;area:mean zl:mean yh:mean xh:mean time: mean&#x27;, &#x27;area:mean zl:mean yh:mean xh:mean time: mean&#x27;, &#x27;area:mean zl:mean yh:mean xh:mean time: mean&#x27;, &#x27;area:sum zl:sum yh:sum xh:sum time: mean&#x27;, &#x27;zl:sum yq:point xh:sum time: mean&#x27;, &#x27;zl:sum yq:point xh:sum time: mean&#x27;, &#x27;zl:sum yq:point xh:sum time: mean&#x27;, &#x27;zl:sum yh:sum xq:point time: mean&#x27;, &#x27;zl:sum yh:sum xq:point time: mean&#x27;, &#x27;zl:sum yh:sum xq:point time: mean&#x27;, &#x27;zl:mean yh:mean xq:point time: mean&#x27;, &#x27;zl:mean yq:point xh:mean time: mean&#x27;, &#x27;area:mean zl:sum yh:mean xh:mean time: mean&#x27;, &#x27;area:mean zi:point yh:mean xh:mean time: mean&#x27;, &#x27;area:mean zl:mean yh:mean xh:mean time: mean&#x27;, &#x27;area:mean zl:mean yh:mean xh:mean time: mean&#x27;, &#x27;area:mean zl:mean yh:mean xh:mean time: mean&#x27;, &#x27;area:mean zl:mean yh:mean xh:mean time: mean&#x27;, &#x27;area:mean yh:mean xh:mean time: mean&#x27;, &#x27;yh:mean xq:point time: mean&#x27;, &#x27;yq:point xh:mean time: mean&#x27;, &#x27;area:mean yh:mean xh:mean time: mean&#x27;, &#x27;area:mean yh:mean xh:mean time: mean&#x27;, &#x27;area:mean yh:mean xh:mean time: mean&#x27;, &#x27;area:mean yh:mean xh:mean time: mean&#x27;, &#x27;area:mean yh:mean xh:mean time: mean&#x27;, &#x27;area:mean yh:mean xh:mean time: mean&#x27;, &#x27;area:mean yh:mean xh:mean time: mean&#x27;, &#x27;area:mean yh:mean xh:mean time: mean&#x27;, &#x27;area:mean yh:mean xh:mean time: mean&#x27;, &#x27;area:mean yh:mean xh:mean time: mean&#x27;, &#x27;area:mean yh:mean xh:mean time: mean&#x27;, &#x27;area:mean yh:mean xh:mean time: mean&#x27;, &#x27;area:mean yh:mean xh:mean time: mean&#x27;, &#x27;area:mean yh:mean xh:mean time: mean&#x27;, &#x27;area:mean yh:mean xh:mean time: mean&#x27;, &#x27;area:mean yh:mean xh:mean time: mean&#x27;, &#x27;area:mean yh:mean xh:mean time: mean&#x27;, &#x27;area:mean yh:mean xh:mean time: mean&#x27;, &#x27;area:mean yh:mean xh:mean time: mean&#x27;, &#x27;area:mean yh:mean xh:mean time: mean&#x27;, &#x27;area:mean yh:mean xh:mean time: mean&#x27;, &#x27;area:mean yh:mean xh:mean time: mean&#x27;, &#x27;area:mean yh:mean xh:mean time: mean&#x27;, &#x27;area:mean yh:mean xh:mean time: mean&#x27;, &#x27;area:mean yh:mean xh:mean time: mean&#x27;, &#x27;area:mean yh:mean xh:mean time: mean&#x27;, &#x27;area:mean yh:mean xh:mean time: mean&#x27;, &#x27;area:mean yh:mean xh:mean time: mean&#x27;, &#x27;area:mean yh:mean xh:mean time: mean&#x27;, &#x27;area:mean yh:mean xh:mean time: mean&#x27;, &#x27;area:mean yh:mean xh:mean time: mean&#x27;, &#x27;yh:mean xq:point time: mean&#x27;, &#x27;yq:point xh:mean time: mean&#x27;, &#x27;area:mean yh:mean xh:mean time: mean&#x27;, &#x27;area:mean yh:mean xh:mean time: mean&#x27;, &#x27;area:mean yh:mean xh:mean time: mean&#x27;, &#x27;area:mean yh:mean xh:mean time: mean&#x27;, &#x27;area:mean yh:mean xh:mean time: mean&#x27;, &#x27;area:mean yh:mean xh:mean time: mean&#x27;, &#x27;&#x27;, &#x27;&#x27;, &#x27;&#x27;, &#x27;&#x27;]</dd><dt><span>intake_esm_attrs:variable_units :</span></dt><dd>[&#x27;psu&#x27;, &#x27;degC&#x27;, &#x27;m3 s-1&#x27;, &#x27;m3 s-1&#x27;, &#x27;m3 s-1&#x27;, &#x27;m3 s-1&#x27;, &#x27;yr&#x27;, &#x27;W&#x27;, &#x27;W&#x27;, &#x27;W&#x27;, &#x27;W&#x27;, &#x27;m2 s-1&#x27;, &#x27;m2 s-1&#x27;, &#x27;m4 s-1&#x27;, &#x27;m2 s-1&#x27;, &#x27;m3&#x27;, &#x27;kg s-1&#x27;, &#x27;kg s-1&#x27;, &#x27;kg s-1&#x27;, &#x27;kg s-1&#x27;, &#x27;kg s-1&#x27;, &#x27;kg s-1&#x27;, &#x27;m s-1&#x27;, &#x27;m s-1&#x27;, &#x27;m&#x27;, &#x27;m&#x27;, &#x27;degC&#x27;, &#x27;psu&#x27;, &#x27;m2 s-2&#x27;, &#x27;kg m-3&#x27;, &#x27;meter&#x27;, &#x27;N m-2&#x27;, &#x27;N m-2&#x27;, &#x27;kg m-2 s-1&#x27;, &#x27;kg m-2 s-1&#x27;, &#x27;kg m-2 s-1&#x27;, &#x27;kg m-2 s-1&#x27;, &#x27;W m-2&#x27;, &#x27;W m-2&#x27;, &#x27;W m-2&#x27;, &#x27;kg m-2 s-1&#x27;, &#x27;W m-2&#x27;, &#x27;W m-2&#x27;, &#x27;m s-1&#x27;, &#x27;W m-2&#x27;, &#x27;kg m-2 s-1&#x27;, &#x27;kg m-2 s-1&#x27;, &#x27;kg m-2 s-1&#x27;, &#x27;kg m-2 s-1&#x27;, &#x27;W m-2&#x27;, &#x27;Pa&#x27;, &#x27;W m-2&#x27;, &#x27;W m-2&#x27;, &#x27;kg m-2 s-1&#x27;, &#x27;W m-2&#x27;, &#x27;W m-2&#x27;, &#x27;W m-2&#x27;, &#x27;W m-2&#x27;, &#x27;W m-2&#x27;, &#x27;W m-2&#x27;, &#x27;W m-2&#x27;, &#x27;m&#x27;, &#x27;degC&#x27;, &#x27;psu&#x27;, &#x27;m s-1&#x27;, &#x27;m s-1&#x27;, &#x27;kg m-2&#x27;, &#x27;degC kg m-2&#x27;, &#x27;psu kg m-2&#x27;, &#x27;m m-1&#x27;, &#x27;m s-1&#x27;, &#x27;m&#x27;, &#x27;days since 0001-01-01 00:00:00&#x27;, &#x27;days since 0001-01-01 00:00:00&#x27;, &#x27;days&#x27;, &#x27;days since 0001-01-01 00:00:00&#x27;]</dd><dt><span>intake_esm_attrs:file_id :</span></dt><dd>access_om3_mom6_h_nativeXXXX_XX</dd><dt><span>intake_esm_attrs:_data_format_ :</span></dt><dd>netcdf</dd><dt><span>intake_esm_dataset_key :</span></dt><dd>access_om3_mom6_h_nativeXXXX_XX.1day</dd></dl></div></li></ul></div></div>"
      ],
      "text/plain": [
       "<xarray.Dataset> Size: 315MB\n",
       "Dimensions:   (time: 365, yh: 300, xh: 360)\n",
       "Coordinates:\n",
       "  * time      (time) object 3kB 1900-01-01 12:00:00 ... 1900-12-31 12:00:00\n",
       "  * yh        (yh) float64 2kB -77.88 -77.63 -77.38 -77.13 ... 88.87 89.32 89.77\n",
       "  * xh        (xh) float64 3kB -279.5 -278.5 -277.5 -276.5 ... 77.5 78.5 79.5\n",
       "Data variables:\n",
       "    ficeberg  (time, yh, xh) float32 158MB dask.array<chunksize=(1, 300, 360), meta=np.ndarray>\n",
       "    friver    (time, yh, xh) float32 158MB dask.array<chunksize=(1, 300, 360), meta=np.ndarray>\n",
       "Attributes: (12/16)\n",
       "    NumFilesInSet:                            1\n",
       "    title:                                    MOM6 diagnostic fields table\n",
       "    associated_files:                         areacello: access-om3.mom6.h.st...\n",
       "    grid_type:                                regular\n",
       "    grid_tile:                                N/A\n",
       "    intake_esm_vars:                          ['ficeberg', 'friver']\n",
       "    ...                                       ...\n",
       "    intake_esm_attrs:variable_standard_name:  sea_water_salinity,sea_water_po...\n",
       "    intake_esm_attrs:variable_cell_methods:   ['time: mean', 'time: mean', 'z...\n",
       "    intake_esm_attrs:variable_units:          ['psu', 'degC', 'm3 s-1', 'm3 s...\n",
       "    intake_esm_attrs:file_id:                 access_om3_mom6_h_nativeXXXX_XX\n",
       "    intake_esm_attrs:_data_format_:           netcdf\n",
       "    intake_esm_dataset_key:                   access_om3_mom6_h_nativeXXXX_XX..."
      ]
     },
     "execution_count": 43,
     "metadata": {},
     "output_type": "execute_result"
    }
   ],
   "source": [
    "mom_frof_ds"
   ]
  },
  {
   "cell_type": "code",
   "execution_count": 44,
   "id": "4461c0de-b151-4837-bca9-96fde45030c5",
   "metadata": {
    "execution": {
     "iopub.execute_input": "2025-01-09T04:20:39.153117Z",
     "iopub.status.busy": "2025-01-09T04:20:39.152609Z",
     "iopub.status.idle": "2025-01-09T04:20:39.192400Z",
     "shell.execute_reply": "2025-01-09T04:20:39.191521Z",
     "shell.execute_reply.started": "2025-01-09T04:20:39.153083Z"
    }
   },
   "outputs": [],
   "source": [
    "mom_area = xr.open_dataset(om3_ds.search(variable='areacello').df.path[0])"
   ]
  },
  {
   "cell_type": "code",
   "execution_count": 54,
   "id": "c7a7fbf9-e230-4092-b5da-9463cc9e654f",
   "metadata": {
    "execution": {
     "iopub.execute_input": "2025-01-09T04:29:55.707340Z",
     "iopub.status.busy": "2025-01-09T04:29:55.706511Z",
     "iopub.status.idle": "2025-01-09T04:30:01.177992Z",
     "shell.execute_reply": "2025-01-09T04:30:01.175822Z",
     "shell.execute_reply.started": "2025-01-09T04:29:55.707275Z"
    }
   },
   "outputs": [
    {
     "data": {
      "text/plain": [
       "[<matplotlib.lines.Line2D at 0x14abbc4b2860>]"
      ]
     },
     "execution_count": 54,
     "metadata": {},
     "output_type": "execute_result"
    },
    {
     "data": {
      "image/png": "[encoded data removed]",
      "text/plain": [
       "<Figure size 640x480 with 1 Axes>"
      ]
     },
     "metadata": {},
     "output_type": "display_data"
    }
   ],
   "source": [
    "(mom_frof_ds.friver * mom_area.areacello).sum(['xh','yh']).plot()\n",
    "(ocn_med_ds.ocnExp_Foxx_rofl*med_areas).sum(['ocnExp_ny','ocnExp_nx']).plot()"
   ]
  },
  {
   "cell_type": "code",
   "execution_count": 55,
   "id": "43269d61-aaa4-4162-b37e-c04f301804fc",
   "metadata": {
    "execution": {
     "iopub.execute_input": "2025-01-09T04:30:08.925568Z",
     "iopub.status.busy": "2025-01-09T04:30:08.924883Z",
     "iopub.status.idle": "2025-01-09T04:30:12.662246Z",
     "shell.execute_reply": "2025-01-09T04:30:12.661273Z",
     "shell.execute_reply.started": "2025-01-09T04:30:08.925541Z"
    }
   },
   "outputs": [
    {
     "data": {
      "text/plain": [
       "[<matplotlib.lines.Line2D at 0x14abc0d60bb0>]"
      ]
     },
     "execution_count": 55,
     "metadata": {},
     "output_type": "execute_result"
    },
    {
     "data": {
      "image/png": "[encoded data removed]",
      "text/plain": [
       "<Figure size 640x480 with 1 Axes>"
      ]
     },
     "metadata": {},
     "output_type": "display_data"
    }
   ],
   "source": [
    "(mom_frof_ds.ficeberg * mom_area.areacello).sum(['xh','yh']).plot()\n",
    "(ocn_med_ds.ocnExp_Foxx_rofi*med_areas).sum(['ocnExp_ny','ocnExp_nx']).plot()"
   ]
  },
  {
   "cell_type": "markdown",
   "id": "87cbfcdf-7582-4220-af43-06ec110db2a2",
   "metadata": {},
   "source": [
    "And compare areas, shows only minor differences at the geographic north pole:"
   ]
  },
  {
   "cell_type": "code",
   "execution_count": 56,
   "id": "117deb51-f704-4f63-b841-083330c055a8",
   "metadata": {
    "execution": {
     "iopub.execute_input": "2025-01-09T04:30:12.713144Z",
     "iopub.status.busy": "2025-01-09T04:30:12.711641Z",
     "iopub.status.idle": "2025-01-09T04:30:13.611067Z",
     "shell.execute_reply": "2025-01-09T04:30:13.610140Z",
     "shell.execute_reply.started": "2025-01-09T04:30:12.713089Z"
    }
   },
   "outputs": [
    {
     "data": {
      "text/plain": [
       "<matplotlib.colorbar.Colorbar at 0x14abb88bfdc0>"
      ]
     },
     "execution_count": 56,
     "metadata": {},
     "output_type": "execute_result"
    },
    {
     "data": {
      "image/png": "[encoded data removed]",
      "text/plain": [
       "<Figure size 640x480 with 2 Axes>"
      ]
     },
     "metadata": {},
     "output_type": "display_data"
    }
   ],
   "source": [
    "plt.pcolor(med_areas - mom_area.areacello.values)\n",
    "plt.colorbar()"
   ]
  },
  {
   "cell_type": "code",
   "execution_count": null,
   "id": "a4a2a079-b9d3-4e8c-98be-5caf9d78144c",
   "metadata": {},
   "outputs": [],
   "source": []
  },
  {
   "cell_type": "markdown",
   "id": "9c214d9b-bdb6-427e-a226-6e833b3045bf",
   "metadata": {},
   "source": [
    "# And end to end ?"
   ]
  },
  {
   "cell_type": "code",
   "execution_count": 58,
   "id": "60d32121-fa42-4e27-8fe4-a69b5f2ddac6",
   "metadata": {
    "execution": {
     "iopub.execute_input": "2025-01-09T04:30:26.812468Z",
     "iopub.status.busy": "2025-01-09T04:30:26.811676Z",
     "iopub.status.idle": "2025-01-09T04:30:26.847270Z",
     "shell.execute_reply": "2025-01-09T04:30:26.846186Z",
     "shell.execute_reply.started": "2025-01-09T04:30:26.812414Z"
    }
   },
   "outputs": [],
   "source": [
    "mom_frunin_total = ((mom_frof_ds.friver+mom_frof_ds.ficeberg) * mom_area.areacello).sum(['xh','yh'])"
   ]
  },
  {
   "cell_type": "code",
   "execution_count": 59,
   "id": "04aa04e1-d897-44e8-ba55-a59f528b18b2",
   "metadata": {
    "execution": {
     "iopub.execute_input": "2025-01-09T04:30:28.553270Z",
     "iopub.status.busy": "2025-01-09T04:30:28.551587Z",
     "iopub.status.idle": "2025-01-09T04:30:33.313285Z",
     "shell.execute_reply": "2025-01-09T04:30:33.312328Z",
     "shell.execute_reply.started": "2025-01-09T04:30:28.553205Z"
    }
   },
   "outputs": [
    {
     "data": {
      "text/plain": [
       "[<matplotlib.lines.Line2D at 0x14abb8154430>]"
      ]
     },
     "execution_count": 59,
     "metadata": {},
     "output_type": "execute_result"
    },
    {
     "data": {
      "image/png": "[encoded data removed]",
      "text/plain": [
       "<Figure size 640x480 with 1 Axes>"
      ]
     },
     "metadata": {},
     "output_type": "display_data"
    }
   ],
   "source": [
    "jra_runoff.plot(label='jra55do')\n",
    "mom_frunin_total.plot(label='mom6')"
   ]
  },
  {
   "cell_type": "markdown",
   "id": "daa24c6f-262c-4a0b-9296-274329c124a6",
   "metadata": {},
   "source": [
    "And excluding the runoff south of 78S:"
   ]
  },
  {
   "cell_type": "code",
   "execution_count": 60,
   "id": "67fc3b02-9025-4ab9-8421-9cb973046e61",
   "metadata": {
    "execution": {
     "iopub.execute_input": "2025-01-09T04:31:46.163889Z",
     "iopub.status.busy": "2025-01-09T04:31:46.162735Z",
     "iopub.status.idle": "2025-01-09T04:31:53.928387Z",
     "shell.execute_reply": "2025-01-09T04:31:53.927235Z",
     "shell.execute_reply.started": "2025-01-09T04:31:46.163832Z"
    }
   },
   "outputs": [
    {
     "data": {
      "text/plain": [
       "[<matplotlib.lines.Line2D at 0x14ac45875e70>]"
      ]
     },
     "execution_count": 60,
     "metadata": {},
     "output_type": "execute_result"
    },
    {
     "data": {
      "image/png": "[encoded data removed]",
      "text/plain": [
       "<Figure size 640x480 with 1 Axes>"
      ]
     },
     "metadata": {},
     "output_type": "display_data"
    }
   ],
   "source": [
    "(jra_friver_runoff+jra_licalvf_runoff).plot(label='jra55do')\n",
    "mom_frunin_total.plot(label='mom6')"
   ]
  },
  {
   "cell_type": "raw",
   "id": "664f0b57-fc1f-40e7-ab9d-e3509587e534",
   "metadata": {},
   "source": []
  },
  {
   "cell_type": "code",
   "execution_count": 61,
   "id": "c79ce737-1596-4c1a-9dd2-5b01dc2171db",
   "metadata": {
    "execution": {
     "iopub.execute_input": "2025-01-09T04:32:45.461196Z",
     "iopub.status.busy": "2025-01-09T04:32:45.459084Z",
     "iopub.status.idle": "2025-01-09T04:32:47.401156Z",
     "shell.execute_reply": "2025-01-09T04:32:47.399714Z",
     "shell.execute_reply.started": "2025-01-09T04:32:45.461110Z"
    }
   },
   "outputs": [],
   "source": [
    "client.close()"
   ]
  },
  {
   "cell_type": "code",
   "execution_count": null,
   "id": "b82d3b39-8b0b-4607-ae68-c472fcd92204",
   "metadata": {},
   "outputs": [],
   "source": []
  }
 ],
 "metadata": {
  "kernelspec": {
   "display_name": "Python [conda env:analysis3-24.04] *",
   "language": "python",
   "name": "conda-env-analysis3-24.04-py"
  },
  "language_info": {
   "codemirror_mode": {
    "name": "ipython",
    "version": 3
   },
   "file_extension": ".py",
   "mimetype": "text/x-python",
   "name": "python",
   "nbconvert_exporter": "python",
   "pygments_lexer": "ipython3",
   "version": "3.10.14"
  }
 },
 "nbformat": 4,
 "nbformat_minor": 5
}
